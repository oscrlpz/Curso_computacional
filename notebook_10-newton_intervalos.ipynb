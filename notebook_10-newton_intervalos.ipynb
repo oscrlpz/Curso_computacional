{
 "metadata": {
  "language": "Julia",
  "name": "",
  "signature": "sha256:4b6ed74b75d00d212d156557769254e7361fdb8c7c46eeab99816d333c451b08"
 },
 "nbformat": 3,
 "nbformat_minor": 0,
 "worksheets": [
  {
   "cells": [
    {
     "cell_type": "heading",
     "level": 3,
     "metadata": {},
     "source": [
      "Notebook 10. M\u00e9todo de Newton en intervalos."
     ]
    },
    {
     "cell_type": "markdown",
     "metadata": {},
     "source": [
      "[1] Escribe una funci\u00f3n que calcule el operador de Newton para un intervalo $X$, dadas $f(x)$ y $f'(x)$."
     ]
    },
    {
     "cell_type": "code",
     "collapsed": false,
     "input": [
      "using Intervalos"
     ],
     "language": "python",
     "metadata": {},
     "outputs": [],
     "prompt_number": 14
    },
    {
     "cell_type": "markdown",
     "metadata": {},
     "source": [
      "Primero hay que definr la funci\u00f3n `mid` para un intervalo dado."
     ]
    },
    {
     "cell_type": "code",
     "collapsed": false,
     "input": [
      "function mid(x::Intervalo)\n",
      "    Intervalo((x.a+x.b)/2)\n",
      "end"
     ],
     "language": "python",
     "metadata": {},
     "outputs": [
      {
       "metadata": {},
       "output_type": "pyout",
       "prompt_number": 15,
       "text": [
        "mid (generic function with 1 method)"
       ]
      }
     ],
     "prompt_number": 15
    },
    {
     "cell_type": "markdown",
     "metadata": {},
     "source": [
      "Ya con esto es posible definir el operador $N(X) := M - \\frac{F(M)}{F'(X)}$ para `Intervalos`."
     ]
    },
    {
     "cell_type": "code",
     "collapsed": false,
     "input": [
      "function N(x::Intervalo, f::Function, df::Function)\n",
      "    m=mid(x)\n",
      "    m-f(m)/df(x)\n",
      "end"
     ],
     "language": "python",
     "metadata": {},
     "outputs": [
      {
       "metadata": {},
       "output_type": "pyout",
       "prompt_number": 16,
       "text": [
        "N (generic function with 1 method)"
       ]
      }
     ],
     "prompt_number": 16
    },
    {
     "cell_type": "markdown",
     "metadata": {},
     "source": [
      "-------------------------------\n",
      "[2] Implementa el m\u00e9todo de Newton para intervalos para encontrar las ra\u00edces de $f(x) = x^3 - 1$ a partir de $X=[-3,3]$. Muestra gr\u00e1ficamente la implementaci\u00f3n del m\u00e9todo. En cada iteraci\u00f3n subsecuente del m\u00e9todo, ilustra qu\u00e9 le pasa al di\u00e1metro de la refincaci\u00f3n del intervalo que vas obteniendo."
     ]
    },
    {
     "cell_type": "markdown",
     "metadata": {},
     "source": [
      "Primero hay que hacer una funci\u00f3n que permita llevar a cabo la intersecci\u00f3n entre dos intervalos. Lo que har\u00e9 ser\u00e1 introducir un nuevo m\u00e9todo al operador $\\cap$. "
     ]
    },
    {
     "cell_type": "code",
     "collapsed": false,
     "input": [
      "function \u2229(x::Intervalo, y::Intervalo)\n",
      "    if x.a>y.a\n",
      "        ra=x.a\n",
      "    else\n",
      "        ra=y.a\n",
      "    end\n",
      "    \n",
      "    if x.b<y.b\n",
      "        rb=x.b\n",
      "    else\n",
      "        rb=y.b\n",
      "    end\n",
      "    \n",
      "    if ra>rb\n",
      "        Intervalo(0)\n",
      "    else\n",
      "        Intervalo(ra,rb)\n",
      "    end\n",
      "end"
     ],
     "language": "python",
     "metadata": {},
     "outputs": [
      {
       "metadata": {},
       "output_type": "pyout",
       "prompt_number": 121,
       "text": [
        "intersect (generic function with 16 methods)"
       ]
      }
     ],
     "prompt_number": 121
    },
    {
     "cell_type": "markdown",
     "metadata": {},
     "source": [
      "Adicionalmente har\u00e9 una funci\u00f3n que mida la longitud de un intervalo:"
     ]
    },
    {
     "cell_type": "code",
     "collapsed": false,
     "input": [
      "function long(x::Intervalo)\n",
      "    abs(x.b-x.a)\n",
      "end"
     ],
     "language": "python",
     "metadata": {},
     "outputs": [
      {
       "metadata": {},
       "output_type": "pyout",
       "prompt_number": 122,
       "text": [
        "long (generic function with 1 method)"
       ]
      }
     ],
     "prompt_number": 122
    },
    {
     "cell_type": "markdown",
     "metadata": {},
     "source": [
      "Ahora si, para el metodo de newton para intervalos defino a siguiente funci\u00f3n:"
     ]
    },
    {
     "cell_type": "code",
     "collapsed": false,
     "input": [
      "function newton(x::Intervalo, tol, f::Function, df::Function)\n",
      "    xinit=x\n",
      "    while long(x)>tol \n",
      "        x=x\u2229N(x,f,df)\n",
      "    end\n",
      "    if sign(f(x).a)!=sign(f(x).b) \n",
      "        println(\"Puede haber una ra\u00edz en : \", x)\n",
      "    else\n",
      "        println(\"No hay ra\u00edces en: \", xinit)\n",
      "    end\n",
      "end"
     ],
     "language": "python",
     "metadata": {},
     "outputs": [
      {
       "metadata": {},
       "output_type": "pyout",
       "prompt_number": 123,
       "text": [
        "newton (generic function with 2 methods)"
       ]
      }
     ],
     "prompt_number": 123
    },
    {
     "cell_type": "code",
     "collapsed": false,
     "input": [
      "function newton(x::Intervalo, tol, f::Function, df::Function)\n",
      "    xinit=x\n",
      "    while long(x)>tol \n",
      "        x=x\u2229N(x,f,df)\n",
      "    end\n",
      "    x\n",
      "end"
     ],
     "language": "python",
     "metadata": {},
     "outputs": [
      {
       "metadata": {},
       "output_type": "pyout",
       "prompt_number": 124,
       "text": [
        "newton (generic function with 2 methods)"
       ]
      }
     ],
     "prompt_number": 124
    },
    {
     "cell_type": "markdown",
     "metadata": {},
     "source": [
      "En la funci\u00f3n de newton que acabo de definir, el n\u00famero de iteraciones esta dado por la toleracia que se utilice. Como m\u00e1s adelante se pide graficar un cierto n\u00famero de iteraciones del m\u00e9todo de Newton, entonces, definir\u00e9 una segunda funci\u00f3n que funcione introduciendo el n\u00famero de pasos a realizar."
     ]
    },
    {
     "cell_type": "code",
     "collapsed": false,
     "input": [
      "function newton_step(x::Intervalo, k, f::Function, df::Function)\n",
      "    xinit=x\n",
      "    for k=1:k\n",
      "        x=x\u2229N(x,f,df)\n",
      "    end\n",
      "    x\n",
      "end"
     ],
     "language": "python",
     "metadata": {},
     "outputs": [
      {
       "metadata": {},
       "output_type": "pyout",
       "prompt_number": 125,
       "text": [
        "newton_step (generic function with 1 method)"
       ]
      }
     ],
     "prompt_number": 125
    },
    {
     "cell_type": "markdown",
     "metadata": {},
     "source": [
      "Ahorita no ocupare el m\u00f3dulo de `Derivadas` sino que intriducir\u00e9 la derivada manualmente. ASi qeu las funciones usadas quedan como: $$f(x)=x^3-1, ~ f'(x)=3x^2$$\n",
      "\n",
      "Al utilizar el intervalo $X=[-3,3]$ se presenta el problema de que el cociente $\\frac{F(M)}{F'(X)}$ no esta definido ya que $X$ contiene al cero. Por esto es que ser\u00e1 necesario partir el intervalo y evaluar cada cacho por separado."
     ]
    },
    {
     "cell_type": "code",
     "collapsed": false,
     "input": [
      "function f(x)\n",
      "    x^3-1\n",
      "end\n",
      "\n",
      "function df(x)\n",
      "    3x^2\n",
      "end\n",
      "\n",
      "x=Intervalo(0.001,3)"
     ],
     "language": "python",
     "metadata": {},
     "outputs": [
      {
       "metadata": {},
       "output_type": "pyout",
       "prompt_number": 126,
       "text": [
        "Intervalo(9.999999999999999999999999999999999999999999999999999999999999999999999999999961e-04 with 256 bits of precision,3e+00 with 256 bits of precision)"
       ]
      }
     ],
     "prompt_number": 126
    },
    {
     "cell_type": "code",
     "collapsed": false,
     "input": [
      "using PyPlot\n",
      "function graficar_step(u::Real,v::Real, x::Intervalo, k, f::Function, df::Function)\n",
      "    y=[n for n=u:0.5/512:v]\n",
      "    g=[f(n) for n=u:0.5/512:v]\n",
      "    for i=1:k\n",
      "        r=newton_step(x::Intervalo, i, f::Function, df::Function)\n",
      "        PyPlot.fill_between([float64(r.a),float64(r.b)],float64(f(r).a),float64(f(r).b))\n",
      "    end\n",
      "    PyPlot.plot(y,g, color=\"red\")\n",
      "    xlim(u, v)\n",
      "    ylim(f(u), f(v))\n",
      "    show()\n",
      "end"
     ],
     "language": "python",
     "metadata": {},
     "outputs": [
      {
       "metadata": {},
       "output_type": "pyout",
       "prompt_number": 127,
       "text": [
        "graficar_step (generic function with 1 method)"
       ]
      }
     ],
     "prompt_number": 127
    },
    {
     "cell_type": "markdown",
     "metadata": {},
     "source": [
      "La siguente gr\u00e1fica muestra en los rectangulos azules cada unos de los diametros de los intervalos que se obtienen, despu\u00e9s de cada una de las iteraciones. Como existe una soluci\u00f3n y se converge a ella, los rect\u00e1ngulos se reducen en di\u00e1metro a cada iteraci\u00f3n."
     ]
    },
    {
     "cell_type": "code",
     "collapsed": false,
     "input": [
      "graficar_step(0.1,1.5,x,5,f,df)"
     ],
     "language": "python",
     "metadata": {},
     "outputs": [
      {
       "metadata": {},
       "output_type": "display_data",
       "png": "[encoded data removed]",
       "text": [
        "Figure(PyObject <matplotlib.figure.Figure object at 0x7f16c7d56f10>)"
       ]
      }
     ],
     "prompt_number": 128
    },
    {
     "cell_type": "markdown",
     "metadata": {},
     "source": [
      "Se observa que s\u00f3lo los primeros 4 primeros di\u00e1metros se alcanzan a observar, el cuarto ya es muy peque\u00f1o para ser visto. \n",
      "\n",
      "A continuaci\u00f3n se le da *zoom* a la gr\u00e1fica para ver m\u00e1s a detalle.\n"
     ]
    },
    {
     "cell_type": "code",
     "collapsed": false,
     "input": [
      "graficar_step(0.92,1.06,x,5,f,df)"
     ],
     "language": "python",
     "metadata": {},
     "outputs": [
      {
       "metadata": {},
       "output_type": "display_data",
       "png": "[encoded data removed]",
       "text": [
        "Figure(PyObject <matplotlib.figure.Figure object at 0x7f16c7c8ff50>)"
       ]
      }
     ],
     "prompt_number": 129
    },
    {
     "cell_type": "markdown",
     "metadata": {},
     "source": [
      "Ya se alcanza a ver el cuarto cuadro, pero como se logra apreciar el tama\u00f1o de cada uno reduce considerablemente a cada iteraci\u00f3n."
     ]
    },
    {
     "cell_type": "markdown",
     "metadata": {},
     "source": [
      "Para no tener que estar cortando a mano los intervalos que contengan al cero lo que har\u00e9 ser\u00e1 definir una nueva funci\u00f3n que realice el m\u00e9todo de Newton y pueda evaluar los intervalos que contengan al cero.\n",
      "\n",
      "Esto se har\u00e1 simplemente partiendo al intervalo $[-a, b]$ en los intervalos $[-a,-\\epsilon]$ y $[\\epsilon, b]$ donde $\\epsilon$ es el *machine epsilon* para *BigFloat*."
     ]
    },
    {
     "cell_type": "code",
     "collapsed": false,
     "input": [
      "function newton_0(x::Intervalo, tol, f::Function, df::Function)\n",
      "    xinit=x\n",
      "    if sign(x.a)!=sign(x.b) && x.a!=0 && x.b!=0\n",
      "        newton(Intervalo(x.a,-eps(BigFloat)), tol, f, df)\n",
      "        newton(Intervalo(eps(BigFloat),x.b), tol, f, df)  \n",
      "        \n",
      "    elseif x.a==0\n",
      "        newton(Intervalo(eps(BigFloat),x.b), tol, f, df)\n",
      "    elseif x.b==0\n",
      "        newton(Intervalo(x.a,-eps(BigFloat)), tol, f, df)\n",
      "\n",
      "    else\n",
      "        newton(x, tol, f, df)\n",
      "        \n",
      "    end\n",
      "    \n",
      "end"
     ],
     "language": "python",
     "metadata": {},
     "outputs": [
      {
       "metadata": {},
       "output_type": "pyout",
       "prompt_number": 130,
       "text": [
        "newton_0 (generic function with 2 methods)"
       ]
      }
     ],
     "prompt_number": 130
    },
    {
     "cell_type": "markdown",
     "metadata": {},
     "source": [
      "Y para que la respuesta obtenida est\u00e9 \"bonita\" y no solo sean n\u00fameros, se define la funcion `newton_respuesta` que lo que hace es tal cual decir donde esta posiblemente la ra\u00edz o donde definitivamente no hay ra\u00edz."
     ]
    },
    {
     "cell_type": "code",
     "collapsed": false,
     "input": [
      "function newton_respuesta(x::Intervalo, tol, f::Function, df::Function)\n",
      "    xinit=x\n",
      "    if newton_0(xinit::Intervalo, tol, f::Function, df::Function).a==0 && newton_0(xinit::Intervalo, tol, f::Function, df::Function).b==0\n",
      "    #if typeof(newton_0(xinit::Intervalo, tol, f::Function, df::Function))==Nothing\n",
      "        println(\"No hay ra\u00edz en \", xinit)\n",
      "    else\n",
      "        println(\"Puede haber una ra\u00edz en \", newton_0(xinit::Intervalo, tol, f::Function, df::Function))\n",
      "    end\n",
      "end\n"
     ],
     "language": "python",
     "metadata": {},
     "outputs": [
      {
       "metadata": {},
       "output_type": "pyout",
       "prompt_number": 131,
       "text": [
        "newton_respuesta (generic function with 2 methods)"
       ]
      }
     ],
     "prompt_number": 131
    },
    {
     "cell_type": "markdown",
     "metadata": {},
     "source": [
      "Ahora s\u00ed, evaluando el m\u00e9todo de Newton en el intervalo $[-3,3]$ para la funci\u00f3n $f(x)$, se llega a que:"
     ]
    },
    {
     "cell_type": "code",
     "collapsed": false,
     "input": [
      "newton_respuesta(Intervalo(-3,3), 10^(-5.), f, df)"
     ],
     "language": "python",
     "metadata": {},
     "outputs": [
      {
       "output_type": "stream",
       "stream": "stdout",
       "text": [
        "Puede haber una ra\u00edz en Intervalo"
       ]
      },
      {
       "output_type": "stream",
       "stream": "stdout",
       "text": [
        "(9.999987651967248945388114155617175836427693197233300814646836646773261080249688e-01 with 256 bits of precision,1.000001506848609174365000355692211239190556234134796074310668455427731622582809e+00 with 256 bits of precision)\n"
       ]
      }
     ],
     "prompt_number": 134
    },
    {
     "cell_type": "markdown",
     "metadata": {},
     "source": [
      "Esto coincide con el hecho de que la ra\u00edz de $f(x)$ es $1$."
     ]
    },
    {
     "cell_type": "markdown",
     "metadata": {},
     "source": [
      "----------------------\n",
      "[3] Usando tu implementaci\u00f3n, *demuestra* que en el mismo intervalo $X=[-3,3]$ que $g(x) = x^2+1$ no tiene ninguna ra\u00edz. Ilustra gr\u00e1ficamente esto.\n",
      "\n",
      "Hint: En el caso en que $0\\in F'(x)$ las hip\u00f3tesis del teorema no se cumplen. En ese caso hay que dividir el intervalo (bisecci\u00f3n por ejemplo) y tratar de que las hip\u00f3tesis del teorema se cumplan, para poder aplicarlo. Extiende tus funciones para que incluyan esta situaci\u00f3n. En ese caso, cada subdivisi\u00f3n debe ser probada si puede o no tener una ra\u00edz."
     ]
    },
    {
     "cell_type": "markdown",
     "metadata": {},
     "source": [
      "Defino la funci\u00f3n $g(x)=x^2+1$  y su derivada $g'(x)=2x$."
     ]
    },
    {
     "cell_type": "code",
     "collapsed": true,
     "input": [
      "function g(x)\n",
      "    x^2+1\n",
      "end\n",
      "\n",
      "function dg(x)\n",
      "    2x\n",
      "end"
     ],
     "language": "python",
     "metadata": {},
     "outputs": [
      {
       "metadata": {},
       "output_type": "pyout",
       "prompt_number": 135,
       "text": [
        "dg (generic function with 1 method)"
       ]
      }
     ],
     "prompt_number": 135
    },
    {
     "cell_type": "markdown",
     "metadata": {},
     "source": [
      "Y busco soluciones para dicha funci\u00f3n en el intervalo $[-3,3]$. De nuevo parto el intervalo para no ocupar en $0$ en la divisi\u00f3n."
     ]
    },
    {
     "cell_type": "code",
     "collapsed": false,
     "input": [
      "newton_respuesta(Intervalo(-3,3), 10^(-5.), g, dg)"
     ],
     "language": "python",
     "metadata": {},
     "outputs": [
      {
       "output_type": "stream",
       "stream": "stdout",
       "text": [
        "No hay ra\u00edz en Intervalo"
       ]
      },
      {
       "output_type": "stream",
       "stream": "stdout",
       "text": [
        "(-3e+00 with 256 bits of precision,3e+00 with 256 bits of precision)\n"
       ]
      }
     ],
     "prompt_number": 136
    },
    {
     "cell_type": "markdown",
     "metadata": {},
     "source": [
      "--------------------\n",
      "[4] Considera la familia de polinomios de Wilkinson definidos por $W_n(x) = \\prod_{i=1}^n(x-i)$. Partiendo de un intervalo sim\u00e9trico alrededor de cero, implementa el m\u00e9todo de Newton para encontrar sus ra\u00edces, utilizando diferenciaci\u00f3n autom\u00e1tica."
     ]
    },
    {
     "cell_type": "markdown",
     "metadata": {},
     "source": [
      "Primero reescribir\u00e9 el m\u00e9todo de Newton que he estado utilizando pero ahora con diferenciaci\u00f3n autom\u00e1tica."
     ]
    },
    {
     "cell_type": "code",
     "collapsed": false,
     "input": [
      "using Derivadas\n",
      "\n",
      "function N(x::Intervalo, f::Function)\n",
      "    m=mid(x)\n",
      "    m-f(m)/f(FD(x,1)).d\n",
      "end\n",
      "\n",
      "\n"
     ],
     "language": "python",
     "metadata": {},
     "outputs": [
      {
       "metadata": {},
       "output_type": "pyout",
       "prompt_number": 137,
       "text": [
        "N (generic function with 2 methods)"
       ]
      }
     ],
     "prompt_number": 137
    },
    {
     "cell_type": "code",
     "collapsed": false,
     "input": [
      "function newton(x::Intervalo, tol, f::Function)\n",
      "    while long(x)>tol\n",
      "        x=x\u2229N(x,f)\n",
      "    end\n",
      "    x\n",
      "end\n"
     ],
     "language": "python",
     "metadata": {},
     "outputs": [
      {
       "metadata": {},
       "output_type": "pyout",
       "prompt_number": 138,
       "text": [
        "newton (generic function with 2 methods)"
       ]
      }
     ],
     "prompt_number": 138
    },
    {
     "cell_type": "code",
     "collapsed": false,
     "input": [
      "function newton_0(x::Intervalo, tol, f::Function)\n",
      "    xinit=x\n",
      "    if sign(x.a)!=sign(x.b) && x.a!=0 && x.b!=0\n",
      "        newton(Intervalo(x.a,-eps(BigFloat)), tol, f)\n",
      "        newton(Intervalo(eps(BigFloat),x.b), tol, f)  \n",
      "        \n",
      "    elseif x.a==0\n",
      "        newton(Intervalo(eps(BigFloat),x.b), tol, f)\n",
      "    elseif x.b==0\n",
      "        newton(Intervalo(x.a,-eps(BigFloat)), tol, f)\n",
      "\n",
      "    else\n",
      "        newton(x, tol, f)\n",
      "        \n",
      "    end\n",
      "    \n",
      "end\n",
      "\n"
     ],
     "language": "python",
     "metadata": {},
     "outputs": [
      {
       "metadata": {},
       "output_type": "pyout",
       "prompt_number": 139,
       "text": [
        "newton_0 (generic function with 2 methods)"
       ]
      }
     ],
     "prompt_number": 139
    },
    {
     "cell_type": "code",
     "collapsed": false,
     "input": [
      "function newton_respuesta(x::Intervalo, tol, f::Function)\n",
      "    xinit=x\n",
      "    if newton_0(xinit::Intervalo, tol, f::Function).a==0 && newton_0(xinit::Intervalo, tol, f::Function).b==0\n",
      "        println(\"No hay ra\u00edz en \", xinit)\n",
      "    else\n",
      "        println(\"Puede haber una ra\u00edz en \", newton_0(xinit::Intervalo, tol, f::Function))\n",
      "    end\n",
      "end"
     ],
     "language": "python",
     "metadata": {},
     "outputs": [
      {
       "metadata": {},
       "output_type": "pyout",
       "prompt_number": 140,
       "text": [
        "newton_respuesta (generic function with 2 methods)"
       ]
      }
     ],
     "prompt_number": 140
    },
    {
     "cell_type": "markdown",
     "metadata": {},
     "source": [
      "Ahora, para definir los polinomios de Wilkinson:"
     ]
    },
    {
     "cell_type": "code",
     "collapsed": false,
     "input": [
      "function wilkinson(x,n)\n",
      "    w=1\n",
      "    for i=1:n\n",
      "        w=w*(x-i)\n",
      "    end\n",
      "    w\n",
      "end\n",
      "\n",
      "#wfunction wilkinson5(x)\n",
      "    "
     ],
     "language": "python",
     "metadata": {},
     "outputs": [
      {
       "metadata": {},
       "output_type": "pyout",
       "prompt_number": 141,
       "text": [
        "wilkinson (generic function with 1 method)"
       ]
      }
     ],
     "prompt_number": 141
    },
    {
     "cell_type": "code",
     "collapsed": false,
     "input": [
      "x=Intervalo(-5,5)\n",
      "f1(x)=wilkinson(x,n)\n",
      "n=1\n",
      "newton_respuesta(x,0.00000001, f1)\n"
     ],
     "language": "python",
     "metadata": {},
     "outputs": [
      {
       "output_type": "stream",
       "stream": "stdout",
       "text": [
        "Puede haber una ra\u00edz en Intervalo"
       ]
      },
      {
       "output_type": "stream",
       "stream": "stdout",
       "text": [
        "(9.999999999999999999999999999999999999999999999999999999999999999999999999999655e-01 with 256 bits of precision,1.000000000000000000000000000000000000000000000000000000000000000000000000000069e+00 with 256 bits of precision)\n"
       ]
      }
     ],
     "prompt_number": 142
    },
    {
     "cell_type": "markdown",
     "metadata": {},
     "source": [
      "Y as\u00ed encuentra la ra\u00edz del polinomio de Wilkinson $W_1$. Hay problemas con los polinomios de Wilkison de orden superior ya que ocurren divisiones entre cero, es por esto que me pasare a la parte de redefinir las divisiones con intervalos que ocntengan el cero y asi evadir este problema. Desp\u00faes regresar\u00e9 a encontrar multiples ra\u00edces."
     ]
    },
    {
     "cell_type": "markdown",
     "metadata": {},
     "source": [
      "------------------------\n",
      "Hasta ahora, s\u00f3lo hemos podido tratar el caso en el cual la derivada $F'(X)$ no contiene $0$. Sin embargo, resulta que es posible tratar tambi\u00e9n este caso, mediante \"divisi\u00f3n extendida\".\n",
      "\n",
      "[5] Sup\u00f3n que $F'(X)$ sea un intervalo, digamos $F'(X) = [-a, b]$, que contiene $0$ (con $a, b > 0$). \n",
      "\n",
      "(i) Definiendo $1/A$ como el conjunto $\\{1/x: x \\in A \\}$, eval\u00faa $1/F'(X)$. \n",
      "\n"
     ]
    },
    {
     "cell_type": "markdown",
     "metadata": {},
     "source": [
      "Se puede pensar esto como un mapeo punto por punto. Todos los valores que van de $[-a,0]$ se ir\u00e1n a $[-\\infty,-\\frac{1}{a}]$ y los puntos que van de $[0,b]$ se ir\u00e1n a $[\\frac{1}{b},\\infty]$. As\u00ed que $1/F'(X)$ vendr\u00e1 siend la uni\u00f3n de $[-\\infty,-\\frac{1}{a}]$ con $ [\\frac{1}{b},\\infty]$"
     ]
    },
    {
     "cell_type": "code",
     "collapsed": false,
     "input": [
      "function Inversa(x)\n",
      "    [Intervalo(-inf(BigFloat),(1/Intervalo(x.a)).b),Intervalo((1/Intervalo(x.b)).a,inf(BigFloat))]\n",
      "end\n"
     ],
     "language": "python",
     "metadata": {},
     "outputs": [
      {
       "metadata": {},
       "output_type": "pyout",
       "prompt_number": 143,
       "text": [
        "Inversa (generic function with 1 method)"
       ]
      }
     ],
     "prompt_number": 143
    },
    {
     "cell_type": "markdown",
     "metadata": {},
     "source": [
      "El problema es que al hacer esto se crean dos intervalos sobre los que se trabajara ahora. Como ejemplo v\u00e9ase lo que ssucede cuando se saca la inversa del intervalo que se ha vendio ocupando $[-3,3]$."
     ]
    },
    {
     "cell_type": "code",
     "collapsed": true,
     "input": [
      "Inversa(Intervalo(-3,3))"
     ],
     "language": "python",
     "metadata": {},
     "outputs": [
      {
       "metadata": {},
       "output_type": "pyout",
       "prompt_number": 144,
       "text": [
        "2-element Array{Intervalo,1}:\n",
        " Intervalo(-inf with 256 bits of precision,-3.333333333333333333333333333333333333333333333333333333333333333333333333333305e-01 with 256 bits of precision)\n",
        " Intervalo(3.333333333333333333333333333333333333333333333333333333333333333333333333333305e-01 with 256 bits of precision,inf with 256 bits of precision)  "
       ]
      }
     ],
     "prompt_number": 144
    },
    {
     "cell_type": "markdown",
     "metadata": {},
     "source": [
      "Para aplicar esto se reescribir\u00e1n (de nuevo) las funciones necesarias para llevar a cabo el m\u00e9todo de Newton."
     ]
    },
    {
     "cell_type": "code",
     "collapsed": false,
     "input": [
      "function N_ext(x::Intervalo, f::Function)\n",
      "    m=mid(x)\n",
      "    inv_df=Inversa(f(FD(x,1)).d)\n",
      "    sol=Intervalo[]\n",
      "    for i=1:2\n",
      "        #m-f(m)*inv_df[i]\n",
      "        sol=push!(sol,m-f(m)*inv_df[i])\n",
      "    end\n",
      "    sol\n",
      "    \n",
      "    \n",
      "end"
     ],
     "language": "python",
     "metadata": {},
     "outputs": [
      {
       "metadata": {},
       "output_type": "pyout",
       "prompt_number": 164,
       "text": [
        "N_ext (generic function with 1 method)"
       ]
      }
     ],
     "prompt_number": 164
    },
    {
     "cell_type": "code",
     "collapsed": false,
     "input": [
      "function newton_ext(x::Intervalo, tol, f::Function)\n",
      "        #sol=Intervalo[]\n",
      "\n",
      "    for k=1:length(N_ext(x,f))\n",
      "        while long(x)>tol\n",
      "            x=x\u2229N_ext(x,f)[k]\n",
      "        end\n",
      "        #sol=push!(sol,x)\n",
      "    end\n",
      "    #sol\n",
      "    x\n",
      "end\n"
     ],
     "language": "python",
     "metadata": {},
     "outputs": [
      {
       "metadata": {},
       "output_type": "pyout",
       "prompt_number": 180,
       "text": [
        "newton_ext (generic function with 1 method)"
       ]
      }
     ],
     "prompt_number": 180
    },
    {
     "cell_type": "markdown",
     "metadata": {},
     "source": [
      "--------------------\n",
      "[6] Resulta que el m\u00e9todo de Newton sigue funcionando si utilizamos esta divisi\u00f3n extendida cu\u00e1ndo sea apropiado. Implem\u00e9ntalo para encontrar *todas* las ra\u00edces de una funci\u00f3n en un intervalo dado.\n",
      "\n",
      "Nota que hay casos en los cuales no ocurre ninguna de las posibilidades (1) ni (2) en el teorema del m\u00e9todo de Newton para intervalos. \u00bfQu\u00e9 se puede hacer en este caso?"
     ]
    },
    {
     "cell_type": "markdown",
     "metadata": {},
     "source": [
      "Como ejemplo se ocupar\u00e1 el polinomio de Wilkins $W_6$."
     ]
    },
    {
     "cell_type": "code",
     "collapsed": false,
     "input": [
      "n=6\n",
      "w(x)=wilkinson(x,n)"
     ],
     "language": "python",
     "metadata": {},
     "outputs": [
      {
       "metadata": {},
       "output_type": "pyout",
       "prompt_number": 189,
       "text": [
        "w (generic function with 1 method)"
       ]
      }
     ],
     "prompt_number": 189
    },
    {
     "cell_type": "markdown",
     "metadata": {},
     "source": [
      "Y a continuaci\u00f3n se encuentran sus 6 ra\u00edces. S\u00f3lo que aun no puedo encontrar m\u00e1s dde una ra\u00edz asi que debo de buscar una por una cambiando el intervalo inicial.\n",
      "\n",
      "Para la ra\u00edz $x_1=1$:"
     ]
    },
    {
     "cell_type": "code",
     "collapsed": false,
     "input": [
      "x=Intervalo(-2,2)\n",
      "newton_ext(x, 0.001, w)"
     ],
     "language": "python",
     "metadata": {},
     "outputs": [
      {
       "metadata": {},
       "output_type": "pyout",
       "prompt_number": 190,
       "text": [
        "Intervalo(9.999576599699431753995143721530566591144193801228446060032043474381924822335072e-01 with 256 bits of precision,1.000106319230194509112503410996946182764495765075496987734428104062447289749777e+00 with 256 bits of precision)"
       ]
      }
     ],
     "prompt_number": 190
    },
    {
     "cell_type": "markdown",
     "metadata": {},
     "source": [
      "Para la ra\u00edz $x_2=2$:"
     ]
    },
    {
     "cell_type": "code",
     "collapsed": false,
     "input": [
      "x=Intervalo(1.5,2.5)\n",
      "newton_ext(x, 0.001, w)"
     ],
     "language": "python",
     "metadata": {},
     "outputs": [
      {
       "metadata": {},
       "output_type": "pyout",
       "prompt_number": 199,
       "text": [
        "Intervalo(2e+00 with 256 bits of precision,2e+00 with 256 bits of precision)"
       ]
      }
     ],
     "prompt_number": 199
    },
    {
     "cell_type": "markdown",
     "metadata": {},
     "source": [
      "Para la ra\u00edz $x_3=3$:"
     ]
    },
    {
     "cell_type": "code",
     "collapsed": false,
     "input": [
      "x=Intervalo(-4,4)\n",
      "newton_ext(x, 0.001, w)"
     ],
     "language": "python",
     "metadata": {},
     "outputs": [
      {
       "metadata": {},
       "output_type": "pyout",
       "prompt_number": 192,
       "text": [
        "Intervalo(2.999999852618769898899862149686602709922642897639872125434853231020010075429336e+00 with 256 bits of precision,3.000002996325912777656130599740304647733116044793207856213326611858057374843491e+00 with 256 bits of precision)"
       ]
      }
     ],
     "prompt_number": 192
    },
    {
     "cell_type": "markdown",
     "metadata": {},
     "source": [
      "Para la ra\u00edz $x_4=4$:"
     ]
    },
    {
     "cell_type": "code",
     "collapsed": false,
     "input": [
      "x=Intervalo(3.5,4.5)\n",
      "newton_ext(x, 0.001, w)"
     ],
     "language": "python",
     "metadata": {},
     "outputs": [
      {
       "metadata": {},
       "output_type": "pyout",
       "prompt_number": 205,
       "text": [
        "Intervalo(4e+00 with 256 bits of precision,4e+00 with 256 bits of precision)"
       ]
      }
     ],
     "prompt_number": 205
    },
    {
     "cell_type": "markdown",
     "metadata": {},
     "source": [
      "Para la ra\u00edz $x_5=5$:"
     ]
    },
    {
     "cell_type": "code",
     "collapsed": false,
     "input": [
      "x=Intervalo(-7,6)\n",
      "newton_ext(x, 0.001, w)"
     ],
     "language": "python",
     "metadata": {},
     "outputs": [
      {
       "metadata": {},
       "output_type": "pyout",
       "prompt_number": 194,
       "text": [
        "Intervalo(4.999998429087684543435987031348116048773123466088965520110211261971254224669057e+00 with 256 bits of precision,5.000035805761043030533369552118059499032887916945553144698994422329476067697402e+00 with 256 bits of precision)"
       ]
      }
     ],
     "prompt_number": 194
    },
    {
     "cell_type": "markdown",
     "metadata": {},
     "source": [
      "Y para la ra\u00edz $x_6=6$:"
     ]
    },
    {
     "cell_type": "code",
     "collapsed": false,
     "input": [
      "x=Intervalo(5.5,6.5)\n",
      "newton_ext(x, 0.001, w)"
     ],
     "language": "python",
     "metadata": {},
     "outputs": [
      {
       "metadata": {},
       "output_type": "pyout",
       "prompt_number": 208,
       "text": [
        "Intervalo(6e+00 with 256 bits of precision,6e+00 with 256 bits of precision)"
       ]
      }
     ],
     "prompt_number": 208
    },
    {
     "cell_type": "markdown",
     "metadata": {},
     "source": [
      "El siguiente paso es ver como hacerle para encontrar m\u00e1s de una ra\u00edz de un jal\u00f3n."
     ]
    }
   ],
   "metadata": {}
  }
 ]
}
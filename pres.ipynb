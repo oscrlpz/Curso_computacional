{
 "metadata": {
  "celltoolbar": "Slideshow",
  "kernelspec": {
   "display_name": "Python 2",
   "language": "python",
   "name": "python2"
  },
  "language": "Julia",
  "language_info": {
   "codemirror_mode": {
    "name": "ipython",
    "version": 2
   },
   "file_extension": ".py",
   "mimetype": "text/x-python",
   "name": "python",
   "nbconvert_exporter": "python",
   "pygments_lexer": "ipython2",
   "version": "2.7.9"
  },
  "name": "",
  "signature": "sha256:be5dfe780848c7cca10ba5820d9d131131a91a2301b733f0076739376851ea4f"
 },
 "nbformat": 3,
 "nbformat_minor": 0,
 "worksheets": [
  {
   "cells": [
    {
     "cell_type": "heading",
     "level": 1,
     "metadata": {
      "slideshow": {
       "slide_type": "slide"
      }
     },
     "source": [
      "Quantum efficiencies in finite disordered networks"
     ]
    },
    {
     "cell_type": "heading",
     "level": 2,
     "metadata": {},
     "source": [
      "A model with the k-body embedded ensembles of Random Matrices"
     ]
    },
    {
     "cell_type": "heading",
     "level": 2,
     "metadata": {
      "slideshow": {
       "slide_type": "slide"
      }
     },
     "source": [
      "Motivation"
     ]
    },
    {
     "cell_type": "markdown",
     "metadata": {
      "slideshow": {
       "slide_type": "-"
      }
     },
     "source": [
      "Robust and efficient transport accross a network, e.g. Fenna-Mathews-Olson (FMO) complex\n",
      "\n",
      "<img src=\"./manan-icf2015-1.pdf\">"
     ]
    },
    {
     "cell_type": "markdown",
     "metadata": {
      "slideshow": {
       "slide_type": "subslide"
      }
     },
     "source": [
      "Main interesting quantity\n",
      "\n",
      "\\begin{equation}\n",
      "\\mathcal{P}_{\\rm in, out} = \\max_{[0,T]} |\\langle out | U(t) | in \\rangle|^2.\n",
      "\\end{equation}\n",
      "\n",
      "<img src=\"PRL111_180601_f1.png\">\n",
      "\n",
      "From Walschaers et al, PRL **111**, 180601 (2014).\n"
     ]
    },
    {
     "cell_type": "markdown",
     "metadata": {
      "slideshow": {
       "slide_type": "slide"
      }
     },
     "source": [
      "## Best efficiencies for Bosons\n",
      "\n",
      "### l=2, n=9\n",
      "\n",
      "<img src=\"begoe.pdf\">\n"
     ]
    },
    {
     "cell_type": "markdown",
     "metadata": {},
     "source": [
      "### A. Ortega, Manan Vyas and L. Benet\n",
      "\n",
      "### [arXiv:1503.02027](arXiv.org/abs/1503.02027)"
     ]
    },
    {
     "cell_type": "markdown",
     "metadata": {
      "slideshow": {
       "slide_type": "subslide"
      }
     },
     "source": [
      "## Best efficiencies for Bosons + CS\n",
      "\n",
      "### l=2, n=9\n",
      "\n",
      "<img src=\"begoecs.pdf\">"
     ]
    },
    {
     "cell_type": "markdown",
     "metadata": {
      "slideshow": {
       "slide_type": "slide"
      }
     },
     "source": [
      "## Best efficiencies for Fermions\n",
      "\n",
      "### l=6, n=1:5 and k=1:5\n",
      "\n",
      "<img src=\"egoe.pdf\">\n"
     ]
    },
    {
     "cell_type": "markdown",
     "metadata": {
      "slideshow": {
       "slide_type": "subslide"
      }
     },
     "source": [
      "## Best efficiencies for Fermions + CS\n",
      "\n",
      "### l=6, n=1:5 and k=1:5\n",
      "\n",
      "<img src=\"egoecs.pdf\">\n",
      "\n"
     ]
    }
   ],
   "metadata": {}
  }
 ]
}
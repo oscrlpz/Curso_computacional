{
 "metadata": {
  "language": "Julia",
  "name": "",
  "signature": "sha256:a935a2a4622f55ba632e921a6ad521161f1e76c3aeeedfa81906f8cba41b53e7"
 },
 "nbformat": 3,
 "nbformat_minor": 0,
 "worksheets": [
  {
   "cells": [
    {
     "cell_type": "heading",
     "level": 3,
     "metadata": {},
     "source": [
      "Notebook 8. An\u00e1lisis de intervalos"
     ]
    },
    {
     "cell_type": "code",
     "collapsed": false,
     "input": [
      "using Intervalos"
     ],
     "language": "python",
     "metadata": {},
     "outputs": [],
     "prompt_number": 1
    },
    {
     "cell_type": "markdown",
     "metadata": {},
     "source": [
      "-----------------\n",
      "\n",
      "[1]\n",
      "\n",
      "Ampl\u00eda tu m\u00f3dulo de intervalos para que incluya la extensi\u00f3n de las funciones est\u00e1ndres mon\u00f3tonas a intervalos. En el caso de las potencias, exti\u00e9nde lo que ya hayas hecho para que incluya potencias reales. Incluye algunas pruebas en `pruebas.jl` que muestren que lo que has hecho funciona *bien*.\n",
      "\n",
      "_______"
     ]
    },
    {
     "cell_type": "markdown",
     "metadata": {},
     "source": [
      "i) Lo ampliar\u00e9 de tal modo que incluya una funci\u00f3n llamada `extension_mono` que me devuelva la extensi\u00f3n natural de alguna funci\u00f3n mon\u00f3tona. En el caso de una funci\u00f3n mon\u00f3tona esto es muy sencillo ya que se cumple que dado un intervalo: $$F([a,b]) = [F(a),F(b)]$$."
     ]
    },
    {
     "cell_type": "code",
     "collapsed": false,
     "input": [
      "function monot(x::Intervalo, f::Function)\n",
      "    if f(x.a)<f(x.b)\n",
      "        Intervalo(f(x.a),f(x.b))\n",
      "    else\n",
      "        Intervalo(f(x.b),f(x.a))\n",
      "    end\n",
      "end   \n",
      "function monot(x::Real, f::Function)\n",
      "    f(x)\n",
      "end    "
     ],
     "language": "python",
     "metadata": {},
     "outputs": [
      {
       "metadata": {},
       "output_type": "pyout",
       "prompt_number": 2,
       "text": [
        "monot (generic function with 2 methods)"
       ]
      }
     ],
     "prompt_number": 2
    },
    {
     "cell_type": "markdown",
     "metadata": {},
     "source": [
      "Para probarla se usar\u00e1 como ejemplo la funci\u00f3n mon\u00f3tona $e^x$:"
     ]
    },
    {
     "cell_type": "code",
     "collapsed": false,
     "input": [
      "monot(Intervalo(0,5),exp)"
     ],
     "language": "python",
     "metadata": {},
     "outputs": [
      {
       "metadata": {},
       "output_type": "pyout",
       "prompt_number": 3,
       "text": [
        "Intervalo(1e+00 with 256 bits of precision,1.484131591025766034211155800405522796234876675938789890467528451109120648209629e+02 with 256 bits of precision)"
       ]
      }
     ],
     "prompt_number": 3
    },
    {
     "cell_type": "markdown",
     "metadata": {},
     "source": [
      "Que coincide con lo que se buscaba encontrar y definir."
     ]
    },
    {
     "cell_type": "markdown",
     "metadata": {},
     "source": [
      "Para las potencias reales lo que se hizo fue a\u00f1adir la siguiente funci\u00f3n al modulo de `Intervalos`."
     ]
    },
    {
     "cell_type": "raw",
     "metadata": {},
     "source": [
      "function ^(x::Intervalo, a::FloatingPoint)\n",
      "    r=Intervalo(0,0)\n",
      "    if mod(a,1)==0\n",
      "        n=int(a)\n",
      "        r=x^n\n",
      "    else\n",
      "        if x.a<0 || x.b<0\n",
      "            throw(DomainError())\n",
      "        else\n",
      "            r=Intervalo(x.a^a, x.b^a)#ya que x^a es mon\u00f3tonamente creciente\n",
      "        end\n",
      "    end\n",
      "    r\n",
      "end"
     ]
    },
    {
     "cell_type": "markdown",
     "metadata": {},
     "source": [
      "Lo que hace es primero evaluar si el flotante que se usa como exponente es entero o no, s\u00ed lo es, se eval\u00faa como la potencia para enteros ya definida en el notebook pasado. De lo contrario entra en un `if` para saber s\u00ed alguna de las entradas del `Intervalo` $\\bf{x}$ tiene un negativo, de ser ese el caso devuelve un `DomainError` y de caso contrario procede a evaluar la potencia como una funci\u00f3n mon\u00f3tona.\n",
      "\n",
      "---------------------------------"
     ]
    },
    {
     "cell_type": "markdown",
     "metadata": {},
     "source": [
      "----------------\n",
      "[2]\n",
      "\u00bfC\u00f3mo definir\u00edas la extensi\u00f3n a intervalos para funciones no mon\u00f3tonas? Repite [1] para este caso."
     ]
    },
    {
     "cell_type": "markdown",
     "metadata": {},
     "source": [
      "------------------------\n",
      "Ser\u00eda necesario partir dicha funci\u00f3n en secciones donde sea \u00fanicamente mon\u00f3tona. Aplicar la funci\u00f3n `monot(x,f)` para as\u00ed obtener la extensi\u00f3n natural de cada uno de estos intervalos mon\u00f3tonos y luego sumar cada una de las extensiones obtenidas.\n",
      "\n",
      "Una manera de realizar dicha partici\u00f3n de intervalos ser\u00eda identificando las secciones mon\u00f3tonas con la derivada. Ya que siempre que cambia de direcci\u00f3n la pendiente, la derivada se hace cero.\n",
      "\n",
      "-----------------"
     ]
    },
    {
     "cell_type": "markdown",
     "metadata": {},
     "source": [
      "______________\n",
      "\n",
      "[3] \n",
      "\n",
      "La extensi\u00f3n natural del intervalo para $f(x)=x/(1+x^2)$ es $F(\\mathbf{x})=\\mathbf{x}/(1+\\mathbf{x}^2)$. \u00bfCu\u00e1l es la extensi\u00f3n natural del intervalo para $\\mathbf{x}=[1,2]$? \u00bfC\u00f3mo se compara con el rango $R(f; [1,2])$. Ilustra los resultados con una gr\u00e1fica."
     ]
    },
    {
     "cell_type": "markdown",
     "metadata": {},
     "source": [
      "----------------\n",
      "La extensi\u00f3n natural de $f$ corresponde al valor de la funci\u00f3n evaluada en $\\mathbf{x} = [1,2]$ donde $\\bf{x}$ se evaluar\u00e1 en $f$ siendo un tipo `Intervalo`.\n",
      "\n",
      "A continuaci\u00f3n se define la funci\u00f3n $f(x)$ nombr\u00e1ndola `f1`."
     ]
    },
    {
     "cell_type": "code",
     "collapsed": false,
     "input": [
      "function f1(x)\n",
      "    x/(1+x^2)\n",
      "end"
     ],
     "language": "python",
     "metadata": {},
     "outputs": [
      {
       "metadata": {},
       "output_type": "pyout",
       "prompt_number": 4,
       "text": [
        "f1 (generic function with 1 method)"
       ]
      }
     ],
     "prompt_number": 4
    },
    {
     "cell_type": "markdown",
     "metadata": {},
     "source": [
      "Y al evaluar `f1` en $[1,2]$, resulta:"
     ]
    },
    {
     "cell_type": "code",
     "collapsed": false,
     "input": [
      "f1(Intervalo(1,2))"
     ],
     "language": "python",
     "metadata": {},
     "outputs": [
      {
       "metadata": {},
       "output_type": "pyout",
       "prompt_number": 5,
       "text": [
        "Intervalo(1.999999999999999999999999999999999999999999999999999999999999999999999999999983e-01 with 256 bits of precision,1e+00 with 256 bits of precision)"
       ]
      }
     ],
     "prompt_number": 5
    },
    {
     "cell_type": "markdown",
     "metadata": {},
     "source": [
      "Para comparar con el rango escribir\u00e9 una funci\u00f3n que llamar\u00e9 `rango` y que precisamente me devuelva el rango de una funci\u00f3n dado un intervalo de dominio."
     ]
    },
    {
     "cell_type": "code",
     "collapsed": false,
     "input": [
      "function rango(a::Real, b::Real, f::Function)\n",
      "    R=[f(n) for n=a:.5/512:b]\n",
      "    println(\"R(\", f,\";[\",a,\",\",b,\"])\", \" = \",\"[\", minimum(R),\",\", maximum(R),\"]\")\n",
      "end"
     ],
     "language": "python",
     "metadata": {},
     "outputs": [
      {
       "metadata": {},
       "output_type": "pyout",
       "prompt_number": 6,
       "text": [
        "rango (generic function with 1 method)"
       ]
      }
     ],
     "prompt_number": 6
    },
    {
     "cell_type": "code",
     "collapsed": true,
     "input": [
      "rango(1,2,f1)"
     ],
     "language": "python",
     "metadata": {},
     "outputs": [
      {
       "output_type": "stream",
       "stream": "stdout",
       "text": [
        "R(f1"
       ]
      },
      {
       "output_type": "stream",
       "stream": "stdout",
       "text": [
        ";[1,2]) = [0.4,0.5]\n"
       ]
      }
     ],
     "prompt_number": 7
    },
    {
     "cell_type": "markdown",
     "metadata": {},
     "source": [
      "Para la extensi\u00f3n natural obtengo el intervalo $[0.2,1]$ mientras que de rango obtengo $[0.4,0.5]$.\n",
      "\n",
      "Para comparar estas dos cantidades las graficar\u00e9 utilizando la siguiente funci\u00f3n."
     ]
    },
    {
     "cell_type": "code",
     "collapsed": false,
     "input": [
      "using PyPlot\n",
      "function graficar(u::Real,v::Real,a::Real, b::Real, f::Function)\n",
      "    x=[n for n=u:0.5/512:v]\n",
      "    g=[f(n) for n=u:0.5/512:v]\n",
      "    p=f(Intervalo(a,b))\n",
      "    R=[f(n) for n=a:.5/512:b]\n",
      "    plot(x,g)\n",
      "    PyPlot.fill_between([a,b],float64(p.a),float64(p.b),color=\"yellow\")\n",
      "    PyPlot.fill_between([a,b],minimum(R),maximum(R),color=\"red\")\n",
      "end"
     ],
     "language": "python",
     "metadata": {},
     "outputs": [
      {
       "output_type": "stream",
       "stream": "stderr",
       "text": [
        "INFO: Loading help data...\n"
       ]
      },
      {
       "metadata": {},
       "output_type": "pyout",
       "prompt_number": 8,
       "text": [
        "graficar (generic function with 1 method)"
       ]
      }
     ],
     "prompt_number": 8
    },
    {
     "cell_type": "markdown",
     "metadata": {},
     "source": [
      "Y al ocupar la funci\u00f3n `graficar`, se obtiene la siguiente gr\u00e1fica de la funci\u00f3n $f_1(x)=\\frac{x}{(1+x^2)}%. En amarillo se marca la extensi\u00f3n natural y en rojo se marca el rango."
     ]
    },
    {
     "cell_type": "code",
     "collapsed": false,
     "input": [
      "graficar(-6,6,1,2,f1)"
     ],
     "language": "python",
     "metadata": {},
     "outputs": [
      {
       "metadata": {},
       "output_type": "display_data",
       "png": "[encoded data removed]",
       "text": [
        "Figure(PyObject <matplotlib.figure.Figure object at 0x7f66dc823dd0>)"
       ]
      },
      {
       "metadata": {},
       "output_type": "pyout",
       "prompt_number": 9,
       "text": [
        "PyObject <matplotlib.collections.PolyCollection object at 0x7f66fdddc610>"
       ]
      }
     ],
     "prompt_number": 9
    },
    {
     "cell_type": "markdown",
     "metadata": {},
     "source": [
      "Esto cumple con el **Teorema Fundamental de An\u00e1lisis de Intervalos**, ya que la extensi\u00f3n natural (amarillo) contiene al rango (rojo).\n",
      "\n",
      "---------------------"
     ]
    },
    {
     "cell_type": "markdown",
     "metadata": {},
     "source": [
      "----------------\n",
      "[4]\n",
      "\n",
      "Demuestra que $f(x) = (\\sin(x)-x^2+1)\\cos(x)$ no tiene ra\u00edces en $\\mathbf{x}=[0,1/2]$. Ilustra que el argumento es correcto gr\u00e1ficamente."
     ]
    },
    {
     "cell_type": "code",
     "collapsed": false,
     "input": [
      "function f2(x)\n",
      "    (sin(x)-x^2+1)/cos(x)\n",
      "end"
     ],
     "language": "python",
     "metadata": {},
     "outputs": [
      {
       "metadata": {},
       "output_type": "pyout",
       "prompt_number": 10,
       "text": [
        "f2 (generic function with 1 method)"
       ]
      }
     ],
     "prompt_number": 10
    },
    {
     "cell_type": "markdown",
     "metadata": {},
     "source": [
      "Primero hay que analizar la funci\u00f3n $f(x)$ cada una de sus partes. Basicamente esta constituida por 3 funciones, $sin(x)$, $cos(x)$ y $x^2$. Por un lado las funciones seno y coseno son mon\u00f3tonas a intervalos y para el intervalo de inter\u00e9s $[0,1/2]$ ambas son mon\u00f3tonas. Por otro lado, la funci\u00f3n $x^2$ es mon\u00f3tona en dos partes, en el intervalo $[-\\infty,0]$ y en el intervalo $[0, \\infty]$. De modo que las 3 funciones pueden ser evaluadas de acuerdo al criterio que ya se discuti\u00f3 para intervalos en funciones mon\u00f3tonas.\n",
      "\n",
      "Es por esto que escribir\u00e9 la funci\u00f3n $f(x)$ haciendo uso de la funci\u00f3n `monot` y de la siguiente manera:"
     ]
    },
    {
     "cell_type": "code",
     "collapsed": false,
     "input": [
      "function f2(x)\n",
      "    (monot(x,sin)-x^2+1)/monot(x,cos)\n",
      "end"
     ],
     "language": "python",
     "metadata": {},
     "outputs": [
      {
       "metadata": {},
       "output_type": "pyout",
       "prompt_number": 11,
       "text": [
        "f2 (generic function with 1 method)"
       ]
      }
     ],
     "prompt_number": 11
    },
    {
     "cell_type": "markdown",
     "metadata": {},
     "source": [
      "Evaluando esta fucni\u00f3n en el intervalo $[0,1/2]$, da como resultado:"
     ]
    },
    {
     "cell_type": "code",
     "collapsed": false,
     "input": [
      "f2(Intervalo(0,.5))"
     ],
     "language": "python",
     "metadata": {},
     "outputs": [
      {
       "metadata": {},
       "output_type": "pyout",
       "prompt_number": 12,
       "text": [
        "Intervalo(7.5e-01 with 256 bits of precision,1.685796417168339635568507233985235311721276966228794466640052174007078444542859e+00 with 256 bits of precision)"
       ]
      }
     ],
     "prompt_number": 12
    },
    {
     "cell_type": "markdown",
     "metadata": {},
     "source": [
      "Como la extension natural de la fucni\u00f3n no contiene al cero entonces no contiene raices. Para verlo gr\u00e1ficamente obs\u00e9rvese la siguiente gr\u00e1fica:"
     ]
    },
    {
     "cell_type": "code",
     "collapsed": false,
     "input": [
      "graficar(-1,1, 0,.5, f2)"
     ],
     "language": "python",
     "metadata": {},
     "outputs": [
      {
       "metadata": {},
       "output_type": "display_data",
       "png": "[encoded data removed]",
       "text": [
        "Figure(PyObject <matplotlib.figure.Figure object at 0x7f66fdddcc90>)"
       ]
      },
      {
       "metadata": {},
       "output_type": "pyout",
       "prompt_number": 13,
       "text": [
        "PyObject <matplotlib.collections.PolyCollection object at 0x7f66dc0e48d0>"
       ]
      }
     ],
     "prompt_number": 13
    },
    {
     "cell_type": "markdown",
     "metadata": {},
     "source": [
      "N\u00f3tese como la extensi\u00f3n natural (amarillo) sigue conteniendo al rango (rojo), de modo que se cumple el teorema fundamental del an\u00e1lisis de intervalos."
     ]
    },
    {
     "cell_type": "markdown",
     "metadata": {},
     "source": [
      "-----------------"
     ]
    },
    {
     "cell_type": "markdown",
     "metadata": {},
     "source": [
      "----------------------\n",
      "[5] Escribe un c\u00f3digo quer utiliza la propiedad de los ceros para encontrar los intervalos donde *podr\u00eda haber* un cero."
     ]
    },
    {
     "cell_type": "markdown",
     "metadata": {},
     "source": [
      "\n",
      "------------------\n",
      "El primer algoritmo que se utiliz\u00f3 lo que hace es escanear un intervalo inicial $[i,j]$. Dicho escaneo se lleva a cabo especificando el intervalo total donde se escanear\u00e1 la funci\u00f3n y el intervalo peque\u00f1o de tolerancia que ser\u00e1 el que se ir\u00e1 moviendo a lo largo de la funci\u00f3n."
     ]
    },
    {
     "cell_type": "code",
     "collapsed": false,
     "input": [
      "function escanear0(x::Intervalo, e::Real, f::Function)\n",
      "    x0=Intervalo(x.a,x.a+e)\n",
      "    while x0.b<x.b\n",
      "        p=f(x0)\n",
      "        if  p.b>=0 && p.a<0\n",
      "            println(\"Hay una raiz en el \", x0)\n",
      "        end\n",
      "        x0=x0+Intervalo(e)\n",
      "        \n",
      "    end\n",
      "end"
     ],
     "language": "python",
     "metadata": {},
     "outputs": [
      {
       "metadata": {},
       "output_type": "pyout",
       "prompt_number": 14,
       "text": [
        "escanear0 (generic function with 1 method)"
       ]
      }
     ],
     "prompt_number": 14
    },
    {
     "cell_type": "markdown",
     "metadata": {},
     "source": [
      "Para ver que funciona se utilizar\u00e1 la funci\u00f3n `escanear0` sobre el polinomio $(x-1)(x-2)$ que tiene ceros conocidos en 1 y -2."
     ]
    },
    {
     "cell_type": "code",
     "collapsed": false,
     "input": [
      "function g(x)\n",
      "    (x-1)*(x+2)\n",
      "end"
     ],
     "language": "python",
     "metadata": {},
     "outputs": [
      {
       "metadata": {},
       "output_type": "pyout",
       "prompt_number": 15,
       "text": [
        "g (generic function with 1 method)"
       ]
      }
     ],
     "prompt_number": 15
    },
    {
     "cell_type": "code",
     "collapsed": false,
     "input": [
      "escanear0(Intervalo(-3,3),.125, g)"
     ],
     "language": "python",
     "metadata": {},
     "outputs": [
      {
       "output_type": "stream",
       "stream": "stdout",
       "text": [
        "Hay una raiz en el Intervalo"
       ]
      },
      {
       "output_type": "stream",
       "stream": "stdout",
       "text": [
        "(-2e+00 with 256 bits of precision,-1.875e+00 with 256 bits of precision)\n",
        "Hay una raiz en el Intervalo(8.75e-01 with 256 bits of precision,1e+00 with 256 bits of precision)\n"
       ]
      }
     ],
     "prompt_number": 16
    },
    {
     "cell_type": "markdown",
     "metadata": {},
     "source": [
      "Como se puede ver `escanear0` encontr\u00f3 ambos ceros dentro del intervalo que se le pidi\u00f3."
     ]
    },
    {
     "cell_type": "markdown",
     "metadata": {},
     "source": [
      "El problema con este m\u00e9todo es el tiempo de c\u00e1lculo. Por ejemplo, si el cero se encontraba al principio del intervalo de escaneo, todo el escaneo posterior servir\u00e1 de nada ya que ah\u00ed no existe un cero, de modo que todo ese calculo adicional ser\u00e1 in\u00fatil.\n",
      "\n",
      "Un m\u00e9todo m\u00e1s eficiente es bisectando, esto es, se toma el intervalo a escanear y se parte en dos. En cada una de estas partes se eval\u00faa la funci\u00f3n y se hace uso del teorema fundamental de an\u00e1lisis de intervalos. Si alguno de los dos intervalos no contiene al cero entonces dicho intervalo se desecha y solo se sigue bisectando en los intervalos que s\u00ed puedan contener ceros. Esto ahorra tiempo ya que cada iteraci\u00f3n elimina todos los intervalos que no contienen un cero, a diferencia del escaneo, que escanea la totalidad del intervalo."
     ]
    },
    {
     "cell_type": "markdown",
     "metadata": {},
     "source": [
      "Para encontrar ceros con la bisecci\u00f3n, primero se define una funci\u00f3n que bisecte un intervalo y guarde ambos subintervalos en un arreglo."
     ]
    },
    {
     "cell_type": "code",
     "collapsed": false,
     "input": [
      "function bisectar(x::Intervalo)\n",
      "    x1=Intervalo(x.a,(x.a+x.b)/2)\n",
      "    x2=Intervalo((x.a+x.b)/2,x.b)\n",
      "    r=[x1,x2]\n",
      "end"
     ],
     "language": "python",
     "metadata": {},
     "outputs": [
      {
       "metadata": {},
       "output_type": "pyout",
       "prompt_number": 17,
       "text": [
        "bisectar (generic function with 1 method)"
       ]
      }
     ],
     "prompt_number": 17
    },
    {
     "cell_type": "markdown",
     "metadata": {},
     "source": [
      "Despues se usa esta funci\u00f3n `bisectar` para escribir la funci\u00f3n para buscar los ceros."
     ]
    },
    {
     "cell_type": "code",
     "collapsed": false,
     "input": [
      "function buscar0(x::Intervalo,n,f::Function)\n",
      "    inter=x\n",
      "    v=[x]\n",
      "    r=Intervalo[]\n",
      "    while n>0\n",
      "        r=Intervalo[]\n",
      "        l=length(v)\n",
      "        for i=1:l \n",
      "            b=bisectar(v[i])\n",
      "            for k=1:length(b)\n",
      "                p=f(b[k])\n",
      "                #println(b[k],k,n,v[l],l)\n",
      "                if sign(p.a)!=sign(p.b) && sign(p.a)!=0\n",
      "                #if (p.a>=0 && p.b<=0) || (p.a<=0 && p.b<=0)\n",
      "                    r=push!(r,b[k])\n",
      "                    \n",
      "                end\n",
      "            end\n",
      "        end\n",
      "        v=r\n",
      "        n=n-1\n",
      "    end\n",
      "    println(\"Se encontraron \",length(v),\" ra\u00edces en el \",inter, \" y son: \")\n",
      "    for q=1:length(v)\n",
      "        println(q, \".  \", v[q])\n",
      "    end\n",
      "end\n",
      "    "
     ],
     "language": "python",
     "metadata": {},
     "outputs": [
      {
       "metadata": {},
       "output_type": "pyout",
       "prompt_number": 18,
       "text": [
        "buscar0 (generic function with 1 method)"
       ]
      }
     ],
     "prompt_number": 18
    },
    {
     "cell_type": "markdown",
     "metadata": {},
     "source": [
      "Como ya se explic\u00f3 anteriormente, lo que se har\u00e1 es bisectar el intervalo inicial, cada uno de los subintervalos se evaluar\u00e1n en la funci\u00f3n y si alguno de ellos contiene un cero se guardar\u00e1 de regreso en el arreglo, de lo contrario se desechar\u00e1. \n",
      "\n",
      "Este arreglo de intervalos con posibles ceros se volver\u00e1 a meter en la funci\u00f3n, donde cada uno de sus intervalos se bisectar\u00e1 nuevamente, evaluar\u00e1 en la funci\u00f3n y de nuevo s\u00f3lo guardar\u00e1 los subintervalos con posibles ceros. Este proceso se llevar\u00e1 a cabo n-veces (especificado en un inicio), donde en cada iteraci\u00f3n los intervalos resultados iran disminuyendo de longitud, acotando los ceros de la funci\u00f3n.\n",
      "\n",
      "Para ver si en verdad sirve la funci\u00f3n se usar\u00e1 el polinomio $(x-1)(x+2)(x-4)(x+6)$ cuyos ceros son conocidos $(1,-2,4,-6)$."
     ]
    },
    {
     "cell_type": "code",
     "collapsed": false,
     "input": [
      "function f(x)\n",
      "    (x-1)*(x+2)*(x-4)*(x+6)\n",
      "end"
     ],
     "language": "python",
     "metadata": {},
     "outputs": [
      {
       "metadata": {},
       "output_type": "pyout",
       "prompt_number": 19,
       "text": [
        "f (generic function with 1 method)"
       ]
      }
     ],
     "prompt_number": 19
    },
    {
     "cell_type": "code",
     "collapsed": false,
     "input": [
      "buscar0(Intervalo(-10,10),100,f)"
     ],
     "language": "python",
     "metadata": {},
     "outputs": [
      {
       "output_type": "stream",
       "stream": "stdout",
       "text": [
        "Se encontraron 4"
       ]
      },
      {
       "output_type": "stream",
       "stream": "stdout",
       "text": [
        " ra\u00edces en el Intervalo(-1e+01 with 256 bits of precision,1e+01 with 256 bits of precision) y son: \n",
        "1.  Intervalo(-6.000000000000000000000000000003155443620884047221646914261131144918692825740091e+00 with 256 bits of precision,-5.999999999999999999999999999987378225516463811113412342955475420325228697037703e+00 with 256 bits of precision)\n",
        "2.  Intervalo(-2.000000000000000000000000000006310887241768094443293828522262289837385651480803e+00 with 256 bits of precision,-1.999999999999999999999999999990533669137347858335059257216606565243921522778588e+00 with 256 bits of precision)\n",
        "3.  Intervalo(9.99999999999999999999999999987378225516463811113412342955475420325228697038342e-01 with 256 bits of precision,1.000000000000000000000000000003155443620884047221646914261131144918692825740557e+00 with 256 bits of precision)\n",
        "4.  Intervalo(3.999999999999999999999999999996844556379115952778353085738868855081307174260048e+00 with 256 bits of precision,4.000000000000000000000000000012621774483536188886587657044524579674771302962297e+00 with 256 bits of precision)\n"
       ]
      }
     ],
     "prompt_number": 20
    },
    {
     "cell_type": "markdown",
     "metadata": {},
     "source": [
      "Otra manera \u00fatil de definir la funci\u00f3n para buscar ceros es hacer que en lugar de definirle cuantas veces har\u00e1 la iteraci\u00f3n, lo que se le defina sea una tolerancia, esto es, que lo que haga sea finalizar las iteraciones una vez que los subintervalos con ceros tengan la longitud de dicha tolerancia. Definirla as\u00ed es \u00fatil ya que s\u00f3lo se realizan las iteraciones necesarias para encontrar los ceros dentro del intervalo de error que se quiera, no m\u00e1s.\n",
      "\n",
      "El \"problema\" con esto es que los intervalos resultado \u00fanicamente tendr\u00e1n la longitud de la tolerancia si el intervalo inicial es m\u00faltiplo de la tolerancia. De lo contrario, el resultado s\u00f3lo estar\u00e1 alrededor de dicha tolerancia, siendo ligeramente menor, pero aun asi claramente contenido dentro de la tolerancia.\n",
      "\n",
      "De cualquier manera la funci\u00f3n sigue haciendo su trabajo deseado as\u00ed que la redefin\u00ed as\u00ed: "
     ]
    },
    {
     "cell_type": "code",
     "collapsed": false,
     "input": [
      "function buscar0_tol(x::Intervalo,tol,f::Function)\n",
      "    inter=x\n",
      "    v=[x]\n",
      "    r=Intervalo[]\n",
      "    d=(v[1].b-v[1].a)\n",
      "    while d>tol\n",
      "        #d=(v[1].b-v[1].a)\n",
      "        r=Intervalo[]\n",
      "        l=length(v)\n",
      "        for i=1:l \n",
      "            b=bisectar(v[i])\n",
      "            for k=1:length(b)\n",
      "                p=f(b[k])\n",
      "                #println(b[k],k,n,v[l],l)\n",
      "                if sign(p.a)!=sign(p.b) && sign(p.a)!=0\n",
      "                #if (p.a>=0 && p.b<=0) || (p.a<=0 && p.b<=0)\n",
      "                    r=push!(r,b[k])\n",
      "                end\n",
      "            end\n",
      "        end\n",
      "        v=r\n",
      "        d=abs((v[1].b-v[1].a))\n",
      "        #n=n-1\n",
      "    end\n",
      "    \n",
      "    println(\"Se encontraron \",length(v),\" ra\u00edces en el \",inter, \" y son: \")\n",
      "    for q=1:length(v)\n",
      "        println(q, \".  \", v[q])\n",
      "    end\n",
      "end"
     ],
     "language": "python",
     "metadata": {},
     "outputs": [
      {
       "metadata": {},
       "output_type": "pyout",
       "prompt_number": 21,
       "text": [
        "buscar0_tol (generic function with 1 method)"
       ]
      }
     ],
     "prompt_number": 21
    },
    {
     "cell_type": "code",
     "collapsed": false,
     "input": [
      "buscar0_tol(Intervalo(-100,100),100/(2^60),f)"
     ],
     "language": "python",
     "metadata": {},
     "outputs": [
      {
       "output_type": "stream",
       "stream": "stdout",
       "text": [
        "Se encontraron "
       ]
      },
      {
       "output_type": "stream",
       "stream": "stdout",
       "text": [
        "4 ra\u00edces en el Intervalo(-1e+02 with 256 bits of precision,1e+02 with 256 bits of precision) y son: \n",
        "1.  Intervalo(-6.0000000000000000381639164714897560770623385906219482421875e+00 with 256 bits of precision,-5.999999999999999951427742672649401356466114521026611328125e+00 with 256 bits of precision)\n",
        "2.  Intervalo(-2.00000000000000004163336342344337026588618755340576171875e+00 with 256 bits of precision,-1.9999999999999999548971896246030155452899634838104248046875e+00 with 256 bits of precision)\n",
        "3.  Intervalo(9.999999999999999340805079128813304123468697071075439453125e-01 with 256 bits of precision,1.000000000000000020816681711721685132943093776702880859375e+00 with 256 bits of precision)\n",
        "4.  Intervalo(3.9999999999999999965305530480463858111761510372161865234375e+00 with 256 bits of precision,4.0000000000000000832667268468867405317723751068115234375e+00 with 256 bits of precision)\n"
       ]
      }
     ],
     "prompt_number": 22
    },
    {
     "cell_type": "markdown",
     "metadata": {},
     "source": [
      "Claramente se llega al mismo resultado que el obtenido anteriormente."
     ]
    },
    {
     "cell_type": "markdown",
     "metadata": {},
     "source": [
      "---------------------------------"
     ]
    },
    {
     "cell_type": "markdown",
     "metadata": {},
     "source": [
      "------------------------------\n",
      "[6] Extiende tu c\u00f3digo para utilizar la derivada $f'$, dada a mano, para demostrar (cuando se puede) que el cero es *\u00fanico* en el intervalo.\n",
      "\n",
      "--------------------------------"
     ]
    },
    {
     "cell_type": "markdown",
     "metadata": {},
     "source": [
      "De lo que servir\u00e1 su derivada ser\u00e1 para saber como se comporta la funci\u00f3n $f(x)$ dentro del intervalo resultado. Por ejemplo, sup\u00f3ngase que ya se busc\u00f3 ceros en la funci\u00f3n $f(x)$ y se encontr\u00f3 que en el intervalo $[a,b]$ existe un cero. S\u00ed este cero es \u00fanico entonces, en dicho intervalo la funci\u00f3n $f(x)$ no deber\u00e1 de cambiar de signo nuevamente.\n",
      "\n",
      "La derivada de lo que sirve es para ver s\u00ed en el intervalo $[a,b]$ la funci\u00f3n es en verdad mon\u00f3tona, s\u00ed no lo es, entonces la pendiente de $f$ debe de volverse cero en algun punto dentro de $[a,b]$. Este cambio de pendiente aparece como un cero de la derivada $f'$. Ahora bien, aunque cambie de pendiente $f$, podr\u00eda darse el caso de que no alcanza a cruzar el cero dentro del intervalo o de que vuelve a cambiar de pendiente antes de cruzar el cero. Se podr\u00edan pensar caso m\u00e1s complicados, sin embargo algo s\u00ed se puede asegurar es, s\u00ed $f'$ no tiene ceros en el intervalo $[a,b]$ entonces $f$ no cambia de pendiente y por lo tanto no puede haber m\u00e1s ceros en la funci\u00f3n $f$ dentro del intervalo $[a,b]$. En resumen:\n",
      "\n",
      ">Si dentro del intervalo $[a,b]$, $f'$ no tiene ceros, entonces $f$ es mon\u00f3tona y solo puede tener, a lo m\u00e1s, un cero.\n",
      "\n",
      "\n",
      "En caso de que se encuentren ceros en $f'$ dentro de $[a,b]$ no podemos asegurar que si habr\u00e1 m\u00e1s ceros. Esto indica que hay que hacer un an\u00e1lisis m\u00e1s detallado de la $f$ en el intervalo $[a,b]$"
     ]
    },
    {
     "cell_type": "markdown",
     "metadata": {},
     "source": [
      "Aqu\u00ed utilzar\u00e9 como funci\u00f3n $f(x)=(x-1)(x+2)$, donde su derivada es $f'(x)=\\frac{d}{dx}(x^2+x-2)=2x+1$. Donde claramente $f(x)$ tiene dos ra\u00edces, $x_1=1$ y $x_2=-2$."
     ]
    },
    {
     "cell_type": "code",
     "collapsed": false,
     "input": [
      "function f3(x)\n",
      "    (x-1)*(x+2)\n",
      "end"
     ],
     "language": "python",
     "metadata": {},
     "outputs": [
      {
       "metadata": {},
       "output_type": "pyout",
       "prompt_number": 23,
       "text": [
        "f3 (generic function with 1 method)"
       ]
      }
     ],
     "prompt_number": 23
    },
    {
     "cell_type": "code",
     "collapsed": false,
     "input": [
      "function df3(x)\n",
      "    2*x+1\n",
      "end"
     ],
     "language": "python",
     "metadata": {},
     "outputs": [
      {
       "metadata": {},
       "output_type": "pyout",
       "prompt_number": 24,
       "text": [
        "df3 (generic function with 1 method)"
       ]
      }
     ],
     "prompt_number": 24
    },
    {
     "cell_type": "markdown",
     "metadata": {},
     "source": [
      "Escoger\u00e9 el intervalo $[-3,20]$ que de antemano se que contiene los dos ceros de la funci\u00f3n. Al buscar con los siguientes par\u00e1metros obtengo que s\u00f3lo halla un cero en el intervalo $[-3,2.75]$."
     ]
    },
    {
     "cell_type": "code",
     "collapsed": false,
     "input": [
      "buscar0(Intervalo(-3,20),2,f3)"
     ],
     "language": "python",
     "metadata": {},
     "outputs": [
      {
       "output_type": "stream",
       "stream": "stdout",
       "text": [
        "Se encontraron 1"
       ]
      },
      {
       "output_type": "stream",
       "stream": "stdout",
       "text": [
        " ra\u00edces en el Intervalo(-3e+00 with 256 bits of precision,2e+01 with 256 bits of precision) y son: \n",
        "1.  Intervalo(-3e+00 with 256 bits of precision,2.75e+00 with 256 bits of precision)\n"
       ]
      }
     ],
     "prompt_number": 25
    },
    {
     "cell_type": "markdown",
     "metadata": {},
     "source": [
      "Si ahora busco ceros en su derivada dentro del intervalo $[-3,2.75]$ obtengo que encuentra un cero."
     ]
    },
    {
     "cell_type": "code",
     "collapsed": false,
     "input": [
      "buscar0(Intervalo(-3,2.75),2,df3)"
     ],
     "language": "python",
     "metadata": {},
     "outputs": [
      {
       "output_type": "stream",
       "stream": "stdout",
       "text": [
        "Se encontraron 1 ra\u00edces en el Intervalo(-3e+00 with 256 bits of precision,2.75e+00 with 256 bits of precision) y son: \n",
        "1.  Intervalo(-1.5625e+00 with 256 bits of precision,-1.25e-01 with 256 bits of precision)\n"
       ]
      }
     ],
     "prompt_number": 26
    },
    {
     "cell_type": "markdown",
     "metadata": {},
     "source": [
      "Lo que esto me indica es que podria existir m\u00e1s de un cero en la funci\u00f3n dentro del intervalo $[-3,2.75]$. Para encontrar los dem\u00e1s ceros lo que se har\u00e1 ser\u00e1 investigar m\u00e1s detalladamente este intervalo."
     ]
    },
    {
     "cell_type": "markdown",
     "metadata": {},
     "source": [
      "Ahora, metiendo un intervalo inicial de $[-3,3]$, se llega a que encuentra las dos ra\u00edces:"
     ]
    },
    {
     "cell_type": "code",
     "collapsed": false,
     "input": [
      "buscar0(Intervalo(-3,3),2,f3)"
     ],
     "language": "python",
     "metadata": {},
     "outputs": [
      {
       "output_type": "stream",
       "stream": "stdout",
       "text": [
        "Se encontraron 2"
       ]
      },
      {
       "output_type": "stream",
       "stream": "stdout",
       "text": [
        " ra\u00edces en el Intervalo(-3e+00 with 256 bits of precision,3e+00 with 256 bits of precision) y son: \n",
        "1.  Intervalo(-3e+00 with 256 bits of precision,-1.5e+00 with 256 bits of precision)\n",
        "2.  Intervalo(0e+00 with 256 bits of precision,1.5e+00 with 256 bits of precision)\n"
       ]
      }
     ],
     "prompt_number": 27
    },
    {
     "cell_type": "markdown",
     "metadata": {},
     "source": [
      "Aqu\u00ed se observa que los dos intervalos que se obtuvieron, $[-3,-1.5]$ y $[0,1.5]$, si contienen a las raices de $f_3$, lo que hace falta ver es que pasa cuando se trata de verificar que las raices sean \u00fanicas en cada uno de estos intervalos.\n",
      "\n",
      "Para $[-3,-1.5]$:"
     ]
    },
    {
     "cell_type": "code",
     "collapsed": false,
     "input": [
      "buscar0(Intervalo(-3,-1.5),2,df3)"
     ],
     "language": "python",
     "metadata": {},
     "outputs": [
      {
       "output_type": "stream",
       "stream": "stdout",
       "text": [
        "Se encontraron 0 ra\u00edces en el Intervalo(-3e+00 with 256 bits of precision,-1.5e+00 with 256 bits of precision) y son: \n"
       ]
      }
     ],
     "prompt_number": 28
    },
    {
     "cell_type": "markdown",
     "metadata": {},
     "source": [
      "Y para $[0,1.5]$:"
     ]
    },
    {
     "cell_type": "code",
     "collapsed": false,
     "input": [
      "buscar0(Intervalo(0,1.5),2,df3)"
     ],
     "language": "python",
     "metadata": {},
     "outputs": [
      {
       "output_type": "stream",
       "stream": "stdout",
       "text": [
        "Se encontraron 0"
       ]
      },
      {
       "output_type": "stream",
       "stream": "stdout",
       "text": [
        " ra\u00edces en el Intervalo(0e+00 with 256 bits of precision,1.5e+00 with 256 bits of precision) y son: \n"
       ]
      }
     ],
     "prompt_number": 29
    },
    {
     "cell_type": "markdown",
     "metadata": {},
     "source": [
      "Lo que esto indica es que en estos intervalos la derivada nunca cambia de signo, por lo tanto se puede afirmar que los ceros son unicos en dichos intervalos."
     ]
    },
    {
     "cell_type": "markdown",
     "metadata": {},
     "source": [
      "Si se quiere algo m\u00e1s sencillo y que no involucre calculos adicionales, lo que se puede hacer es aplicar el teorema fundamental de an\u00e1lisis de intervalos y obtener la extensi\u00f3n natural de la derivada $f'$ para el intervalo resultado $[a,b]$. Si el cero no est\u00e1 dentro de la extensi\u00f3n natural de $f'$ en $[a,b]$ entonces lo m\u00e1s hay un cero en $f$ en $[a,b]$.\n",
      "\n",
      "Este resultado es m\u00e1s r\u00e1pido que volver aplicar la funci\u00f3n $buscar0$ pero tambien es menos \"fuerte\", por lo tanto arroja m\u00e1s falsos positivos (hay ceros en $f'$ pero en verdad $f$ no tiene m\u00e1s de un cero).\n",
      "\n",
      "Para verificar este criterio se calcular\u00e1 las extensiones naturales de los tres intervalos resultados anteriores:"
     ]
    },
    {
     "cell_type": "code",
     "collapsed": false,
     "input": [
      "df3(Intervalo(-3,2.75))"
     ],
     "language": "python",
     "metadata": {},
     "outputs": [
      {
       "metadata": {},
       "output_type": "pyout",
       "prompt_number": 30,
       "text": [
        "Intervalo(-5e+00 with 256 bits of precision,6.5e+00 with 256 bits of precision)"
       ]
      }
     ],
     "prompt_number": 30
    },
    {
     "cell_type": "markdown",
     "metadata": {},
     "source": [
      "Aqui la extensi\u00f3n natural es $[-5,6.5]$, hay signos opuestos asi que puede haber m\u00e1s ceros. Lo cual coincide con lo que ya se obtuvo.\n",
      "\n",
      "Para los otros dos intervalos:"
     ]
    },
    {
     "cell_type": "code",
     "collapsed": false,
     "input": [
      "df3(Intervalo(-3,-1.5))"
     ],
     "language": "python",
     "metadata": {},
     "outputs": [
      {
       "metadata": {},
       "output_type": "pyout",
       "prompt_number": 31,
       "text": [
        "Intervalo(-5e+00 with 256 bits of precision,-2e+00 with 256 bits of precision)"
       ]
      }
     ],
     "prompt_number": 31
    },
    {
     "cell_type": "code",
     "collapsed": false,
     "input": [
      "df3(Intervalo(0,1.5))"
     ],
     "language": "python",
     "metadata": {},
     "outputs": [
      {
       "metadata": {},
       "output_type": "pyout",
       "prompt_number": 32,
       "text": [
        "Intervalo(1e+00 with 256 bits of precision,4e+00 with 256 bits of precision)"
       ]
      }
     ],
     "prompt_number": 32
    },
    {
     "cell_type": "markdown",
     "metadata": {},
     "source": [
      "La primera extensi\u00f3n natural es $[-5,-2]$ y la segunda es $[1,4]$. No cambia de signo as\u00ed que podemos asegurar que NO hay m\u00e1s de un cero en cada intervalo. Que es lo mismo que ya se obtuvo."
     ]
    },
    {
     "cell_type": "markdown",
     "metadata": {},
     "source": [
      "En el siguiente inciso ser\u00e1 este criterio r\u00e1pido el que se usar\u00e1.\n",
      "\n",
      "------------------------------------"
     ]
    },
    {
     "cell_type": "markdown",
     "metadata": {},
     "source": [
      "--------------------------------------------\n",
      "[7] Utiliza la *diferenciaci\u00f3n autom\u00e1tica* del notebook 6 para que no tengas que especificar la derivada a mano.\n",
      "\n",
      "--------------------------------------------"
     ]
    },
    {
     "cell_type": "markdown",
     "metadata": {},
     "source": [
      "Como ya se dijo, lo que se har\u00e1 es, una vez encontrados los intervalos con posibles ceros, se evaluaran dichos ceros en la derivada para as\u00ed ver s\u00ed el cero es \u00fanico.\n",
      "\n",
      "Primero hay que ver s\u00ed jala el modulo de `Derivadas` con `Intervalos`."
     ]
    },
    {
     "cell_type": "code",
     "collapsed": false,
     "input": [
      "using Derivadas"
     ],
     "language": "python",
     "metadata": {},
     "outputs": [],
     "prompt_number": 33
    },
    {
     "cell_type": "markdown",
     "metadata": {},
     "source": [
      "Reescribiendo el polinomio que se venido usando, ahora llamndolo $p(x)$"
     ]
    },
    {
     "cell_type": "code",
     "collapsed": false,
     "input": [
      "function p(x)\n",
      "    x=FD(x,1.0) # tengo que scribir esto para que x=(x,1)\n",
      "    (x-1)*(x+2)\n",
      "end"
     ],
     "language": "python",
     "metadata": {},
     "outputs": [
      {
       "metadata": {},
       "output_type": "pyout",
       "prompt_number": 34,
       "text": [
        "p (generic function with 1 method)"
       ]
      }
     ],
     "prompt_number": 34
    },
    {
     "cell_type": "markdown",
     "metadata": {},
     "source": [
      "Y evaluando $p$ en un intervalo."
     ]
    },
    {
     "cell_type": "code",
     "collapsed": false,
     "input": [
      "r=p(Intervalo(0,1.5))"
     ],
     "language": "python",
     "metadata": {},
     "outputs": [
      {
       "metadata": {},
       "output_type": "pyout",
       "prompt_number": 35,
       "text": [
        "FD(Intervalo(-3.5e+00 with 256 bits of precision,1.75e+00 with 256 bits of precision),Intervalo(1e+00 with 256 bits of precision,4e+00 with 256 bits of precision))"
       ]
      }
     ],
     "prompt_number": 35
    },
    {
     "cell_type": "code",
     "collapsed": false,
     "input": [
      "r.d.b"
     ],
     "language": "python",
     "metadata": {},
     "outputs": [
      {
       "metadata": {},
       "output_type": "pyout",
       "prompt_number": 36,
       "text": [
        "4e+00 with 256 bits of precision"
       ]
      }
     ],
     "prompt_number": 36
    },
    {
     "cell_type": "markdown",
     "metadata": {},
     "source": [
      "N\u00f3tese que de antemano se sabe que este intervalo ( el intervalo $[0,1.5]$) contiene un cero de $p$. En la primera entrada del resultado se obtiene la extensi\u00f3n natural $[-3.5,1.75]$ y en la segunda entrada se encuentra la extensi\u00f3n natural de la derivada, que es, $[1,4]$. As\u00ed que se puede afirmar que hay un cero en $p$ y ese cero es \u00fanico. Este es el resultado que ya se habia obtenido en el inciso anterior."
     ]
    },
    {
     "cell_type": "markdown",
     "metadata": {},
     "source": [
      "Para incorporar esto a la busqueda de ceros reescribo la funcion para buscar ceros, ahora con la verificaci\u00f3n de la derivada."
     ]
    },
    {
     "cell_type": "code",
     "collapsed": false,
     "input": [
      "function buscar0_derivada(x::Intervalo,n,f::Function)\n",
      "    inter=x\n",
      "    v=[x]\n",
      "    r=Intervalo[]\n",
      "    while n>0\n",
      "        r=Intervalo[]\n",
      "        l=length(v)\n",
      "        for i=1:l \n",
      "            b=bisectar(v[i])\n",
      "            for k=1:length(b)\n",
      "                p=f(b[k])\n",
      "                #println(b[k],k,n,v[l],l)\n",
      "                if sign(p.a)!=sign(p.b) && sign(p.a)!=0\n",
      "                #if (p.a>=0 && p.b<=0) || (p.a<=0 && p.b<=0)\n",
      "                    r=push!(r,b[k])\n",
      "                    \n",
      "                end\n",
      "            end\n",
      "        end\n",
      "        v=r\n",
      "        n=n-1\n",
      "    end\n",
      "    println(\"Se encontraron \",length(v),\" ra\u00edces en el \",inter, \" y son: \")\n",
      "    for q=1:length(v)\n",
      "        y=FD(v[q],1.0) #### Esto es nuevo\n",
      "        u=f(y) #### Esto es nuevo\n",
      "        println(q, \".  \", v[q])\n",
      "        if sign(u.d.a)==sign(u.d.b) #### Esto es nuevo\n",
      "            println(\"No hay m\u00e1s de un cero en el \", v[q])\n",
      "        else\n",
      "            println(\"Podr\u00eda haber m\u00e1s de un cero en el\", v[q])#### Esto es nuevo\n",
      "        end\n",
      "    end\n",
      "end\n",
      "    "
     ],
     "language": "python",
     "metadata": {},
     "outputs": [
      {
       "metadata": {},
       "output_type": "pyout",
       "prompt_number": 40,
       "text": [
        "buscar0_derivada (generic function with 1 method)"
       ]
      }
     ],
     "prompt_number": 40
    },
    {
     "cell_type": "markdown",
     "metadata": {},
     "source": [
      "Para checar esto uso los dos ejemplos anteriores, para el intervalo $[-3,20]$ y para el intervalo $[-3,3]$, con el polinomio $(x-1)(x+2)$."
     ]
    },
    {
     "cell_type": "code",
     "collapsed": false,
     "input": [
      "buscar0_derivada(Intervalo(-3,20),2,f3)"
     ],
     "language": "python",
     "metadata": {},
     "outputs": [
      {
       "output_type": "stream",
       "stream": "stdout",
       "text": [
        "Se encontraron 1"
       ]
      },
      {
       "output_type": "stream",
       "stream": "stdout",
       "text": [
        " ra\u00edces en el Intervalo(-3e+00 with 256 bits of precision,2e+01 with 256 bits of precision) y son: \n",
        "1.  Intervalo(-3e+00 with 256 bits of precision,2.75e+00 with 256 bits of precision)\n",
        "Podr\u00eda haber m\u00e1s de un cero en elIntervalo(-3e+00 with 256 bits of precision,2.75e+00 with 256 bits of precision)\n"
       ]
      }
     ],
     "prompt_number": 41
    },
    {
     "cell_type": "code",
     "collapsed": false,
     "input": [
      "buscar0_derivada(Intervalo(-3,3),2,f3)"
     ],
     "language": "python",
     "metadata": {},
     "outputs": [
      {
       "output_type": "stream",
       "stream": "stdout",
       "text": [
        "Se encontraron 2"
       ]
      },
      {
       "output_type": "stream",
       "stream": "stdout",
       "text": [
        " ra\u00edces en el Intervalo(-3e+00 with 256 bits of precision,3e+00 with 256 bits of precision) y son: \n",
        "1.  Intervalo(-3e+00 with 256 bits of precision,-1.5e+00 with 256 bits of precision)\n",
        "No hay m\u00e1s de un cero en el Intervalo(-3e+00 with 256 bits of precision,-1.5e+00 with 256 bits of precision)\n",
        "2.  Intervalo(0e+00 with 256 bits of precision,1.5e+00 with 256 bits of precision)\n",
        "No hay m\u00e1s de un cero en el Intervalo(0e+00 with 256 bits of precision,1.5e+00 with 256 bits of precision)\n"
       ]
      }
     ],
     "prompt_number": 42
    },
    {
     "cell_type": "markdown",
     "metadata": {},
     "source": [
      "Ambos resultados son id\u00e9nticos a lo obtenido en el inciso [6].\n",
      "\n",
      "\n",
      "------------------------"
     ]
    },
    {
     "cell_type": "heading",
     "level": 2,
     "metadata": {},
     "source": [
      "**FIN**"
     ]
    }
   ],
   "metadata": {}
  }
 ]
}
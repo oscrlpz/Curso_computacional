{
 "metadata": {
  "language": "Julia",
  "name": "",
  "signature": "sha256:191e8717fea981b9cad7e41d87f6ec8d7f5cd6c5549e03655e8a31d0a56e71a1"
 },
 "nbformat": 3,
 "nbformat_minor": 0,
 "worksheets": [
  {
   "cells": [
    {
     "cell_type": "heading",
     "level": 3,
     "metadata": {},
     "source": [
      "Funciones trigonom\u00e9tricas en intervalos"
     ]
    },
    {
     "cell_type": "markdown",
     "metadata": {},
     "source": [
      "Primero se definir\u00e1 la funci\u00f3n seno para intervalos y luego, a partir de \u00e9sta, se har\u00e1 el coseno.\n",
      "\n",
      "Lo que se hace es evaluar en que regi\u00f3n se ecuentra el intervalo en el cual se quiere evaluar el seno, esto es, creciente, decreciente o una mezcla de ambos."
     ]
    },
    {
     "cell_type": "code",
     "collapsed": false,
     "input": [
      "using Intervalos\n",
      "pi=big(pi) ##### Es encesario meter esta linea para que siempre se trabaje con BigFloats que se \n",
      "##### redondeen correctamente de acuerdo al redondeo establecido en el modulo de intervalos. "
     ],
     "language": "python",
     "metadata": {},
     "outputs": [
      {
       "metadata": {},
       "output_type": "pyout",
       "prompt_number": 34,
       "text": [
        "3.141592653589793238462643383279502884197169399375105820974944592307816406286198e+00 with 256 bits of precision"
       ]
      }
     ],
     "prompt_number": 34
    },
    {
     "cell_type": "markdown",
     "metadata": {},
     "source": [
      "El m\u00e9todo que utilizar\u00e9 consiste de dos partes. Primero necesito identificar cual es el intervalo mas peque\u00f1o, multiplo de $\\pi/2$ que contiene al intervalo $x$ que quiero evaluar. \n",
      "Para esto hago uso de la siguiente funci\u00f3n auxiliar. "
     ]
    },
    {
     "cell_type": "code",
     "collapsed": false,
     "input": [
      "function pi_n(x::Intervalo)\n",
      "    pimenos=floor(x.a*2/pi)\n",
      "    pimas=ceil(x.b*2/pi)\n",
      "    Intervalo(pimenos, pimas)\n",
      "end"
     ],
     "language": "python",
     "metadata": {},
     "outputs": [
      {
       "metadata": {},
       "output_type": "pyout",
       "prompt_number": 2,
       "text": [
        "pi_n (generic function with 1 method)"
       ]
      }
     ],
     "prompt_number": 2
    },
    {
     "cell_type": "markdown",
     "metadata": {},
     "source": [
      "El resultado de la funci\u00f3n `pi_n` a\u00fan debe de ser mutiplicado por $pi/2$ para hallar el intervalo del que se habla.\n",
      "\n",
      "A continuaci\u00f3n se ve gr\u00e1ficamente lo que esta funci\u00f3n hace:"
     ]
    },
    {
     "cell_type": "code",
     "collapsed": false,
     "input": [
      "using PyPlot\n",
      "\n",
      "inter=Intervalo(0.5,1)\n",
      "yinter=pi_n(inter)*(pi/2)\n",
      "lima=float64(yinter.a)-4\n",
      "limb=float64(yinter.b)+4\n",
      "xn=5\n",
      "x = linspace(lima,limb); y = sin(x)\n",
      "\n",
      "PyPlot.plot(x, y)\n",
      "\n",
      "PyPlot.plot([float64(inter.a),float64(inter.a)],[1,-1],\"black\")\n",
      "PyPlot.plot([float64(inter.b),float64(inter.b)],[1,-1],\"black\")\n",
      "\n",
      "PyPlot.plot([float64(yinter.a),float64(yinter.a)],[1,-1],\"red\")\n",
      "PyPlot.plot([float64(yinter.b),float64(yinter.b)],[1,-1],\"red\")"
     ],
     "language": "python",
     "metadata": {},
     "outputs": [
      {
       "metadata": {},
       "output_type": "display_data",
       "png": "[encoded data removed]",
       "text": [
        "Figure(PyObject <matplotlib.figure.Figure object at 0x7f5c0f50df90>)"
       ]
      },
      {
       "metadata": {},
       "output_type": "pyout",
       "prompt_number": 32,
       "text": [
        "1-element Array{Any,1}:\n",
        " PyObject <matplotlib.lines.Line2D object at 0x7f5c0f3acb50>"
       ]
      }
     ],
     "prompt_number": 32
    },
    {
     "cell_type": "markdown",
     "metadata": {},
     "source": [
      "Entre las dos lineas negras se encuentra el intervalo $x$ que se quiere evaluar en ela funci\u00f3n seno, y entre las lineas rojas el menor intervalo multiplo de $\\pi/2$ que contiene a $x$.\n",
      "\n",
      "Ya con esta informaci\u00f3n es posible saber en que tipo de intervalo se encuentra $x=[a,b]$.\n",
      "\n",
      "- Si no pasa por algun m\u00e1ximo o m\u00ednimo en tonces la funci\u00f3n es monotona y ya se evalua normalmente.\n",
      "\n",
      "- Si pasa por un m\u00ednimo ($\\sin\\theta=-1$) entonces el intervalo resultado ser\u00e1 $[-1, s_{max}]$ donde $s_{max}$ es el m\u00e1ximo entre $\\sin(a)$ y $\\sin(b)$.\n",
      "\n",
      "- Si pasa por un m\u00e1ximo ($\\sin\\theta=-1$) entonces el intervalo resultado ser\u00e1 $[s_{min}, 1]$ donde $s_{min}$ es el m\u00ednimo entre $\\sin(a)$ y $\\sin(b)$.\n",
      "\n",
      "- Si pasa por m\u00e1s de un m\u00e1ximo o m\u00ednimo entonces el intervalo resultado ser\u00e1 $[-1,1]$.\n",
      "\n",
      "A continuaci\u00f3n se consideran estos casos para escribir la funci\u00f3n seno en intervalos:\n"
     ]
    },
    {
     "cell_type": "code",
     "collapsed": false,
     "input": [
      "import Base.sin\n",
      "\n",
      "function sin(x::Intervalo)\n",
      "    sin_a=sign(x.a)*sin(abs(x.a)) ##### sirve o no?\n",
      "    sin_b=sign(x.b)*sin(abs(x.b))\n",
      "    n=pi_n(x)\n",
      "    k=(n-1)/2\n",
      "    \n",
      "    if diametro(n)>=4\n",
      "        Intervalo(-1,1)\n",
      "     \n",
      "    elseif diametro(n)==3\n",
      "        if (mod(n.a,2)!=0 && mod(n.a,2)!=0) || (mod(n.b,2)!=0 && mod(n.b,2)!=0)\n",
      "            Intervalo(-1, max(sin_a,sin_b))\n",
      "        else\n",
      "            Intervalo(min(sin_a,sin_b),1)\n",
      "        end   \n",
      "        \n",
      "    elseif diametro(n)==2\n",
      "        \n",
      "        if mod(n.a,2)!=0 #&& mod(k.a,2)!=0\n",
      "            ##decreciente o creciente##\\\n",
      "            Intervalo(sin_a, sin_b)\n",
      "        elseif mod(n.a,2)==0 && mod(((n.a-1)/2),2)==0\n",
      "            Intervalo(-1, max(sin_a,sin_b))\n",
      "        else\n",
      "            Intervalo(min(sin_a,sin_b),1)\n",
      "        end\n",
      "        \n",
      "    elseif diametro(n)<=1\n",
      "        Intervalo(sin_a, sin_b)\n",
      "    end\n",
      "    \n",
      "end"
     ],
     "language": "python",
     "metadata": {},
     "outputs": [
      {
       "metadata": {},
       "output_type": "pyout",
       "prompt_number": 33,
       "text": [
        "sin (generic function with 12 methods)"
       ]
      }
     ],
     "prompt_number": 33
    },
    {
     "cell_type": "markdown",
     "metadata": {},
     "source": [
      "Para escribir el coseno se ocupa el hecho de que $\\cos\\theta=\\sin\\theta+\\frac{\\pi}{2}$."
     ]
    },
    {
     "cell_type": "code",
     "collapsed": false,
     "input": [
      "import Base.cos\n",
      "function cos(x::Intervalo)\n",
      "    x2=x+big(pi)/2\n",
      "    sin(x2)\n",
      "end"
     ],
     "language": "python",
     "metadata": {},
     "outputs": [
      {
       "metadata": {},
       "output_type": "pyout",
       "prompt_number": 4,
       "text": [
        "cos (generic function with 12 methods)"
       ]
      }
     ],
     "prompt_number": 4
    },
    {
     "cell_type": "code",
     "collapsed": false,
     "input": [
      "x=Intervalo(-1,3)\n",
      "sin(x)"
     ],
     "language": "python",
     "metadata": {},
     "outputs": [
      {
       "metadata": {},
       "output_type": "pyout",
       "prompt_number": 27,
       "text": [
        "(-1e+00, 1.411200080598672221007448028081102798469332642522655841518826412324220099670164e-01)"
       ]
      }
     ],
     "prompt_number": 27
    },
    {
     "cell_type": "code",
     "collapsed": false,
     "input": [],
     "language": "python",
     "metadata": {},
     "outputs": []
    }
   ],
   "metadata": {}
  }
 ]
}
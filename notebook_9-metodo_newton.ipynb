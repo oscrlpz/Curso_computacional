{
 "metadata": {
  "language": "Julia",
  "name": "",
  "signature": "sha256:74fa522a4a3953d027f9642620150d9acf4e2314906307fc69e42189dace4ea7"
 },
 "nbformat": 3,
 "nbformat_minor": 0,
 "worksheets": [
  {
   "cells": [
    {
     "cell_type": "heading",
     "level": 3,
     "metadata": {},
     "source": [
      "Notebook 9. M\u00e9todo de Newton"
     ]
    },
    {
     "cell_type": "markdown",
     "metadata": {},
     "source": [
      "Recordemos que el *m\u00e9todo de Newton* es un m\u00e9todo num\u00e9rico *iterativo* para encontrar ra\u00edces de funciones (continuamente) diferenciables.\n",
      "\n",
      "Sea $f$ la funci\u00f3n cuyas ra\u00edces queremos encontrar.\n",
      "La idea es que empecemos desde una adivinanza inicial $x_0$, y que la siguiente aproximaci\u00f3n $x_1$ est\u00e9 donde la recta tangente a la curva $f(x)$ en $x_0$ corte el eje $x$. \n",
      "\n",
      "**[1]** Esboza la geometr\u00eda, tanto a mano como en la computadora, y as\u00ed encuentra la expresi\u00f3n de $x_{n+1}$ en t\u00e9rminos de $x_n$."
     ]
    },
    {
     "cell_type": "markdown",
     "metadata": {},
     "source": [
      "-------------------\n",
      "La recta tangente une a los puntos $\\bar{p}=(p_x,p_y)=(x_n,f(x_n))$ y $\\bar{q}=(q_x,q_y)=(x_{n+1},0)$, adem\u00e1s la pendiente de dicha recta tiene en valor de $m=f'(x_n)$. Y dichos puntos cumplen la ecuaci\u00f3n de la recta dada por: $$q_y-p_y=m(q_x-p_x),$$\n",
      "\n",
      "entonces, $$f'(x_n)=m=\\frac{q_y-p_y}{q_x-p_x}=\\frac{-f(x_n)}{x_{n+1}-x_n},$$\n",
      "\n",
      "y por lo tanto: $$x_{n+1}=x_n -\\frac{f(x_n)}{f'(x_n)}.$$\n",
      "\n",
      "-------------------------"
     ]
    },
    {
     "cell_type": "markdown",
     "metadata": {},
     "source": [
      "Gr\u00e1ficamente esto se ve con la siguiente gr\u00e1fica, en la cual se usar\u00e1 como funci\u00f3n el polinomio $$p(x)=x^2-4.$$\n",
      "\n",
      "Cuya derivada es: $$p'(x)=2x.$$"
     ]
    },
    {
     "cell_type": "code",
     "collapsed": false,
     "input": [
      "using PyPlot\n",
      "\n",
      "function p(x)\n",
      "    x^2-4\n",
      "end\n",
      "\n",
      "function dp(x)\n",
      "    2x\n",
      "end \n",
      "\n",
      "lim=6\n",
      "xn=5\n",
      "x = linspace(-lim,lim); y = x.^2.-4\n",
      "PyPlot.plot(x, y)\n",
      "PyPlot.plot([-lim,lim],[0,0],\"black\")\n",
      "PyPlot.plot([0,0],[-5,p(lim)],\"black\")\n",
      "PyPlot.plot([xn,xn-(p(xn)/dp(5))],[p(xn),0],\"red\")\n"
     ],
     "language": "python",
     "metadata": {},
     "outputs": [
      {
       "output_type": "stream",
       "stream": "stderr",
       "text": [
        "INFO: Loading help data...\n"
       ]
      },
      {
       "metadata": {},
       "output_type": "display_data",
       "png": "[encoded data removed]",
       "text": [
        "Figure(PyObject <matplotlib.figure.Figure object at 0x7fe7748fce50>)"
       ]
      },
      {
       "metadata": {},
       "output_type": "pyout",
       "prompt_number": 1,
       "text": [
        "1-element Array{Any,1}:\n",
        " PyObject <matplotlib.lines.Line2D object at 0x7fe780c2d9d0>"
       ]
      }
     ],
     "prompt_number": 1
    },
    {
     "cell_type": "markdown",
     "metadata": {},
     "source": [
      "En azul se marca la curva del polinomio $p(x)$ y en rojo es la l\u00ednea que une a $x_n$ con $x_{n+1}$. En este caso se us\u00f3\n",
      "$x_n=5$.\n",
      "\n",
      "\n",
      "---------------"
     ]
    },
    {
     "cell_type": "markdown",
     "metadata": {},
     "source": [
      "-------------------\n",
      "**[2]** Implementa la iteraci\u00f3n para calcular la ra\u00edz cuadrada y la ra\u00edz c\u00fabica de $2$.  \u00bfCu\u00e1l es una condici\u00f3n razonable de terminaci\u00f3n del algoritmo?\n",
      "\n",
      "-------------"
     ]
    },
    {
     "cell_type": "markdown",
     "metadata": {},
     "source": [
      "\n",
      "Para resolver esto hay que usar lo que ya se sabe, que es sacar ceros a polinomios. Buscamos un polinomio $p(x)$ tal que al evaluarlo en $\\sqrt{2}$, de $0$. Dicho polinomio es: $$p(x)=x^2-2.$$\n",
      "\n",
      "El siguiente paso es calcular el cero de dicho polinomio siguiendo el m\u00e9todo de Newton."
     ]
    },
    {
     "cell_type": "code",
     "collapsed": true,
     "input": [
      "function p(x)\n",
      "    x^2-2\n",
      "end"
     ],
     "language": "python",
     "metadata": {},
     "outputs": [
      {
       "metadata": {},
       "output_type": "pyout",
       "prompt_number": 2,
       "text": [
        "p (generic function with 1 method)"
       ]
      }
     ],
     "prompt_number": 2
    },
    {
     "cell_type": "markdown",
     "metadata": {},
     "source": [
      "Y la derivada de p(x) se sacar\u00e1 a mano (por el momento). $$p'(x)=2x$$"
     ]
    },
    {
     "cell_type": "code",
     "collapsed": true,
     "input": [
      "function dp(x)\n",
      "    2x\n",
      "end"
     ],
     "language": "python",
     "metadata": {},
     "outputs": [
      {
       "metadata": {},
       "output_type": "pyout",
       "prompt_number": 3,
       "text": [
        "dp (generic function with 1 method)"
       ]
      }
     ],
     "prompt_number": 3
    },
    {
     "cell_type": "code",
     "collapsed": false,
     "input": [
      "function newton(x,tol,f::Function,df::Function)\n",
      "    dif=tol+1\n",
      "    while dif>tol\n",
      "        x0=x\n",
      "        x=x-f(x)/df(x)\n",
      "        dif=abs(x0-x)/abs(x0)\n",
      "    end\n",
      "    x\n",
      "end        "
     ],
     "language": "python",
     "metadata": {},
     "outputs": [
      {
       "metadata": {},
       "output_type": "pyout",
       "prompt_number": 4,
       "text": [
        "newton (generic function with 1 method)"
       ]
      }
     ],
     "prompt_number": 4
    },
    {
     "cell_type": "code",
     "collapsed": false,
     "input": [
      "println(\"La ra\u00edz cuadrada de 2 es: \", newton(1,0.00001,p,dp))"
     ],
     "language": "python",
     "metadata": {},
     "outputs": [
      {
       "output_type": "stream",
       "stream": "stdout",
       "text": [
        "La ra\u00edz cuadrada de 2 es: 1"
       ]
      },
      {
       "output_type": "stream",
       "stream": "stdout",
       "text": [
        ".4142135623746899\n"
       ]
      }
     ],
     "prompt_number": 5
    },
    {
     "cell_type": "markdown",
     "metadata": {},
     "source": [
      "Para sacar ala raiz c\u00fabica \u00fanicamante se lleva a cabo un proceso an\u00e1lofo al anterior. Se busca el polinomio cuyo cero de la soluci\u00f3n que se busca. En este caso el polinomio es: $$q(x)=x^3-2,$$\n",
      "\n",
      "Y se definen las siguientes funciones y su derivada:"
     ]
    },
    {
     "cell_type": "code",
     "collapsed": false,
     "input": [
      "function q(x)\n",
      "    x^3-2\n",
      "end\n",
      "\n",
      "function dq(x)\n",
      "    3x\n",
      "end"
     ],
     "language": "python",
     "metadata": {},
     "outputs": [
      {
       "metadata": {},
       "output_type": "pyout",
       "prompt_number": 6,
       "text": [
        "dq (generic function with 1 method)"
       ]
      }
     ],
     "prompt_number": 6
    },
    {
     "cell_type": "code",
     "collapsed": false,
     "input": [
      "println(\"La ra\u00edz c\u00fabica de 2 es: \", newton(1,0.00001,q, dq))"
     ],
     "language": "python",
     "metadata": {},
     "outputs": [
      {
       "output_type": "stream",
       "stream": "stdout",
       "text": [
        "La ra\u00edz c\u00fabica de 2 es: 1.259922587775509\n"
       ]
      }
     ],
     "prompt_number": 7
    },
    {
     "cell_type": "markdown",
     "metadata": {},
     "source": [
      "--------------"
     ]
    },
    {
     "cell_type": "markdown",
     "metadata": {},
     "source": [
      "--------------------\n",
      "\n",
      "**[3]** Haz un m\u00f3dulo para llevar a cabo diferenciaci\u00f3n autom\u00e1tica (usando el c\u00f3digo del notebook correspondiente) y util\u00edzalo para implementar el m\u00e9todo.\n",
      "\n",
      "----------------------------"
     ]
    },
    {
     "cell_type": "markdown",
     "metadata": {},
     "source": [
      "Mi m\u00f3dulo es el siguiente y se basa completamente en lo que ya se trabajo para tipos compositos en los notebooks anteriores."
     ]
    },
    {
     "cell_type": "raw",
     "metadata": {},
     "source": [
      "module Derivadas\n",
      "export FD\n",
      "\n",
      "type FD\n",
      "    f\n",
      "    d\n",
      "end\n",
      "\n",
      "function FD(c)\n",
      "    FD(c,0.0)\n",
      "end\n",
      "\n",
      "################# Aritm\u00e9tica ####################\n",
      "\n",
      "# Sumas\n",
      "\n",
      "function +(x::FD,y::FD)\n",
      "    FD(x.f+y.f,x.d+y.d)\n",
      "end\n",
      "\n",
      "function +(x::Real,y::FD) # esto es lo del inciso iv de \u00e9ste ejercicio\n",
      "    FD(x+y.f,y.d)\n",
      "end\n",
      "\n",
      "function +(x::FD,y::Real) # esto es lo del inciso iv de \u00e9ste ejercicio\n",
      "    FD(x.f+y,x.d)\n",
      "end\n",
      "\n",
      "#Restas\n",
      "function -(x::FD,y::FD)\n",
      "    FD(x.f-y.f,x.d-y.d)\n",
      "end\n",
      "\n",
      "function -(x::Real,y::FD) # esto es lo del inciso iv de \u00e9ste ejercicio\n",
      "    FD(x-y.f,-y.d)\n",
      "end\n",
      "\n",
      "function -(x::FD,y::Real) # esto es lo del inciso iv de \u00e9ste ejercicio\n",
      "    FD(x.f-y,x.d)\n",
      "end\n",
      "\n",
      "#Multiplicaciones\n",
      "function *(x::FD,y::FD)\n",
      "    FD(x.f*y.f, x.f*y.d+y.f*x.d)\n",
      "end\n",
      "\n",
      "function *(x::Real,y::FD)\n",
      "    FD(x*y.f, x*y.d)\n",
      "end\n",
      "\n",
      "function *(x::FD,y::Real)\n",
      "    FD(x.f*y, x.d*y)\n",
      "end\n",
      "\n",
      "#Divisiones\n",
      "function /(x::FD,y::Real)\n",
      "    FD(x.f/y, x.d/y)\n",
      "end\n",
      "\n",
      "function /(x::FD,y::FD)\n",
      "    FD(x.f/y.f, (y.f*x.d-x.f*y.d)/y.f^2)\n",
      "end\n",
      "\n",
      "#Potencia\n",
      "function ^(x::FD,a::Integer)\n",
      "    FD(x.f^a,a*x.f^(a-1)*x.d)\n",
      "end\n",
      "\n",
      "function ^(x::FD,a::FloatingPoint)\n",
      "    FD(x.f^a,a*x.f^(a-1)*x.d)\n",
      "end\n",
      "\n",
      "\n",
      "end"
     ]
    },
    {
     "cell_type": "markdown",
     "metadata": {},
     "source": [
      "El tipo que utilizo se llama `FD` (de **Fu**nci\u00f3n/**D**erivada) y el m\u00f3dulo lo nombre simplemente `Derivadas`.\n",
      "\n",
      "El m\u00f3dulo de derivadas s\u00f3lo lo constru\u00ed para que sirviera sobre funciones que fueran polinomios o cocientes de polinomios."
     ]
    },
    {
     "cell_type": "code",
     "collapsed": false,
     "input": [
      "using Derivadas"
     ],
     "language": "python",
     "metadata": {},
     "outputs": [],
     "prompt_number": 8
    },
    {
     "cell_type": "markdown",
     "metadata": {},
     "source": [
      "Ahora ya no ser\u00e1 necesario calcular e introducir a mano la derivada de la funci\u00f3n, sino que la diferenciaci\u00f3n autom\u00e1tica se encargar\u00e1 de eso."
     ]
    },
    {
     "cell_type": "code",
     "collapsed": false,
     "input": [
      "function newton(x,tol,f::Function)\n",
      "    dif=tol+1\n",
      "    while dif>tol\n",
      "        x=FD(x,1.0)\n",
      "        x0=x\n",
      "        x=x.f-f(x).f/f(x).d\n",
      "        dif=abs(x0.f-x)/abs(x0.f)\n",
      "    end\n",
      "    x\n",
      "end"
     ],
     "language": "python",
     "metadata": {},
     "outputs": [
      {
       "metadata": {},
       "output_type": "pyout",
       "prompt_number": 9,
       "text": [
        "newton (generic function with 2 methods)"
       ]
      }
     ],
     "prompt_number": 9
    },
    {
     "cell_type": "markdown",
     "metadata": {},
     "source": [
      "Haciendo el mismo c\u00e1lculo de la raiz cuadrada y raiz c\u00fabica, con la misma tolerancia. Se tiene que para la raiz cuadrada:"
     ]
    },
    {
     "cell_type": "code",
     "collapsed": false,
     "input": [
      "newton(1.0,0.00001,p)"
     ],
     "language": "python",
     "metadata": {},
     "outputs": [
      {
       "metadata": {},
       "output_type": "pyout",
       "prompt_number": 10,
       "text": [
        "1.4142135623746899"
       ]
      }
     ],
     "prompt_number": 10
    },
    {
     "cell_type": "markdown",
     "metadata": {},
     "source": [
      "Y para la raiz c\u00fabica:"
     ]
    },
    {
     "cell_type": "code",
     "collapsed": false,
     "input": [
      "newton(1,0.00001,q)"
     ],
     "language": "python",
     "metadata": {},
     "outputs": [
      {
       "metadata": {},
       "output_type": "pyout",
       "prompt_number": 11,
       "text": [
        "1.2599210500177698"
       ]
      }
     ],
     "prompt_number": 11
    },
    {
     "cell_type": "markdown",
     "metadata": {},
     "source": [
      "-------------------"
     ]
    },
    {
     "cell_type": "markdown",
     "metadata": {},
     "source": [
      "-----------------------\n",
      "**[4]** Utiliza el mismo m\u00e9todo para la funci\u00f3n *compleja* $f(z) = z^3 - 1$. Empezando desde distintos n\u00fameros complejos $a + bi$, itera el algoritmo para ver a cu\u00e1l ra\u00edz converge, y colorea el punto inicial de manera correspondiente. [Para esto, se recomienda construir una matriz y utilizar la funci\u00f3n `pcolor` de `PyPlot`.]\n",
      "\n",
      "Interpreta el resultado.\n",
      "\n",
      "-----------------"
     ]
    },
    {
     "cell_type": "markdown",
     "metadata": {},
     "source": [
      "En los complejos, la funci\u00f3n $f(z)$ tiene m\u00e1s de una raiz, sus ra\u00edces son: $$z_1=1, ~z_2=\\frac{1}{2}(-1+\\sqrt{3}i),~z_3=-\\frac{1}{2}(1+\\sqrt{3}i)$$\n",
      "\n"
     ]
    },
    {
     "cell_type": "code",
     "collapsed": false,
     "input": [
      "function f(z)\n",
      "    z^3-1\n",
      "end"
     ],
     "language": "python",
     "metadata": {},
     "outputs": [
      {
       "metadata": {},
       "output_type": "pyout",
       "prompt_number": 12,
       "text": [
        "f (generic function with 1 method)"
       ]
      }
     ],
     "prompt_number": 12
    },
    {
     "cell_type": "markdown",
     "metadata": {},
     "source": [
      "Si se escoge una condicion inicial cercana a $z_1$:"
     ]
    },
    {
     "cell_type": "code",
     "collapsed": false,
     "input": [
      "newton(1.2+0im,0.00001,f)"
     ],
     "language": "python",
     "metadata": {},
     "outputs": [
      {
       "metadata": {},
       "output_type": "pyout",
       "prompt_number": 13,
       "text": [
        "1.000000000000816 + 0.0im"
       ]
      }
     ],
     "prompt_number": 13
    },
    {
     "cell_type": "markdown",
     "metadata": {},
     "source": [
      "Se llega a la ra\u00edz $z_1$."
     ]
    },
    {
     "cell_type": "markdown",
     "metadata": {},
     "source": [
      "Ahora una condici\u00f3n inicial cercana a $z_2$:"
     ]
    },
    {
     "cell_type": "code",
     "collapsed": false,
     "input": [
      "newton(-0.69+2im,0.00001,f)"
     ],
     "language": "python",
     "metadata": {},
     "outputs": [
      {
       "metadata": {},
       "output_type": "pyout",
       "prompt_number": 14,
       "text": [
        "-0.5000000000000477 + 0.8660254037844204im"
       ]
      }
     ],
     "prompt_number": 14
    },
    {
     "cell_type": "markdown",
     "metadata": {},
     "source": [
      "Se llega a la ra\u00edz $z_2$\n",
      "\n",
      "Y si se escoge una condici\u00f3n inicial cercana a $z_3$:"
     ]
    },
    {
     "cell_type": "code",
     "collapsed": false,
     "input": [
      "newton(-0.721-1im,0.00001,f)"
     ],
     "language": "python",
     "metadata": {},
     "outputs": [
      {
       "metadata": {},
       "output_type": "pyout",
       "prompt_number": 15,
       "text": [
        "-0.5000000000314777 - 0.8660254038034373im"
       ]
      }
     ],
     "prompt_number": 15
    },
    {
     "cell_type": "markdown",
     "metadata": {},
     "source": [
      "Se llega a la ra\u00edz $z_3$.\n",
      "\n",
      "Con esto se ve que el resultado final es sensible a la condici\u00f3n inicial que se toma.\n",
      "\n",
      "Para graficar esto se har\u00e1 una funci\u00f3n que realice el m\u00e9todo de Newton sobre un intervalo complejo dado. Al aplicar el m\u00e9todo de Newton a cada uno de los puntos del intervalo se obtendr\u00e1 la ra\u00edz a la cual converge. Dependiendo de la raiz a la que converja es que se le asociar\u00e1 un color. Rojo si converge a $z_1$, amarillo si converge a $z_2$, azul claro si converge a $z_3$ y azul oscuro si no converge.\n",
      "\n",
      "La funci\u00f3n que realiza dicha gr\u00e1fica es la siguiente:"
     ]
    },
    {
     "cell_type": "code",
     "collapsed": false,
     "input": [
      "function grafica_raices_complejas(lim,step,tol,f::Function)\n",
      "    x=[-lim:step:lim]\n",
      "    y=[-lim:step:lim]\n",
      "    z=ones(length(x),length(y))\n",
      "    for i=1:length(x)\n",
      "        for j=1:length(y)\n",
      "            if (-0.5-tol)<real(newton(Complex(x[i],y[j]),tol,f))<-0.5+tol && (-(0.5*sqrt(3))-tol)<imag(newton(Complex(x[i],y[j]),tol,f))<(-(0.5*sqrt(3))+tol)\n",
      "                z[j,i]=2\n",
      "                elseif (-0.5-tol)<real(newton(Complex(x[i],y[j]),tol,f))<(-0.5+tol) && ((0.5*sqrt(3))-tol)<imag(newton(Complex(x[i],y[j]),tol,f))<((0.5*sqrt(3))+tol)\n",
      "                z[j,i]=3\n",
      "                elseif (1-tol)<real(newton(Complex(x[i],y[j]),tol,f))<(1+tol) && -tol<imag(newton(Complex(x[i],y[j]),tol,f))<tol\n",
      "                z[j,i]=4\n",
      "            end\n",
      "        end\n",
      "    end\n",
      "    PyPlot.pcolor(x,y,z)\n",
      "    PyPlot.xlabel(\"Reales\")\n",
      "    PyPlot.ylabel(\"Imaginarios\")\n",
      "    #PyPlot.savefig(\"fractalz3-1.png\", dpi=1000) Por si quiero guardar la imagen\n",
      "    #PyPlot.show()\n",
      "end\n"
     ],
     "language": "python",
     "metadata": {},
     "outputs": [
      {
       "metadata": {},
       "output_type": "pyout",
       "prompt_number": 16,
       "text": [
        "grafica_raices_complejas (generic function with 1 method)"
       ]
      }
     ],
     "prompt_number": 16
    },
    {
     "cell_type": "code",
     "collapsed": false,
     "input": [
      "grafica_raices_complejas(10,0.5/2,0.001,f)"
     ],
     "language": "python",
     "metadata": {},
     "outputs": [
      {
       "metadata": {},
       "output_type": "display_data",
       "png": "[encoded data removed]",
       "text": [
        "Figure(PyObject <matplotlib.figure.Figure object at 0x7fe75fa2f1d0>)"
       ]
      },
      {
       "metadata": {},
       "output_type": "pyout",
       "prompt_number": 17,
       "text": [
        "PyObject <matplotlib.text.Text object at 0x7fe75f401b90>"
       ]
      }
     ],
     "prompt_number": 17
    },
    {
     "cell_type": "markdown",
     "metadata": {},
     "source": [
      "En rojo, condiciones inciales que convergen a la ra\u00edz $z_1=1$, En amarillo, condiciones iniciales que convergen a la ra\u00edz $z_2=\\frac{1}{2}(-1+\\sqrt{3}i)$. En azul claro, condiciones iniciales que convergen a la ra\u00edz $z_3=-\\frac{1}{2}(1+\\sqrt{3}i)$.  En azul oscuro (alrededor del cero), condiciones iniciales que no convergen.\n",
      "\n",
      "Es necesario se\u00f1alar que el $0$ es la condici\u00f3n inicial que no converge a una ra\u00edz."
     ]
    },
    {
     "cell_type": "markdown",
     "metadata": {},
     "source": [
      "Se puede hacer m\u00e1s detallada la imagen anterior d\u00e1ndole un paso m\u00e1s peque\u00f1o."
     ]
    },
    {
     "cell_type": "code",
     "collapsed": false,
     "input": [
      "grafica_raices_complejas(10,0.5/10,0.001,f)"
     ],
     "language": "python",
     "metadata": {},
     "outputs": [
      {
       "metadata": {},
       "output_type": "display_data",
       "png": "[encoded data removed]",
       "text": [
        "Figure(PyObject <matplotlib.figure.Figure object at 0x7fe75ec0cb90>)"
       ]
      },
      {
       "metadata": {},
       "output_type": "pyout",
       "prompt_number": 18,
       "text": [
        "PyObject <matplotlib.text.Text object at 0x7fe75ebc5190>"
       ]
      }
     ],
     "prompt_number": 18
    },
    {
     "cell_type": "markdown",
     "metadata": {},
     "source": [
      "Esto permite apreciar la naturaleza fractal de las condiciones iniciales y la manera en que convergen a sus diferentes ra\u00edces."
     ]
    },
    {
     "cell_type": "markdown",
     "metadata": {},
     "source": [
      "--------------------------------------"
     ]
    },
    {
     "cell_type": "markdown",
     "metadata": {},
     "source": [
      "-------------------------\n",
      "\n",
      "[5] Desarrolla el implementa el m\u00e9todo de Newton para funciones $\\mathbf{f}: \\mathbb{R}^n \\to \\mathbb{R}^n$. Para hacerlo, toma una adivinaza $\\mathbf{x}_n$ y resuelve la ecuaci\u00f3n $\\mathbf{f}(\\mathbf{x}_{n+1}) = \\mathbf{0}$, con $\\mathbf{x}_{n+1} = \\mathbf{x}_n + \\delta \\mathbf{x}_n$.\n",
      "\n",
      "------------------------"
     ]
    },
    {
     "cell_type": "markdown",
     "metadata": {},
     "source": [
      "Para funciones que van de $\\mathbb{R}^n \\to \\mathbb{R}^n$, se tiene que el Jacobiano cumple al siguiente ecuaci\u00f3n: $$J(\\mathbf{x}_n)(\\mathbf{x}_{n+1}-\\mathbf{x}_n)=F(\\mathbf{x}_n),$$ despejando, $$\\mathbf{x}_{n+1}=\\mathbf{x}_n+J^{-1}(\\mathbf{x}_n)\\cdot F(\\mathbf{x}_n).$$\n",
      "\n",
      "Por lo tanto $\\delta \\mathbf{x}_n=J^{-1}(\\mathbf{x}_n)\\cdot F(\\mathbf{x}_n)$. Donde el Jacobiano es una matriz cuyas entradas son: $$ J_{ij} =\\frac{\\partial F_i}{\\partial x_j} $$\n",
      "\n",
      "Primero ser\u00e1 necesario hacer una funci\u00f3n que calcule el jacobiano de una funci\u00f3n y lo eval\u00fae en una $\\mathbf{x}$ dada. Para \u00e9sto me apoyar\u00e9 del m\u00f3dulo de `Derivadas`.\n"
     ]
    },
    {
     "cell_type": "code",
     "collapsed": false,
     "input": [
      "using Derivadas"
     ],
     "language": "python",
     "metadata": {},
     "outputs": [],
     "prompt_number": 19
    },
    {
     "cell_type": "code",
     "collapsed": true,
     "input": [
      "function jacobiano(x::Array, f::Function)  \n",
      "    m=length(x)\n",
      "    n=length(f(x))\n",
      "    Jac=zeros(n,m)\n",
      "    for i=1:n\n",
      "        for j=1:m\n",
      "            xvar=FD[]\n",
      "            for k=1:m\n",
      "                if k==j\n",
      "                    comp=FD(x[k],1.0)\n",
      "                else\n",
      "                    comp=FD(x[k])\n",
      "                end\n",
      "                xvar=push!(xvar,comp)\n",
      "            end   \n",
      "            Jac[i,j]=f(xvar)[i].d\n",
      "        end\n",
      "    end\n",
      "    Jac\n",
      "end\n",
      "      "
     ],
     "language": "python",
     "metadata": {},
     "outputs": [
      {
       "metadata": {},
       "output_type": "pyout",
       "prompt_number": 20,
       "text": [
        "jacobiano (generic function with 1 method)"
       ]
      }
     ],
     "prompt_number": 20
    },
    {
     "cell_type": "markdown",
     "metadata": {},
     "source": [
      "Para probarla definir\u00e9 la siguiente funci\u00f3n $\\mathbf{F}(x,y,z)=(x^2+3yz,~x^3+3y,~2z^4)$. Y la evaluar\u00e9 en el punto $\\mathbf{x}=(2,3,1)$."
     ]
    },
    {
     "cell_type": "code",
     "collapsed": false,
     "input": [
      "function F(x)\n",
      "    [x[1]^2+3x[2]*x[3], x[1]^3+3x[2], 2x[3]^4]\n",
      "end"
     ],
     "language": "python",
     "metadata": {},
     "outputs": [
      {
       "metadata": {},
       "output_type": "pyout",
       "prompt_number": 21,
       "text": [
        "F (generic function with 1 method)"
       ]
      }
     ],
     "prompt_number": 21
    },
    {
     "cell_type": "code",
     "collapsed": false,
     "input": [
      "x=[2,3,1]"
     ],
     "language": "python",
     "metadata": {},
     "outputs": [
      {
       "metadata": {},
       "output_type": "pyout",
       "prompt_number": 22,
       "text": [
        "3-element Array{Int64,1}:\n",
        " 2\n",
        " 3\n",
        " 1"
       ]
      }
     ],
     "prompt_number": 22
    },
    {
     "cell_type": "code",
     "collapsed": false,
     "input": [
      "J=jacobiano(x,F)"
     ],
     "language": "python",
     "metadata": {},
     "outputs": [
      {
       "metadata": {},
       "output_type": "pyout",
       "prompt_number": 23,
       "text": [
        "3x3 Array{Float64,2}:\n",
        "  4.0  3.0  9.0\n",
        " 12.0  3.0  0.0\n",
        "  0.0  0.0  8.0"
       ]
      }
     ],
     "prompt_number": 23
    },
    {
     "cell_type": "markdown",
     "metadata": {},
     "source": [
      "Si se saca a mano el Jacobiano se encuentra que es: $$J= \\begin{bmatrix} \n",
      "2x & 3z & 3y  \\\\\n",
      "3x^2 & 3 & 0 \\\\\n",
      "0 & 0 & 8z^3 \n",
      "\\end{bmatrix}$$\n",
      "\n",
      "Que al evaluarlo en el punto $\\mathbf{x}=(2,3,1)$ queda: $$J(2,3,1)= \\begin{bmatrix} \n",
      "4 & 3 & 9  \\\\\n",
      "12 & 3 & 0 \\\\\n",
      "0 & 0 & 8 \n",
      "\\end{bmatrix}$$"
     ]
    },
    {
     "cell_type": "markdown",
     "metadata": {},
     "source": [
      "El siguiente paso es definir la funci\u00f3n del m\u00e9todo de Newton que incorpore al Jacobiano dentro de su c\u00e1lculo."
     ]
    },
    {
     "cell_type": "code",
     "collapsed": false,
     "input": [
      "function newton(x::Array,tol,F::Function)\n",
      "    dif=tol+1\n",
      "    n=length(x)\n",
      "    k=0 #contador por si necesito saber cuantas iteraciones hizo\n",
      "        while dif>tol\n",
      "            J=jacobiano(x,F)\n",
      "            x0=x\n",
      "            x=x0-(J^-1)*F(x0)\n",
      "            dif=norm(x0-x)/norm(x0)\n",
      "        k=k+1\n",
      "        end\n",
      "        x\n",
      "end"
     ],
     "language": "python",
     "metadata": {},
     "outputs": [
      {
       "metadata": {},
       "output_type": "pyout",
       "prompt_number": 24,
       "text": [
        "newton (generic function with 3 methods)"
       ]
      }
     ],
     "prompt_number": 24
    },
    {
     "cell_type": "markdown",
     "metadata": {},
     "source": [
      "-------------------------"
     ]
    },
    {
     "cell_type": "markdown",
     "metadata": {},
     "source": [
      "-------------------\n",
      "[6] Utiliza tu algoritmo para calcular ra\u00edces de funciones conocidas multidimensionales.\n",
      "\n",
      "--------------------"
     ]
    },
    {
     "cell_type": "markdown",
     "metadata": {},
     "source": [
      "[i]\n",
      "\n",
      "La primera funci\u00f3n con la cual se probar\u00e1 ser\u00e1 \n",
      "$ A: \\mathbb{R}^2 \\to \\mathbb{R}^2 $, definida como: $$\\mathbf{A}(x,y)= (x-2y-10,~x^2+2x-y-15).$$ \n",
      "\n",
      "Las ra\u00edces de $\\mathbf{A}$ son las soluciones del sistema formado por las dos ecuaciones que se encuentran en las componentes de $\\mathbf{A}$. Las soluciones se pueden visualizar si se buscan las intersecciones que hay entre las curvas $A_x=x-2y-10=0$ y $A_y=x^2+2x-y-15=0$. \n",
      "\n",
      "A continucaci\u00f3n se muestra la gr\u00e1fica con las intersecciones.\n"
     ]
    },
    {
     "cell_type": "code",
     "collapsed": false,
     "input": [
      "using PyPlot\n",
      "lim=6\n",
      "x = linspace(-lim,lim-2); y =  x.^2+2x-15\n",
      "u = linspace(-lim,lim-2); v =  0.5u-5\n",
      "PyPlot.plot(x, y)\n",
      "PyPlot.plot(u,v)"
     ],
     "language": "python",
     "metadata": {},
     "outputs": [
      {
       "metadata": {},
       "output_type": "display_data",
       "png": "[encoded data removed]",
       "text": [
        "Figure(PyObject <matplotlib.figure.Figure object at 0x7fe780c6bf90>)"
       ]
      },
      {
       "metadata": {},
       "output_type": "pyout",
       "prompt_number": 25,
       "text": [
        "1-element Array{Any,1}:\n",
        " PyObject <matplotlib.lines.Line2D object at 0x7fe75ead9710>"
       ]
      }
     ],
     "prompt_number": 25
    },
    {
     "cell_type": "markdown",
     "metadata": {},
     "source": [
      "En azul se muestra la curva $x-2y-10=0$ y en verde la curva $x^2+2x-y-15=0$. \n",
      "\n",
      "Estas curvas se intersectan en los puntos $\\mathbf{x}_1=(2.5,-3.75)$ y $\\mathbf{x}_2=(-4,-7)$."
     ]
    },
    {
     "cell_type": "code",
     "collapsed": false,
     "input": [
      "function A(x)\n",
      "    [x[1]-2x[2]-10,x[1]^2+2x[1]-x[2]-15]\n",
      "end"
     ],
     "language": "python",
     "metadata": {},
     "outputs": [
      {
       "metadata": {},
       "output_type": "pyout",
       "prompt_number": 26,
       "text": [
        "A (generic function with 1 method)"
       ]
      }
     ],
     "prompt_number": 26
    },
    {
     "cell_type": "markdown",
     "metadata": {},
     "source": [
      "Como se sabe que existen dos ra\u00edces se necesitar\u00e1n dos condiciones iniciales para hallar a las dos. Primero se usara una caondici\u00f3n inicial que busque en el cuadrante de las $x$ positivas y las $y$ negativas."
     ]
    },
    {
     "cell_type": "code",
     "collapsed": false,
     "input": [
      "newton([1, -3],10^(-5.),A)"
     ],
     "language": "python",
     "metadata": {},
     "outputs": [
      {
       "metadata": {},
       "output_type": "pyout",
       "prompt_number": 27,
       "text": [
        "2-element Array{Float64,1}:\n",
        "  2.5 \n",
        " -3.75"
       ]
      }
     ],
     "prompt_number": 27
    },
    {
     "cell_type": "markdown",
     "metadata": {},
     "source": [
      "Con esta condici\u00f3n inicial se encontr\u00f3 la ra\u00edz $\\mathbf{x}_1=(2.5,-3.75)$.\n",
      "\n",
      "Ahora se buscar\u00e1 a la raiz en el cuadrante de las $x$ negativas y las $y$ negativas."
     ]
    },
    {
     "cell_type": "code",
     "collapsed": false,
     "input": [
      "newton([-1, -3],10^(-5.),A)"
     ],
     "language": "python",
     "metadata": {},
     "outputs": [
      {
       "metadata": {},
       "output_type": "pyout",
       "prompt_number": 28,
       "text": [
        "2-element Array{Float64,1}:\n",
        " -4.0\n",
        " -7.0"
       ]
      }
     ],
     "prompt_number": 28
    },
    {
     "cell_type": "markdown",
     "metadata": {},
     "source": [
      "Aqu\u00ed se encontr\u00f3 la ra\u00edz $\\mathbf{x}_2=(-4,-7)$."
     ]
    },
    {
     "cell_type": "markdown",
     "metadata": {},
     "source": [
      "[ii]  \n",
      "\n",
      "Como un segundo ejemplo se ocupar\u00e1 una funci\u00f3n definida en $\\mathbb{R}^3 \\to \\mathbb{R}^3$. Est\u00e1 funci\u00f3n es: $$ \\mathbf{B}(x,y,z)= (x-2y+3z-7,~2x+y+z-4,~-3x+2y-2z+10).$$\n",
      "\n",
      "Cada una de las compnentes de $B$ ns una recta y las tres se interesectan en el punto $\\mathbf{x}=(2,-1,1)$. \n",
      "\n",
      "A continuaci\u00f3n se busca esta soluci\u00f3n con el m\u00e9todo de Newton."
     ]
    },
    {
     "cell_type": "code",
     "collapsed": false,
     "input": [
      "function B(x)\n",
      "    [x[1]-2x[2]+3x[3]-7, 2x[1]+x[2]+x[3]-4, -3x[1]+2x[2]-2x[3]+10]\n",
      "end"
     ],
     "language": "python",
     "metadata": {},
     "outputs": [
      {
       "metadata": {},
       "output_type": "pyout",
       "prompt_number": 29,
       "text": [
        "B (generic function with 1 method)"
       ]
      }
     ],
     "prompt_number": 29
    },
    {
     "cell_type": "code",
     "collapsed": false,
     "input": [
      "newton([2,-4,-0.6],10^(-5.),B)"
     ],
     "language": "python",
     "metadata": {},
     "outputs": [
      {
       "metadata": {},
       "output_type": "pyout",
       "prompt_number": 30,
       "text": [
        "3-element Array{Float64,1}:\n",
        "  2.0\n",
        " -1.0\n",
        "  1.0"
       ]
      }
     ],
     "prompt_number": 30
    },
    {
     "cell_type": "markdown",
     "metadata": {},
     "source": [
      "Claramente la soluci\u00f3n coincide."
     ]
    },
    {
     "cell_type": "markdown",
     "metadata": {},
     "source": [
      "[iii]\n",
      "\n",
      "Por \u00faltimo se probar\u00e1 con la funci\u00f3n $C(\\mathbf{x})=(x^2-z-3,~x^3+2y+3,~2z+1)$, con un punto inicial $(2,-4,-0.6)$. De \u00e9sta funci\u00f3n no conozco las soluciones pero a ver que sale."
     ]
    },
    {
     "cell_type": "code",
     "collapsed": false,
     "input": [
      "function C(x)\n",
      "    [x[1]^2-x[3]-3, x[1]^3+2*x[2]+3, 2x[3]+1]\n",
      "end"
     ],
     "language": "python",
     "metadata": {},
     "outputs": [
      {
       "metadata": {},
       "output_type": "pyout",
       "prompt_number": 31,
       "text": [
        "C (generic function with 1 method)"
       ]
      }
     ],
     "prompt_number": 31
    },
    {
     "cell_type": "code",
     "collapsed": false,
     "input": [
      "x1=newton([2,-4,-0.6],10^(-5.),C)"
     ],
     "language": "python",
     "metadata": {},
     "outputs": [
      {
       "metadata": {},
       "output_type": "pyout",
       "prompt_number": 32,
       "text": [
        "3-element Array{Float64,1}:\n",
        "  1.58114\n",
        " -3.47642\n",
        " -0.5    "
       ]
      }
     ],
     "prompt_number": 32
    },
    {
     "cell_type": "markdown",
     "metadata": {},
     "source": [
      "Ocupando otra condici\u00f3n inicial, $(-2,-4,-0.6)$, se obtiene:"
     ]
    },
    {
     "cell_type": "code",
     "collapsed": false,
     "input": [
      "x2=newton([-2,-4,-0.6],10^(-5.),C)"
     ],
     "language": "python",
     "metadata": {},
     "outputs": [
      {
       "metadata": {},
       "output_type": "pyout",
       "prompt_number": 33,
       "text": [
        "3-element Array{Float64,1}:\n",
        " -1.58114 \n",
        "  0.476424\n",
        " -0.5     "
       ]
      }
     ],
     "prompt_number": 33
    },
    {
     "cell_type": "markdown",
     "metadata": {},
     "source": [
      "Evaluando la funci\u00f3n G en los $x_1$ y $x_2$ obtenidos por la funci\u00f3n `newton`, se tiene que:"
     ]
    },
    {
     "cell_type": "code",
     "collapsed": false,
     "input": [
      "println(\"C(x1)= \", C(x1))\n",
      "println(\"C(x2)= \", C(x2))"
     ],
     "language": "python",
     "metadata": {},
     "outputs": [
      {
       "output_type": "stream",
       "stream": "stdout",
       "text": [
        "C(x1)= "
       ]
      },
      {
       "output_type": "stream",
       "stream": "stdout",
       "text": [
        "[1.2434497875801753e-14,5.81756864903582e-14,0.0]\n",
        "C(x2)= [1.2434497875801753e-14,-5.773159728050814e-14,0.0]\n"
       ]
      }
     ],
     "prompt_number": 34
    },
    {
     "cell_type": "markdown",
     "metadata": {},
     "source": [
      "Ambos resultados  se acerca mucho al vector $\\mathbf{0}$."
     ]
    }
   ],
   "metadata": {}
  }
 ]
}
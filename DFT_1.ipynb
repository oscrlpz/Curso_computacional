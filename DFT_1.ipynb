{
 "metadata": {
  "language": "Julia",
  "name": "",
  "signature": "sha256:b759be1c4ba313c15f6ee71cfa5b0e5cf866cba11926b9479dfed105584f09fe"
 },
 "nbformat": 3,
 "nbformat_minor": 0,
 "worksheets": [
  {
   "cells": [
    {
     "cell_type": "heading",
     "level": 3,
     "metadata": {},
     "source": [
      "2 de junio de 2015"
     ]
    },
    {
     "cell_type": "code",
     "collapsed": true,
     "input": [
      "using Intervalos\n",
      "#using Complejos\n",
      "pi=big(pi)"
     ],
     "language": "python",
     "metadata": {},
     "outputs": [
      {
       "metadata": {},
       "output_type": "pyout",
       "prompt_number": 9,
       "text": [
        "3.141592653589793238462643383279502884197169399375105820974944592307816406286198e+00 with 256 bits of precision"
       ]
      }
     ],
     "prompt_number": 9
    },
    {
     "cell_type": "markdown",
     "metadata": {},
     "source": [
      "Primero se calcular\u00e1 la Transformada discreta de Fourier (DFT) en reales:"
     ]
    },
    {
     "cell_type": "code",
     "collapsed": false,
     "input": [
      "using PyPlot\n",
      "function sin_ruido(F, L)\n",
      "    y=zeros(L,2)\n",
      "    T=1/F\n",
      "    x=zeros(L)\n",
      "    t=zeros(L)\n",
      "    D={}\n",
      "    for i=1:L\n",
      "        t[i]=i*T\n",
      "        \n",
      "        x[i]= 0.7*sin(2*pi*50*t[i])+sin(2* pi* 120*t[i])\n",
      "    end\n",
      "   \n",
      "    #{t,y= x+rand(length(x))}\n",
      "    #R=[t y]\n",
      "    p=(F,L)\n",
      "    y= x+rand(length(x))\n",
      "    D=push!(D,p,t,y)\n",
      "    \n",
      "    #plot(t,y)\n",
      "end"
     ],
     "language": "python",
     "metadata": {},
     "outputs": [
      {
       "output_type": "stream",
       "stream": "stderr",
       "text": [
        "INFO: Loading help data...\n"
       ]
      },
      {
       "metadata": {},
       "output_type": "pyout",
       "prompt_number": 10,
       "text": [
        "sin_ruido (generic function with 1 method)"
       ]
      }
     ],
     "prompt_number": 10
    },
    {
     "cell_type": "code",
     "collapsed": false,
     "input": [
      "F=1000\n",
      "L=1000\n",
      "D=sin_ruido(1000, 1000)"
     ],
     "language": "python",
     "metadata": {},
     "outputs": [
      {
       "metadata": {},
       "output_type": "pyout",
       "prompt_number": 11,
       "text": [
        "3-element Array{Any,1}:\n",
        " (1000,1000)                                                                                                                                                                           \n",
        " [0.001,0.002,0.003,0.004,0.005,0.006,0.007,0.008,0.009,0.01  \u2026  0.991,0.992,0.993,0.994,0.995,0.996,0.997,0.998,0.999,1.0]                                                            \n",
        " [1.61467,1.51505,1.66603,1.34256,1.04609,-0.113722,-0.108281,0.952931,1.4635,1.77776  \u2026  -0.104545,0.174716,0.673172,0.950453,0.779844,-0.382858,-1.16658,-1.25638,-0.239622,0.762672]"
       ]
      }
     ],
     "prompt_number": 11
    },
    {
     "cell_type": "code",
     "collapsed": false,
     "input": [
      "length(D[3])"
     ],
     "language": "python",
     "metadata": {},
     "outputs": [
      {
       "metadata": {},
       "output_type": "pyout",
       "prompt_number": 12,
       "text": [
        "1000"
       ]
      }
     ],
     "prompt_number": 12
    },
    {
     "cell_type": "code",
     "collapsed": false,
     "input": [
      "D[3]"
     ],
     "language": "python",
     "metadata": {},
     "outputs": [
      {
       "metadata": {},
       "output_type": "pyout",
       "prompt_number": 13,
       "text": [
        "1000-element Array{Float64,1}:\n",
        "  1.61467 \n",
        "  1.51505 \n",
        "  1.66603 \n",
        "  1.34256 \n",
        "  1.04609 \n",
        " -0.113722\n",
        " -0.108281\n",
        "  0.952931\n",
        "  1.4635  \n",
        "  1.77776 \n",
        "  0.846045\n",
        "  0.716715\n",
        " -0.190319\n",
        "  \u22ee       \n",
        " -0.293774\n",
        " -0.307329\n",
        " -0.104545\n",
        "  0.174716\n",
        "  0.673172\n",
        "  0.950453\n",
        "  0.779844\n",
        " -0.382858\n",
        " -1.16658 \n",
        " -1.25638 \n",
        " -0.239622\n",
        "  0.762672"
       ]
      }
     ],
     "prompt_number": 13
    },
    {
     "cell_type": "code",
     "collapsed": false,
     "input": [
      "plot(D[2],D[3])"
     ],
     "language": "python",
     "metadata": {},
     "outputs": [
      {
       "metadata": {},
       "output_type": "display_data",
       "png": "[encoded data removed]",
       "text": [
        "Figure(PyObject <matplotlib.figure.Figure object at 0x7ff0603e4e10>)"
       ]
      },
      {
       "metadata": {},
       "output_type": "pyout",
       "prompt_number": 14,
       "text": [
        "1-element Array{Any,1}:\n",
        " PyObject <matplotlib.lines.Line2D object at 0x7ff07418ee10>"
       ]
      }
     ],
     "prompt_number": 14
    },
    {
     "cell_type": "code",
     "collapsed": false,
     "input": [
      "function TFY(D, k, N)\n",
      "    y=D[3]\n",
      "    w=(cos(-2*\u03c0*k/N)-im*sin((-2*\u03c0*k/N)))\n",
      "    sum([y[n]*w^n for n=1:N])\n",
      "end"
     ],
     "language": "python",
     "metadata": {},
     "outputs": [
      {
       "metadata": {},
       "output_type": "pyout",
       "prompt_number": 15,
       "text": [
        "TFY (generic function with 1 method)"
       ]
      }
     ],
     "prompt_number": 15
    },
    {
     "cell_type": "code",
     "collapsed": false,
     "input": [
      "function DFTa(D)\n",
      "    y=D[3]\n",
      "    N=length(y)\n",
      "    FY= zeros(Complex, N)\n",
      "    for k=1:N\n",
      "        #w=(cos(-2*\u03c0*k/N)-sin((-2*\u03c0*k/N)))\n",
      "        FY[k]=TFY(D, k, N)\n",
      "    end \n",
      "FY     \n",
      "end"
     ],
     "language": "python",
     "metadata": {},
     "outputs": [
      {
       "metadata": {},
       "output_type": "pyout",
       "prompt_number": 16,
       "text": [
        "DFTa (generic function with 1 method)"
       ]
      }
     ],
     "prompt_number": 16
    },
    {
     "cell_type": "code",
     "collapsed": false,
     "input": [
      "function DFT(D)\n",
      "    y=D[3]\n",
      "    N=length(y)\n",
      "    FY={}\n",
      "    for k=1:N\n",
      "        #w=(cos(-2*\u03c0*k/N)-sin((-2*\u03c0*k/N)))\n",
      "        FY=push!(FY, TFY(D, k, N))\n",
      "    end \n",
      "FY     \n",
      "end"
     ],
     "language": "python",
     "metadata": {},
     "outputs": [
      {
       "metadata": {},
       "output_type": "pyout",
       "prompt_number": 17,
       "text": [
        "DFT (generic function with 1 method)"
       ]
      }
     ],
     "prompt_number": 17
    },
    {
     "cell_type": "code",
     "collapsed": false,
     "input": [
      "tic()\n",
      "\n",
      "toc()"
     ],
     "language": "python",
     "metadata": {},
     "outputs": [
      {
       "output_type": "stream",
       "stream": "stdout",
       "text": [
        "elapsed time: 0."
       ]
      },
      {
       "output_type": "stream",
       "stream": "stdout",
       "text": [
        "000220135 seconds\n"
       ]
      },
      {
       "metadata": {},
       "output_type": "pyout",
       "prompt_number": 18,
       "text": [
        "0.000220135"
       ]
      }
     ],
     "prompt_number": 18
    },
    {
     "cell_type": "code",
     "collapsed": false,
     "input": [
      "tic()\n",
      "TFY(D,2,1000)\n",
      "toc()"
     ],
     "language": "python",
     "metadata": {},
     "outputs": [
      {
       "output_type": "stream",
       "stream": "stdout",
       "text": [
        "elapsed time: 0.046831376 seconds\n"
       ]
      },
      {
       "metadata": {},
       "output_type": "pyout",
       "prompt_number": 19,
       "text": [
        "0.046831376"
       ]
      }
     ],
     "prompt_number": 19
    },
    {
     "cell_type": "code",
     "collapsed": false,
     "input": [
      "tic()\n",
      "real(1+im)\n",
      "toc()"
     ],
     "language": "python",
     "metadata": {},
     "outputs": [
      {
       "output_type": "stream",
       "stream": "stdout",
       "text": [
        "elapsed time: 0.011266385 seconds\n"
       ]
      },
      {
       "metadata": {},
       "output_type": "pyout",
       "prompt_number": 20,
       "text": [
        "0.011266385"
       ]
      }
     ],
     "prompt_number": 20
    },
    {
     "cell_type": "code",
     "collapsed": false,
     "input": [
      "F=DFT(D)"
     ],
     "language": "python",
     "metadata": {},
     "outputs": [
      {
       "metadata": {},
       "output_type": "pyout",
       "prompt_number": 21,
       "text": [
        "1000-element Array{Any,1}:\n",
        "          -3.8509+0.28382im \n",
        "         0.204785-3.72986im \n",
        "         -2.82559+4.54032im \n",
        "          24.4148+16.7697im \n",
        "            2.766-10.96im   \n",
        "          1.59829-8.93419im \n",
        "        -0.668148-5.79843im \n",
        "         -16.0636+8.22124im \n",
        "        -0.750223+0.818997im\n",
        "          6.96808+5.90203im \n",
        "         0.122149+2.00967im \n",
        "         -8.29543-1.17129im \n",
        "          2.71856+10.4349im \n",
        "                 \u22ee          \n",
        "         0.122149-2.00967im \n",
        "          6.96808-5.90203im \n",
        "        -0.750223-0.818997im\n",
        "         -16.0636-8.22124im \n",
        "        -0.668148+5.79843im \n",
        "          1.59829+8.93419im \n",
        "            2.766+10.96im   \n",
        "          24.4148-16.7697im \n",
        "         -2.82559-4.54032im \n",
        "         0.204785+3.72986im \n",
        "          -3.8509-0.28382im \n",
        " 511.893-6.17776e-11im      "
       ]
      }
     ],
     "prompt_number": 21
    },
    {
     "cell_type": "markdown",
     "metadata": {},
     "source": [
      "Hay un error aqui:"
     ]
    },
    {
     "cell_type": "code",
     "collapsed": false,
     "input": [
      "fft(D[3])"
     ],
     "language": "python",
     "metadata": {},
     "outputs": [
      {
       "metadata": {},
       "output_type": "pyout",
       "prompt_number": 22,
       "text": [
        "1000-element Array{Complex{Float64},1}:\n",
        "   511.893+0.0im     \n",
        "  -3.84904-0.30801im \n",
        "    0.1579+3.73214im \n",
        "  -2.73951-4.59277im \n",
        "   24.8285-16.1509im \n",
        "   2.42037+11.0415im \n",
        "   1.26042+8.98808im \n",
        " -0.922448+5.76345im \n",
        "  -15.6302-9.01796im \n",
        " -0.702736-0.860089im\n",
        "   7.32492-5.45286im \n",
        "  0.260645-1.99644im \n",
        "  -8.36009+0.543096im\n",
        "          \u22ee          \n",
        "  -8.36009-0.543096im\n",
        "  0.260645+1.99644im \n",
        "   7.32492+5.45286im \n",
        " -0.702736+0.860089im\n",
        "  -15.6302+9.01796im \n",
        " -0.922448-5.76345im \n",
        "   1.26042-8.98808im \n",
        "   2.42037-11.0415im \n",
        "   24.8285+16.1509im \n",
        "  -2.73951+4.59277im \n",
        "    0.1579-3.73214im \n",
        "  -3.84904+0.30801im "
       ]
      }
     ],
     "prompt_number": 22
    },
    {
     "cell_type": "code",
     "collapsed": false,
     "input": [
      "function graficar_DFT(D)\n",
      "    F=DFT(D)\n",
      "    f = D[1][1]*linspace(0,1,length(F))\n",
      "    PyPlot.plot(f,abs(F)/D[1][2])\n",
      "    PyPlot.xlim(0,150)\n",
      "    PyPlot.ylim(0,0.6)\n",
      "end"
     ],
     "language": "python",
     "metadata": {},
     "outputs": [
      {
       "metadata": {},
       "output_type": "pyout",
       "prompt_number": 23,
       "text": [
        "graficar_DFT (generic function with 1 method)"
       ]
      }
     ],
     "prompt_number": 23
    },
    {
     "cell_type": "code",
     "collapsed": false,
     "input": [
      "graficar_DFT(D)"
     ],
     "language": "python",
     "metadata": {},
     "outputs": [
      {
       "ename": "LoadError",
       "evalue": "`abs` has no method matching abs(::Array{Any,1})\nwhile loading In[24], in expression starting on line 1",
       "output_type": "pyerr",
       "traceback": [
        "`abs` has no method matching abs(::Array{Any,1})\nwhile loading In[24], in expression starting on line 1",
        "",
        " in graficar_DFT at In[23]:4"
       ]
      }
     ],
     "prompt_number": 24
    },
    {
     "cell_type": "heading",
     "level": 3,
     "metadata": {},
     "source": [
      "4 junio de 2015"
     ]
    },
    {
     "cell_type": "code",
     "collapsed": false,
     "input": [
      "function conversion_inter(D)\n",
      "    R={}\n",
      "    S=Intervalo[]\n",
      "    for j=1:length(D[3])\n",
      "        S=push!(S,Intervalo(D[3][j]))\n",
      "    end\n",
      "    R=push!(R,D[1],D[2],S)\n",
      "end"
     ],
     "language": "python",
     "metadata": {},
     "outputs": [
      {
       "metadata": {},
       "output_type": "pyout",
       "prompt_number": 25,
       "text": [
        "conversion_inter (generic function with 1 method)"
       ]
      }
     ],
     "prompt_number": 25
    },
    {
     "cell_type": "code",
     "collapsed": false,
     "input": [
      "D2=conversion_inter(D)"
     ],
     "language": "python",
     "metadata": {},
     "outputs": [
      {
       "metadata": {},
       "output_type": "pyout",
       "prompt_number": 26,
       "text": [
        "3-element Array{Any,1}:\n",
        " (1000,1000)                                                                                                                                                                                                                                                                                                                                                                                                                                                                                                                                                                                                                                                                                                                                                                                                                                                                                                                                                                                                                                                                                                                                                                                                                                                                                                                                                                                                                                                                                                                                                                                                                                                                                                                                                                                                                                                                                                                                                                                                                                                                                                                                                                                                                                                                                                                                                                                                                                                                                                                                                                                                                                                                                                                                                                                                                                                                                                                                                                                                                                                                                                                                                                                                                                                                                                                                                                                                                                                                                                                                                                                                          \n",
        " [0.001,0.002,0.003,0.004,0.005,0.006,0.007,0.008,0.009,0.01  \u2026  0.991,0.992,0.993,0.994,0.995,0.996,0.997,0.998,0.999,1.0]                                                                                                                                                                                                                                                                                                                                                                                                                                                                                                                                                                                                                                                                                                                                                                                                                                                                                                                                                                                                                                                                                                                                                                                                                                                                                                                                                                                                                                                                                                                                                                                                                                                                                                                                                                                                                                                                                                                                                                                                                                                                                                                                                                                                                                                                                                                                                                                                                                                                                                                                                                                                                                                                                                                                                                                                                                                                                                                                                                                                                                                                                                                                                                                                                                                                                                                                                                                                                                                                                           \n",
        " [(1.614666581996176299999999999999999999999999999999999999999999999999999999999989e+00, 1.614666581996176300000000000000000000000000000000000000000000000000000000000006e+00),(1.515048850866643999999999999999999999999999999999999999999999999999999999999984e+00, 1.515048850866644000000000000000000000000000000000000000000000000000000000000002e+00),(1.666033509154115599999999999999999999999999999999999999999999999999999999999996e+00, 1.666033509154115600000000000000000000000000000000000000000000000000000000000014e+00),(1.342558539128251699999999999999999999999999999999999999999999999999999999999985e+00, 1.342558539128251700000000000000000000000000000000000000000000000000000000000002e+00),(1.046087509711628399999999999999999999999999999999999999999999999999999999999987e+00, 1.046087509711628400000000000000000000000000000000000000000000000000000000000004e+00),(-1.137224617138585200000000000000000000000000000000000000000000000000000000000002e-01, -1.137224617138585199999999999999999999999999999999999999999999999999999999999991e-01),(-1.082811616522567100000000000000000000000000000000000000000000000000000000000005e-01, -1.082811616522567099999999999999999999999999999999999999999999999999999999999994e-01),(9.529306728841703999999999999999999999999999999999999999999999999999999999999958e-01, 9.529306728841704000000000000000000000000000000000000000000000000000000000000044e-01),(1.463504639486135299999999999999999999999999999999999999999999999999999999999993e+00, 1.46350463948613530000000000000000000000000000000000000000000000000000000000001e+00),(1.777755946805341199999999999999999999999999999999999999999999999999999999999995e+00, 1.777755946805341200000000000000000000000000000000000000000000000000000000000012e+00)  \u2026  (-1.045451978864877500000000000000000000000000000000000000000000000000000000000007e-01, -1.045451978864877499999999999999999999999999999999999999999999999999999999999996e-01),(1.747163345298698199999999999999999999999999999999999999999999999999999999999986e-01, 1.747163345298698200000000000000000000000000000000000000000000000000000000000007e-01),(6.731720506739488999999999999999999999999999999999999999999999999999999999999989e-01, 6.731720506739489000000000000000000000000000000000000000000000000000000000000076e-01),(9.50453006589031599999999999999999999999999999999999999999999999999999999999997e-01, 9.504530065890316000000000000000000000000000000000000000000000000000000000000056e-01),(7.798444007778996999999999999999999999999999999999999999999999999999999999999954e-01, 7.798444007778997000000000000000000000000000000000000000000000000000000000000041e-01),(-3.828580675950721000000000000000000000000000000000000000000000000000000000000036e-01, -3.828580675950720999999999999999999999999999999999999999999999999999999999999993e-01),(-1.166578275599192500000000000000000000000000000000000000000000000000000000000005e+00, -1.166578275599192499999999999999999999999999999999999999999999999999999999999988e+00),(-1.256380053823485700000000000000000000000000000000000000000000000000000000000002e+00, -1.256380053823485699999999999999999999999999999999999999999999999999999999999984e+00),(-2.396222697564348600000000000000000000000000000000000000000000000000000000000011e-01, -2.396222697564348599999999999999999999999999999999999999999999999999999999999989e-01),(7.626720809145823999999999999999999999999999999999999999999999999999999999999961e-01, 7.626720809145824000000000000000000000000000000000000000000000000000000000000048e-01)]"
       ]
      }
     ],
     "prompt_number": 26
    },
    {
     "cell_type": "code",
     "collapsed": false,
     "input": [
      "D2[3][1000]"
     ],
     "language": "python",
     "metadata": {},
     "outputs": [
      {
       "metadata": {},
       "output_type": "pyout",
       "prompt_number": 27,
       "text": [
        "(7.626720809145823999999999999999999999999999999999999999999999999999999999999961e-01, 7.626720809145824000000000000000000000000000000000000000000000000000000000000048e-01)"
       ]
      }
     ],
     "prompt_number": 27
    },
    {
     "cell_type": "code",
     "collapsed": false,
     "input": [
      "tic()\n",
      "F2=DFT(D2)\n",
      "toc()"
     ],
     "language": "python",
     "metadata": {},
     "outputs": [
      {
       "output_type": "stream",
       "stream": "stdout",
       "text": [
        "elapsed time: 78"
       ]
      },
      {
       "output_type": "stream",
       "stream": "stdout",
       "text": [
        ".333115985 seconds\n"
       ]
      },
      {
       "metadata": {},
       "output_type": "pyout",
       "prompt_number": 51,
       "text": [
        "78.333115985"
       ]
      }
     ],
     "prompt_number": 51
    },
    {
     "cell_type": "code",
     "collapsed": false,
     "input": [
      "F2"
     ],
     "language": "python",
     "metadata": {},
     "outputs": [
      {
       "metadata": {},
       "output_type": "pyout",
       "prompt_number": 55,
       "text": [
        "1000-element Array{Any,1}:\n",
        " IC((-3.850895720385098416852181954102414770404772318214000000000000000000000000186499e+00, -3.850895720385098416852181954102414770404772318213999999999999999999999999806577e+00),(2.83820219877095883959945127771680629357137423609999999999999999999999999725324e-01, 2.838202198770958839599451277716806293571374236100000000000000000000000002776199e-01))   \n",
        " IC((2.047853821942728616905267229938742345573703539719999999999999999999999999030902e-01, 2.047853821942728616905267229938742345573703539720000000000000000000000001011736e-01),(-3.729863288290883146137044217206003287477283687480000000000000000000000000138925e+00, -3.729863288290883146137044217206003287477283687479999999999999999999999999856592e+00))  \n",
        " IC((-2.825585056209481355974318958714295273105740636370000000000000000000000000072953e+00, -2.825585056209481355974318958714295273105740636369999999999999999999999999925862e+00),(4.54032093202832529703873607671089880638178488979999999999999999999999999990379e+00, 4.540320932028325297038736076710898806381784889800000000000000000000000000094753e+00))   \n",
        " IC((2.441476057784211541217416969018037489399999999999999999999999999999999999992797e+01, 2.441476057784211541217416969018037489400000000000000000000000000000000000007057e+01),(1.676973340091952195615641552957448070707338673406459999999999999999999999990349e+01, 1.676973340091952195615641552957448070707338673406460000000000000000000000010081e+01))    \n",
        " IC((2.765996559027984019639021784433142413460996430776999999999999999999999999942679e+00, 2.765996559027984019639021784433142413460996430777000000000000000000000000055087e+00),(-1.09600131957635525856482440364924670509564711653100000000000000000000000000637e+01, -1.096001319576355258564824403649246705095647116530999999999999999999999999993686e+01))   \n",
        " IC((1.598289187090264855661019250488080930307422315019999999999999999999999999950886e+00, 1.598289187090264855661019250488080930307422315020000000000000000000000000050029e+00),(-8.934189394500127720810606025861060357625021875080000000000000000000000000058156e+00, -8.934189394500127720810606025861060357625021875079999999999999999999999999944573e+00))  \n",
        " IC((-6.681482603591331443960525494270280682952461220800000000000000000000000000472485e-01, -6.681482603591331443960525494270280682952461220799999999999999999999999999494871e-01),(-5.798430890173375176320129983672240587923915346050000000000000000000000000056413e+00, -5.798430890173375176320129983672240587923915346049999999999999999999999999945594e+00))\n",
        " IC((-1.606357255869700513816615566733423047000000000000000000000000000000000000005461e+01, -1.606357255869700513816615566733423046999999999999999999999999999999999999994573e+01),(8.221241159991028456180574105019862954944890865891999999999999999999999999939531e+00, 8.221241159991028456180574105019862954944890865892000000000000000000000000058502e+00))  \n",
        " IC((-7.502232966325198402200496007951191709681042773400000000000000000000000000440688e-01, -7.502232966325198402200496007951191709681042773399999999999999999999999999552286e-01),(8.189966650415174206492699074383955870950341798599999999999999999999999999418486e-01, 8.189966650415174206492699074383955870950341798600000000000000000000000000579877e-01))  \n",
        " IC((6.968077974084965281055263860668610178434026194269999999999999999999999999953347e+00, 6.968077974084965281055263860668610178434026194270000000000000000000000000045512e+00),(5.90203390226194349548511348440573802515068875557499999999999999999999999995223e+00, 5.902033902261943495485113484405738025150688755575000000000000000000000000046951e+00))     \n",
        " IC((1.22149040150250002300668168953492769888437396299999999999999999999999999970612e-01, 1.221490401502500023006681689534927698884373963000000000000000000000000000298053e-01),(2.009672920416339801768410579325728020399799094099999999999999999999999999946859e+00, 2.009672920416339801768410579325728020399799094100000000000000000000000000051909e+00))     \n",
        " IC((-8.295428746996220421648522907717054450000000000000000000000000000000000000030936e+00, -8.295428746996220421648522907717054449999999999999999999999999999999999999969032e+00),(-1.171291697676961915095975190668673417833406325060000000000000000000000000035796e+00, -1.171291697676961915095975190668673417833406325059999999999999999999999999964427e+00))\n",
        " IC((2.718555589778910223470196545685475339551083283479999999999999999999999999965498e+00, 2.718555589778910223470196545685475339551083283480000000000000000000000000033136e+00),(1.043485539735510477413188264964934413980074251320999999999999999999999999995497e+01, 1.043485539735510477413188264964934413980074251321000000000000000000000000004368e+01))    \n",
        " \u22ee                                                                                                                                                                                                                                                                                                                                                                \n",
        " IC((1.22149040153691631235768506472893521630470307999999999999999999999999999970126e-01, 1.221490401536916312357685064728935216304703080000000000000000000000000000295601e-01),(-2.009672920415216507690958330185637820958607424000000000000000000000000000052278e+00, -2.00967292041521650769095833018563782095860742399999999999999999999999999994747e+00))    \n",
        " IC((6.968077974084433037738762855476549846512407527719999999999999999999999999952484e+00, 6.968077974084433037738762855476549846512407527720000000000000000000000000045202e+00),(-5.902033902261928682425561692046893691886829055020000000000000000000000000049401e+00, -5.902033902261928682425561692046893691886829055019999999999999999999999999952123e+00))  \n",
        " IC((-7.502232966308522760976294791735018197383257320000000000000000000000000000440832e-01, -7.502232966308522760976294791735018197383257319999999999999999999999999999550616e-01),(-8.189966650402116108501595829142532863845774390000000000000000000000000000583872e-01, -8.189966650402116108501595829142532863845774389999999999999999999999999999407799e-01))\n",
        " IC((-1.606357255869327423626277276622906141000000000000000000000000000000000000005466e+01, -1.606357255869327423626277276622906140999999999999999999999999999999999999994578e+01),(-8.221241159981391561679292551781239007303504562000000000000000000000000000059671e+00, -8.221241159981391561679292551781239007303504561999999999999999999999999999938489e+00))\n",
        " IC((-6.681482603556255633303420422288674151486618390000000000000000000000000000478253e-01, -6.681482603556255633303420422288674151486618389999999999999999999999999999528879e-01),(5.798430890174548084126080363097948537597775120999999999999999999999999999944948e+00, 5.798430890174548084126080363097948537597775121000000000000000000000000000054178e+00))  \n",
        " IC((1.598289187083153095574578269923266332217042195999999999999999999999999999951049e+00, 1.598289187083153095574578269923266332217042196000000000000000000000000000049501e+00),(8.934189394499315457301438122268219663136644239999999999999999999999999999941218e+00, 8.934189394499315457301438122268219663136644240000000000000000000000000000058808e+00))    \n",
        " IC((2.765996559029662053733583142392174570680560218379999999999999999999999999943615e+00, 2.765996559029662053733583142392174570680560218380000000000000000000000000053812e+00),(1.096001319576400385238574418794172733865145309538999999999999999999999999993717e+01, 1.096001319576400385238574418794172733865145309539000000000000000000000000006222e+01))    \n",
        " IC((2.441476057784728517952293841270599496299999999999999999999999999999999999992798e+01, 2.441476057784728517952293841270599496300000000000000000000000000000000000007224e+01),(-1.676973340092487043516134358600003635298939710100000000000000000000000000010343e+01, -1.676973340092487043516134358600003635298939710099999999999999999999999999990168e+01))  \n",
        " IC((-2.825585056210528374999327078952715590941117455400000000000000000000000000074349e+00, -2.825585056210528374999327078952715590941117455399999999999999999999999999928674e+00),(-4.540320932028017264262509430889645224461617064600000000000000000000000000095364e+00, -4.540320932028017264262509430889645224461617064599999999999999999999999999903227e+00))\n",
        " IC((2.04785382208866385311125091019899207646302511999999999999999999999999999905403e-01, 2.047853822088663853111250910198992076463025120000000000000000000000000001005156e-01),(3.729863288292178689692319028282913396009941340999999999999999999999999999861367e+00, 3.729863288292178689692319028282913396009941341000000000000000000000000000135375e+00))     \n",
        " IC((-3.850895720324882888345619901362197700134568630000000000000000000000000000185395e+00, -3.850895720324882888345619901362197700134568629999999999999999999999999999818704e+00),(-2.83820219876242295339353089987323434570376002000000000000000000000000000271383e-01, -2.838202198762422953393530899873234345703760019999999999999999999999999997199248e-01)) \n",
        " IC((5.118926830253394408497999999999999999999999999999999999999999999999999999992269e+02, 5.118926830253394408498000000000000000000000000000000000000000000000000000007789e+02),(-6.17775677285461683027026292410502999646000000000000000000000000000000000000687e-11, -6.177756772854616830270262924105029996459999999999999999999999999999999999993298e-11))   "
       ]
      }
     ],
     "prompt_number": 55
    },
    {
     "cell_type": "code",
     "collapsed": false,
     "input": [
      "function norma_inter(y)\n",
      "    r={}\n",
      "    for n=1:length(y)\n",
      "        r=push!(r,norm(y[n]))\n",
      "    end\n",
      "    r\n",
      "end"
     ],
     "language": "python",
     "metadata": {},
     "outputs": [
      {
       "metadata": {},
       "output_type": "pyout",
       "prompt_number": 65,
       "text": [
        "norma_inter (generic function with 1 method)"
       ]
      }
     ],
     "prompt_number": 65
    },
    {
     "cell_type": "code",
     "collapsed": false,
     "input": [
      "length(F2)"
     ],
     "language": "python",
     "metadata": {},
     "outputs": [
      {
       "metadata": {},
       "output_type": "pyout",
       "prompt_number": 66,
       "text": [
        "1000"
       ]
      }
     ],
     "prompt_number": 66
    },
    {
     "cell_type": "code",
     "collapsed": false,
     "input": [
      "F3=norma_inter(F2)"
     ],
     "language": "python",
     "metadata": {},
     "outputs": [
      {
       "metadata": {},
       "output_type": "pyout",
       "prompt_number": 68,
       "text": [
        "1000-element Array{Any,1}:\n",
        " (3.861340669572078710675272857584582314203640061613603927262814037720626459403322e+00, 3.861340669572078710675272857584582314203640061613603927262814037720626459822901e+00)\n",
        " (3.735480852862256887231251139685408516040843657700937251924874100476330715718619e+00, 3.735480852862256887231251139685408516040843657700937251924874100476330716011557e+00)\n",
        " (5.34775140369191978542774997410963971500142293588869291923113345760805709521625e+00, 5.347751403691919785427749974109639715001422935888692919231133457608057095456474e+00) \n",
        " (2.961932633284000437081744148583457631846777421373897184229062686915509553469677e+01, 2.961932633284000437081744148583457631846777421373897184229062686915509553492753e+01)\n",
        " (1.130365543600236643104109034119450083180716818835229191165832370813968548019283e+01, 1.130365543600236643104109034119450083180716818835229191165832370813968548034344e+01)\n",
        " (9.07602712988277809106801331224015941886581221939366762968483115295878571069932e+00, 9.076027129882778091068013312240159418865812219393667629684831152958785710828931e+00) \n",
        " (5.836799027372600570778653893648988057247975645107867002911692781114483090471087e+00, 5.836799027372600570778653893648988057247975645107867002911692781114483090592546e+00)\n",
        " (1.804514254749055950871433550314225839985045071721275193206410896932830966621229e+01, 1.804514254749055950871433550314225839985045071721275193206410896932830966636429e+01)\n",
        " (1.110671207945579787700641383836279586442673784795403634333718700641186036072272e+00, 1.110671207945579787700641383836279586442673784795403634333718700641186036217981e+00)\n",
        " (9.131709305293143116181618049128941984054448024852959694307924434980027449560842e+00, 9.131709305293143116181618049128941984054448024852959694307924434980027449692941e+00)\n",
        " (2.01338164168256174093035694998754071426636276771472176685222613356349896791662e+00, 2.013381641682561740930356949987540714266362767714721766852226133563498968025193e+00) \n",
        " (8.377712237689849365605508150130388907027517274123195503872795582735523813159728e+00, 8.377712237689849365605508150130388907027517274123195503872795582735523813231719e+00)\n",
        " (1.07831698335150559730527099073091310566435674705177244205094223084782961361307e+01, 1.078316983351505597305270990730913105664356747051772442050942230847829613623392e+01) \n",
        " \u22ee                                                                                                                                                                           \n",
        " (2.013381641681649314801050110723402404626188996104499400963678896678808097118964e+00, 2.01338164168164931480105011072340240462618899610449940096367889667880809722733e+00) \n",
        " (9.131709305292727406484416559745567725637182650936459046837323686930802779294845e+00, 9.131709305292727406484416559745567725637182650936459046837323686930802779429016e+00)\n",
        " (1.110671207943490511137678867032892526900142386790764431534380754131781080338879e+00, 1.110671207943490511137678867032892526900142386790764431534380754131781080485762e+00)\n",
        " (1.804514254748284780198791080524409272282325481093022368299585729583300300447629e+01, 1.804514254748284780198791080524409272282325481093022368299585729583300300462939e+01)\n",
        " (5.836799027373364249748124611712400042135419009217169672881580859704849580333452e+00, 5.836799027373364249748124611712400042135419009217169672881580859704849580453045e+00)\n",
        " (9.076027129880726139811152855000251913158541020793219920672157712522638290454498e+00, 9.076027129880726139811152855000251913158541020793219920672157712522638290587978e+00)\n",
        " (1.130365543600321459259233194300600424462621928693674526019348018785838477501861e+01, 1.130365543600321459259233194300600424462621928693674526019348018785838477516742e+01)\n",
        " (2.961932633284729390862293186383724929652342248592456934763037208646114879181321e+01, 2.961932633284729390862293186383724929652342248592456934763037208646114879204728e+01)\n",
        " (5.34775140369221147319167650851622798290125685856733312493354382910581052240501e+00, 5.347751403692211473191676508516227982901256858567333124933543829105810522645372e+00) \n",
        " (3.735480852864350524159283941711657487085391992266869930603061617185883910389828e+00, 3.735480852864350524159283941711657487085391992266869930603061617185883910674303e+00)\n",
        " (3.861340669511963324181196439056901307850044531684812701897766548563122352821101e+00, 3.861340669511963324181196439056901307850044531684812701897766548563122353227484e+00)\n",
        " (5.118926830253394408498000037278007686097245957845084755116486538518043554586742e+02, 5.118926830253394408498000037278007686097245957845084755116486538518043554602395e+02)"
       ]
      }
     ],
     "prompt_number": 68
    },
    {
     "cell_type": "code",
     "collapsed": false,
     "input": [
      "#function *(I::Intervalo, c::Complex)\n",
      "    IC(I*real(c), I*imag(c))\n",
      "end"
     ],
     "language": "python",
     "metadata": {},
     "outputs": [
      {
       "ename": "LoadError",
       "evalue": "c not defined\nwhile loading In[30], in expression starting on line 2",
       "output_type": "pyerr",
       "traceback": [
        "c not defined\nwhile loading In[30], in expression starting on line 2",
        ""
       ]
      }
     ],
     "prompt_number": 30
    },
    {
     "cell_type": "code",
     "collapsed": false,
     "input": [
      "Intervalo(1,2)*(1+2im)"
     ],
     "language": "python",
     "metadata": {},
     "outputs": [
      {
       "metadata": {},
       "output_type": "pyout",
       "prompt_number": 31,
       "text": [
        "IC((1e+00, 2e+00),(2e+00, 4e+00))"
       ]
      }
     ],
     "prompt_number": 31
    },
    {
     "cell_type": "code",
     "collapsed": false,
     "input": [
      "\n",
      "sum([diametro(F3[n]) for n=1:length(F3)])/length(F3)"
     ],
     "language": "python",
     "metadata": {},
     "outputs": [
      {
       "metadata": {},
       "output_type": "pyout",
       "prompt_number": 73,
       "text": [
        "1.474613171976285981895566516499448538184683232866962969521975232924220604245966e-73 with 256 bits of precision"
       ]
      }
     ],
     "prompt_number": 73
    },
    {
     "cell_type": "code",
     "collapsed": false,
     "input": [
      "diametro(F3[700])"
     ],
     "language": "python",
     "metadata": {},
     "outputs": [
      {
       "metadata": {},
       "output_type": "pyout",
       "prompt_number": 77,
       "text": [
        "8.593333159061176180044435557560909589243265002628677429353985900956555587818741e-73 with 256 bits of precision"
       ]
      }
     ],
     "prompt_number": 77
    },
    {
     "cell_type": "code",
     "collapsed": false,
     "input": [],
     "language": "python",
     "metadata": {},
     "outputs": []
    }
   ],
   "metadata": {}
  }
 ]
}
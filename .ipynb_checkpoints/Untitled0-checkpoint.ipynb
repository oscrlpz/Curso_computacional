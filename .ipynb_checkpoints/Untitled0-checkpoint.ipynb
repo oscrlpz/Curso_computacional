{
 "metadata": {
  "name": "",
  "signature": "sha256:8d7decbb77dce978f554e687de99326cd5e95333a8389403b0451be956bb66c1"
 },
 "nbformat": 3,
 "nbformat_minor": 0,
 "worksheets": []
}
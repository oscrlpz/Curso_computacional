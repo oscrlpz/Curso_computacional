{
 "metadata": {
  "language": "Julia",
  "name": "",
  "signature": "sha256:6c31983176acd48a7155bfee81813fa3fceee48eda78dc5a777c31a1b375b284"
 },
 "nbformat": 3,
 "nbformat_minor": 0,
 "worksheets": [
  {
   "cells": [
    {
     "cell_type": "code",
     "collapsed": false,
     "input": [
      "function b2d(x)\n",
      "    if x[1]=='-'\n",
      "        inicio=2\n",
      "        signo=-1\n",
      "    else\n",
      "        inicio=1\n",
      "        signo=1\n",
      "    end\n",
      "    signo*sum([(int(x[n])-48)*2^(length(x)-n) for n=inicio:length(x)])\n",
      "end"
     ],
     "language": "python",
     "metadata": {},
     "outputs": [
      {
       "metadata": {},
       "output_type": "pyout",
       "prompt_number": 1,
       "text": [
        "b2d (generic function with 1 method)"
       ]
      }
     ],
     "prompt_number": 1
    },
    {
     "cell_type": "code",
     "collapsed": false,
     "input": [
      "function posicion(x)\n",
      "p = 0\n",
      "    for n=1:length(x)\n",
      "        p+= 1\n",
      "        x[n] == '.' && break\n",
      "        if n==length(x) && x!='.' #Este if esta para el caso en que se introduzca un n\u00famero sin punto.\n",
      "                p=length(x)+1\n",
      "            end\n",
      "    end\n",
      "p\n",
      "end"
     ],
     "language": "python",
     "metadata": {},
     "outputs": [
      {
       "metadata": {},
       "output_type": "pyout",
       "prompt_number": 2,
       "text": [
        "posicion (generic function with 1 method)"
       ]
      }
     ],
     "prompt_number": 2
    },
    {
     "cell_type": "code",
     "collapsed": false,
     "input": [
      "function d2b(x)\n",
      "x=int(x)\n",
      "bit=\"\"\n",
      "    if x==0\n",
      "        signo=\"0\"    \n",
      "    elseif x<0\n",
      "        x=-x\n",
      "        signo=\"-\"\n",
      "    else\n",
      "        signo=\"\"\n",
      "    end\n",
      "            while x!=0\n",
      "                r = x%2\n",
      "                x=int(x/2-0.01)\n",
      "                #x = div(x,2)\n",
      "                bit=\"$r\"*bit\n",
      "            end\n",
      "\n",
      "\"$signo\"* bit\n",
      "end"
     ],
     "language": "python",
     "metadata": {},
     "outputs": [
      {
       "metadata": {},
       "output_type": "pyout",
       "prompt_number": 3,
       "text": [
        "d2b (generic function with 1 method)"
       ]
      }
     ],
     "prompt_number": 3
    },
    {
     "cell_type": "code",
     "collapsed": false,
     "input": [
      "function b2df(x)\n",
      "    if x[1]=='-' #Esto es para considerar el caso negativo\n",
      "        inicio=2  #Para iniciar en el segundo caracter de la cadena\n",
      "        signo=-1 #Para \n",
      "    else\n",
      "        inicio=1\n",
      "        signo=1\n",
      "    end\n",
      "    x=x\n",
      "    i=posicion(x)-1\n",
      "    j= posicion(x)+1\n",
      "    izq = signo*sum([(int(x[n])-48)*2 ^(i-n) for n=inicio:i]) #Esta parte es para la cadena a la izquierda del punto decimal\n",
      "    der = signo*sum([(int(x[n])-48)*2.0^(-(n-j+1)) for n=j:length(x)]) #Esta parte es para la cadena a la derecha del punto decimal.\n",
      "    res=izq+der\n",
      "    res\n",
      "end"
     ],
     "language": "python",
     "metadata": {},
     "outputs": [
      {
       "metadata": {},
       "output_type": "pyout",
       "prompt_number": 4,
       "text": [
        "b2df (generic function with 1 method)"
       ]
      }
     ],
     "prompt_number": 4
    },
    {
     "cell_type": "code",
     "collapsed": false,
     "input": [
      "function d2bdec(x)\n",
      "    bit=\"\"\n",
      "    if x==0\n",
      "        bit=\"0\"\n",
      "    else\n",
      "        if x>0\n",
      "            x=x\n",
      "        else\n",
      "            x=-x\n",
      "        end    \n",
      "            while x!=1\n",
      "                if 2x<1\n",
      "                    r=0\n",
      "                bit=bit*\"$r\"\n",
      "                    x=2x\n",
      "                elseif 2x>1\n",
      "                    r=1\n",
      "                bit=bit*\"$r\"\n",
      "                    x=2x-1\n",
      "                else\n",
      "                    break\n",
      "                end  \n",
      "            end\n",
      "        bit=bit*\"1\"#Este 1 se agrega ya que en el momento en que x vale 0.5, 2x vale 1 y se sale del loop sin guardar el valor de 1.\n",
      "    end\n",
      "    bit\n",
      "end "
     ],
     "language": "python",
     "metadata": {},
     "outputs": [
      {
       "metadata": {},
       "output_type": "pyout",
       "prompt_number": 5,
       "text": [
        "d2bdec (generic function with 1 method)"
       ]
      }
     ],
     "prompt_number": 5
    },
    {
     "cell_type": "code",
     "collapsed": false,
     "input": [
      "function d2bf(x)\n",
      "    \n",
      "    signo=\"\"\n",
      "    \n",
      "        if sign(x)==-1\n",
      "            signo=\"-\"\n",
      "        end\n",
      "\n",
      "    y=int(abs(x)-0.05) #int lo vuelve entero para hacer que los 1 y 0 no sean float y lleguen bien a d2b\n",
      "    izq=d2b(y)\n",
      "\n",
      "    y=int(x-0.05)\n",
      "    z=(x-y)       \n",
      "    der=d2bdec(z)   \n",
      "    \n",
      "    num=signo*izq*\".\"*der\n",
      "        \n",
      "end"
     ],
     "language": "python",
     "metadata": {},
     "outputs": [
      {
       "metadata": {},
       "output_type": "pyout",
       "prompt_number": 6,
       "text": [
        "d2bf (generic function with 1 method)"
       ]
      }
     ],
     "prompt_number": 6
    },
    {
     "cell_type": "code",
     "collapsed": false,
     "input": [
      "function ieee(x)\n",
      "    y=bits(x)\n",
      "\n",
      "    # El siguiente If esta para diferenciar entre n\u00fameros subnormales y normales\n",
      "    if y[2:12] ==\"00000000000\"\n",
      "        e=-1022\n",
      "        hiddenbit=\"0.\"\n",
      "        println(\"El n\u00famero \",x,\" es subnormal\")\n",
      "    else\n",
      "        e=b2df(y[2:12])-1023\n",
      "        hiddenbit=\"1.\"\n",
      "        println(\"El n\u00famero \", x ,\" es normal\")\n",
      "    end\n",
      "    \n",
      "    num=b2df(hiddenbit*y[13:end])*2.0^e\n",
      "    error=num-x  \n",
      "    \n",
      "    println(\"El signo es, \u03c3=\", y[1])\n",
      "    println(\"Los 11 bits del exponente son:\", y[2:12],\", donde en base 10 e=\",e)\n",
      "    println(\"La mantisa es:\", y[13:end], \" que en base 10 es:\",\" (\", b2df( hiddenbit*y[13:end]), \")\")\n",
      "    #println( num, \", \" , x,\", \", error)\n",
      "    \n",
      "    ##### Lo siguiente se lo meti para saber cuando num no sea igual a x\n",
      "    if abs(num)==abs(x) || num== Inf || error==Inf\n",
      "        println(\"La funci\u00f3n corri\u00f3 sin problemas.\")\n",
      "    else\n",
      "        println(\"Algo no sal\u00edo bien en las cuentas, checa tu funci\u00f3n.\")\n",
      "    end\n",
      "    \n",
      "end"
     ],
     "language": "python",
     "metadata": {},
     "outputs": [
      {
       "metadata": {},
       "output_type": "pyout",
       "prompt_number": 7,
       "text": [
        "ieee (generic function with 1 method)"
       ]
      }
     ],
     "prompt_number": 7
    },
    {
     "cell_type": "code",
     "collapsed": false,
     "input": [
      "function ieeeb(x)\n",
      "    y=bits(x)\n",
      "\n",
      "    # El siguiente If esta para diferenciar entre n\u00fameros subnormales y normales\n",
      "    if y[2:12] ==\"00000000000\"\n",
      "        e=-1022\n",
      "        hiddenbit=\"0.\"\n",
      "        println(\"El n\u00famero \",x,\" es subnormal\")\n",
      "    else\n",
      "        e=b2df(y[2:12])-1023\n",
      "        hiddenbit=\"1.\"\n",
      "        println(\"El n\u00famero \", x ,\" es normal\")\n",
      "    end\n",
      "    \n",
      "    num=big(b2df(hiddenbit*y[13:end])*2.0^e)\n",
      "    error=num-x  \n",
      "    \n",
      "    println(\"El signo es, \u03c3=\", y[1])\n",
      "    println(\"Los 11 bits del exponente son:\", y[2:12],\", donde en base 10 e=\",e)\n",
      "    println(\"La mantisa es:\", y[13:end], \" que en base 10 es:\",\" (\", b2df( hiddenbit*y[13:end]), \")\")\n",
      "    println( num, \", \" , x,\", \", error)\n",
      "    \n",
      "    ##### Lo siguiente se lo meti para saber cuando num no sea igual a x\n",
      "    if abs(num)==abs(x) || num== Inf || error==Inf\n",
      "        println(\"La funci\u00f3n corri\u00f3 sin problemas.\")\n",
      "    else\n",
      "        println(\"Algo no sal\u00edo bien en las cuentas, checa tu funci\u00f3n.\")\n",
      "    end\n",
      "    \n",
      "end"
     ],
     "language": "python",
     "metadata": {},
     "outputs": [
      {
       "metadata": {},
       "output_type": "pyout",
       "prompt_number": 8,
       "text": [
        "ieeeb (generic function with 1 method)"
       ]
      }
     ],
     "prompt_number": 8
    },
    {
     "cell_type": "code",
     "collapsed": false,
     "input": [
      "function flota(\u03c3,m,e)\n",
      "    if e ==\"00000000000\"\n",
      "        ex=-1022\n",
      "        hiddenbit=\"0.\"\n",
      "        println(\"El n\u00famero es subnormal\")\n",
      "    else\n",
      "        ex=b2df(e)-1023\n",
      "        hiddenbit=\"1.\"\n",
      "        println(\"El n\u00famero es normal\")\n",
      "    end\n",
      "    (-1)^\u03c3*b2df(hiddenbit*m)*2.0^ex\n",
      "end\n",
      "    "
     ],
     "language": "python",
     "metadata": {},
     "outputs": [
      {
       "metadata": {},
       "output_type": "pyout",
       "prompt_number": 9,
       "text": [
        "flota (generic function with 1 method)"
       ]
      }
     ],
     "prompt_number": 9
    },
    {
     "cell_type": "code",
     "collapsed": false,
     "input": [
      "function flotaf(\u03c3,m,e)\n",
      "    if e ==\"00000000000\"\n",
      "        ex=-1022\n",
      "        hiddenbit=\"0.\"\n",
      "        println(\"El n\u00famero es subnormal\")\n",
      "    else\n",
      "        ex=b2df(e)-1023\n",
      "        hiddenbit=\"1.\"\n",
      "        println(\"El n\u00famero es normal\")\n",
      "    end\n",
      "    big((-1)^\u03c3*b2df(hiddenbit*m)*2.0^ex)\n",
      "end"
     ],
     "language": "python",
     "metadata": {},
     "outputs": [
      {
       "metadata": {},
       "output_type": "pyout",
       "prompt_number": 10,
       "text": [
        "flotaf (generic function with 1 method)"
       ]
      }
     ],
     "prompt_number": 10
    },
    {
     "cell_type": "code",
     "collapsed": false,
     "input": [],
     "language": "python",
     "metadata": {},
     "outputs": [],
     "prompt_number": 11
    },
    {
     "cell_type": "markdown",
     "metadata": {},
     "source": [
      "-------------------"
     ]
    },
    {
     "cell_type": "code",
     "collapsed": false,
     "input": [
      "ieee(1e-17)"
     ],
     "language": "python",
     "metadata": {},
     "outputs": [
      {
       "output_type": "stream",
       "stream": "stdout",
       "text": [
        "El n\u00famero 1"
       ]
      },
      {
       "output_type": "stream",
       "stream": "stdout",
       "text": [
        ".0e-17 es normal\n",
        "El signo es, \u03c3=0\n",
        "Los 11 bits del exponente son:01111000110, donde en base 10 e=-57.0\n",
        "La mantisa es:0111000011101111010101000110010001101101010010010111 que en base 10 es: (1.4411518807585588)\n",
        "La funci\u00f3n corri\u00f3 sin problemas.\n"
       ]
      }
     ],
     "prompt_number": 12
    },
    {
     "cell_type": "code",
     "collapsed": false,
     "input": [
      "d2bf(0.1)"
     ],
     "language": "python",
     "metadata": {},
     "outputs": [
      {
       "metadata": {},
       "output_type": "pyout",
       "prompt_number": 13,
       "text": [
        "\"0.0001100110011001100110011001100110011001100110011001101\""
       ]
      }
     ],
     "prompt_number": 13
    },
    {
     "cell_type": "code",
     "collapsed": false,
     "input": [
      "flotaf(0,\"10011001100110011001100110011001100110011001100110011\",\"01111111011\")"
     ],
     "language": "python",
     "metadata": {},
     "outputs": [
      {
       "output_type": "stream",
       "stream": "stdout",
       "text": [
        "El n\u00famero es normal\n"
       ]
      },
      {
       "metadata": {},
       "output_type": "pyout",
       "prompt_number": 14,
       "text": [
        "1.000000000000000055511151231257827021181583404541015625e-01 with 256 bits of precision"
       ]
      }
     ],
     "prompt_number": 14
    },
    {
     "cell_type": "code",
     "collapsed": false,
     "input": [
      "bits(.1)"
     ],
     "language": "python",
     "metadata": {},
     "outputs": [
      {
       "metadata": {},
       "output_type": "pyout",
       "prompt_number": 15,
       "text": [
        "\"0011111110111001100110011001100110011001100110011001100110011010\""
       ]
      }
     ],
     "prompt_number": 15
    },
    {
     "cell_type": "code",
     "collapsed": false,
     "input": [
      "flotaf(0,\"1001100110011001100110011001100110011001100110011001\",\"01111111011\")"
     ],
     "language": "python",
     "metadata": {},
     "outputs": [
      {
       "output_type": "stream",
       "stream": "stdout",
       "text": [
        "El n\u00famero es normal\n"
       ]
      },
      {
       "metadata": {},
       "output_type": "pyout",
       "prompt_number": 16,
       "text": [
        "9.999999999999999167332731531132594682276248931884765625e-02 with 256 bits of precision"
       ]
      }
     ],
     "prompt_number": 16
    },
    {
     "cell_type": "code",
     "collapsed": false,
     "input": [
      "flota(0,\"1001100110011001100110011001100110011001100110011010\",\"01111111011\")"
     ],
     "language": "python",
     "metadata": {},
     "outputs": [
      {
       "output_type": "stream",
       "stream": "stdout",
       "text": [
        "El n\u00famero es normal\n"
       ]
      },
      {
       "metadata": {},
       "output_type": "pyout",
       "prompt_number": 17,
       "text": [
        "0.1"
       ]
      }
     ],
     "prompt_number": 17
    },
    {
     "cell_type": "code",
     "collapsed": false,
     "input": [
      "flota(0,\"1001100110011001100110011001100110011001100110011001\",\"01111111011\")"
     ],
     "language": "python",
     "metadata": {},
     "outputs": [
      {
       "output_type": "stream",
       "stream": "stdout",
       "text": [
        "El n\u00famero es normal\n"
       ]
      },
      {
       "metadata": {},
       "output_type": "pyout",
       "prompt_number": 18,
       "text": [
        "0.09999999999999999"
       ]
      }
     ],
     "prompt_number": 18
    },
    {
     "cell_type": "code",
     "collapsed": false,
     "input": [
      "flotaf(0,\"1001100110011001100110011001100110011001100110011010\",\"01111111011\")-flotaf(0,\"1001100110011001100110011001100110011001100110011001\",\"01111111011\")"
     ],
     "language": "python",
     "metadata": {},
     "outputs": [
      {
       "output_type": "stream",
       "stream": "stdout",
       "text": [
        "El n\u00famero es normal\n",
        "El n\u00famero es normal\n"
       ]
      },
      {
       "metadata": {},
       "output_type": "pyout",
       "prompt_number": 19,
       "text": [
        "1.387778780781445675529539585113525390625e-17 with 256 bits of precision"
       ]
      }
     ],
     "prompt_number": 19
    },
    {
     "cell_type": "code",
     "collapsed": false,
     "input": [
      "0.1-ans"
     ],
     "language": "python",
     "metadata": {},
     "outputs": [
      {
       "metadata": {},
       "output_type": "pyout",
       "prompt_number": 20,
       "text": [
        "9.999999999999999167332731531132594682276248931884765625e-02 with 256 bits of precision"
       ]
      }
     ],
     "prompt_number": 20
    },
    {
     "cell_type": "code",
     "collapsed": false,
     "input": [
      "1*2.0^(-56)"
     ],
     "language": "python",
     "metadata": {},
     "outputs": [
      {
       "metadata": {},
       "output_type": "pyout",
       "prompt_number": 21,
       "text": [
        "1.3877787807814457e-17"
       ]
      }
     ],
     "prompt_number": 21
    },
    {
     "cell_type": "code",
     "collapsed": false,
     "input": [
      "5.5-5.4"
     ],
     "language": "python",
     "metadata": {},
     "outputs": [
      {
       "metadata": {},
       "output_type": "pyout",
       "prompt_number": 22,
       "text": [
        "0.09999999999999964"
       ]
      }
     ],
     "prompt_number": 22
    },
    {
     "cell_type": "code",
     "collapsed": false,
     "input": [
      "bits(ans)"
     ],
     "language": "python",
     "metadata": {},
     "outputs": [
      {
       "metadata": {},
       "output_type": "pyout",
       "prompt_number": 23,
       "text": [
        "\"0011111110111001100110011001100110011001100110011001100110000000\""
       ]
      }
     ],
     "prompt_number": 23
    },
    {
     "cell_type": "code",
     "collapsed": false,
     "input": [
      "bits(0.1)"
     ],
     "language": "python",
     "metadata": {},
     "outputs": [
      {
       "metadata": {},
       "output_type": "pyout",
       "prompt_number": 24,
       "text": [
        "\"0011111110111001100110011001100110011001100110011001100110011010\""
       ]
      }
     ],
     "prompt_number": 24
    },
    {
     "cell_type": "code",
     "collapsed": false,
     "input": [
      "bits(5.5)"
     ],
     "language": "python",
     "metadata": {},
     "outputs": [
      {
       "metadata": {},
       "output_type": "pyout",
       "prompt_number": 25,
       "text": [
        "\"0100000000010110000000000000000000000000000000000000000000000000\""
       ]
      }
     ],
     "prompt_number": 25
    },
    {
     "cell_type": "code",
     "collapsed": false,
     "input": [
      "bits(5.4)"
     ],
     "language": "python",
     "metadata": {},
     "outputs": [
      {
       "metadata": {},
       "output_type": "pyout",
       "prompt_number": 26,
       "text": [
        "\"0100000000010101100110011001100110011001100110011001100110011010\""
       ]
      }
     ],
     "prompt_number": 26
    },
    {
     "cell_type": "code",
     "collapsed": false,
     "input": [
      "flotaf(0,\"011001100110011001100110011001100110011001100110011001\",\"01111111011\")"
     ],
     "language": "python",
     "metadata": {},
     "outputs": [
      {
       "output_type": "stream",
       "stream": "stdout",
       "text": [
        "El n\u00famero es normal\n"
       ]
      },
      {
       "metadata": {},
       "output_type": "pyout",
       "prompt_number": 27,
       "text": [
        "8.74999999999999944488848768742172978818416595458984375e-02 with 256 bits of precision"
       ]
      }
     ],
     "prompt_number": 27
    },
    {
     "cell_type": "code",
     "collapsed": false,
     "input": [
      "flotaf(0,\"11111111111111111111111111111111111111111111111111111111111111111111\",\"01110111011\")"
     ],
     "language": "python",
     "metadata": {},
     "outputs": [
      {
       "output_type": "stream",
       "stream": "stdout",
       "text": [
        "El n\u00famero es normal\n"
       ]
      },
      {
       "metadata": {},
       "output_type": "pyout",
       "prompt_number": 28,
       "text": [
        "6.7762635780344027125465800054371356964111328125e-21 with 256 bits of precision"
       ]
      }
     ],
     "prompt_number": 28
    },
    {
     "cell_type": "code",
     "collapsed": false,
     "input": [
      "ieee(16.000000000000004)"
     ],
     "language": "python",
     "metadata": {},
     "outputs": [
      {
       "output_type": "stream",
       "stream": "stdout",
       "text": [
        "El n\u00famero 16.000000000000004 es normal\n",
        "El signo es, \u03c3=0\n",
        "Los 11 bits del exponente son:10000000011, donde en base 10 e=4.0\n",
        "La mantisa es:0000000000000000000000000000000000000000000000000001 que en base 10 es: (1.0000000000000002)\n",
        "La funci\u00f3n corri\u00f3 sin problemas.\n"
       ]
      }
     ],
     "prompt_number": 29
    },
    {
     "cell_type": "code",
     "collapsed": false,
     "input": [
      "flotaf(0,\"0000000000000000000000000000000000000000000000000001\",\"10000000011\")"
     ],
     "language": "python",
     "metadata": {},
     "outputs": [
      {
       "output_type": "stream",
       "stream": "stdout",
       "text": [
        "El n\u00famero es normal\n"
       ]
      },
      {
       "metadata": {},
       "output_type": "pyout",
       "prompt_number": 30,
       "text": [
        "1.6000000000000003552713678800500929355621337890625e+01 with 256 bits of precision"
       ]
      }
     ],
     "prompt_number": 30
    },
    {
     "cell_type": "code",
     "collapsed": false,
     "input": [
      "flota(0,\"0000000000000000000000000000000000000000000000000001\",\"10000000011\")"
     ],
     "language": "python",
     "metadata": {},
     "outputs": [
      {
       "output_type": "stream",
       "stream": "stdout",
       "text": [
        "El n\u00famero es normal\n"
       ]
      },
      {
       "metadata": {},
       "output_type": "pyout",
       "prompt_number": 31,
       "text": [
        "16.000000000000004"
       ]
      }
     ],
     "prompt_number": 31
    },
    {
     "cell_type": "code",
     "collapsed": false,
     "input": [
      "big(0.1000000000000000055511151231257827021181583404541015625)-big(0.1)"
     ],
     "language": "python",
     "metadata": {},
     "outputs": [
      {
       "metadata": {},
       "output_type": "pyout",
       "prompt_number": 32,
       "text": [
        "0e+00 with 256 bits of precision"
       ]
      }
     ],
     "prompt_number": 32
    },
    {
     "cell_type": "code",
     "collapsed": false,
     "input": [
      "flotaf(0,\"1001100110011001100110011001100110011001100110011001\",\"01111111011\")-big(0.1)"
     ],
     "language": "python",
     "metadata": {},
     "outputs": [
      {
       "output_type": "stream",
       "stream": "stdout",
       "text": [
        "El n\u00famero es normal\n"
       ]
      },
      {
       "metadata": {},
       "output_type": "pyout",
       "prompt_number": 33,
       "text": [
        "-1.387778780781445675529539585113525390625e-17 with 256 bits of precision"
       ]
      }
     ],
     "prompt_number": 33
    },
    {
     "cell_type": "code",
     "collapsed": false,
     "input": [
      "d2bf(10)"
     ],
     "language": "python",
     "metadata": {},
     "outputs": [
      {
       "metadata": {},
       "output_type": "pyout",
       "prompt_number": 34,
       "text": [
        "\"1010.0\""
       ]
      }
     ],
     "prompt_number": 34
    },
    {
     "cell_type": "code",
     "collapsed": false,
     "input": [
      "ieee(10.1)"
     ],
     "language": "python",
     "metadata": {},
     "outputs": [
      {
       "output_type": "stream",
       "stream": "stdout",
       "text": [
        "El n\u00famero "
       ]
      },
      {
       "output_type": "stream",
       "stream": "stdout",
       "text": [
        "10.1 es normal\n",
        "El signo es, \u03c3=0\n",
        "Los 11 bits del exponente son:10000000010, donde en base 10 e=3.0\n",
        "La mantisa es:0100001100110011001100110011001100110011001100110011 que en base 10 es: (1.2625)\n",
        "La funci\u00f3n corri\u00f3 sin problemas.\n"
       ]
      }
     ],
     "prompt_number": 35
    },
    {
     "cell_type": "code",
     "collapsed": false,
     "input": [
      "d2b(100)"
     ],
     "language": "python",
     "metadata": {},
     "outputs": [
      {
       "metadata": {},
       "output_type": "pyout",
       "prompt_number": 36,
       "text": [
        "\"1100100\""
       ]
      }
     ],
     "prompt_number": 36
    },
    {
     "cell_type": "code",
     "collapsed": false,
     "input": [
      "b2df(\"1.1\")\n"
     ],
     "language": "python",
     "metadata": {},
     "outputs": [
      {
       "metadata": {},
       "output_type": "pyout",
       "prompt_number": 37,
       "text": [
        "1.5"
       ]
      }
     ],
     "prompt_number": 37
    },
    {
     "cell_type": "code",
     "collapsed": false,
     "input": [
      "ieee(0.5)"
     ],
     "language": "python",
     "metadata": {},
     "outputs": [
      {
       "output_type": "stream",
       "stream": "stdout",
       "text": [
        "El n\u00famero 0."
       ]
      },
      {
       "output_type": "stream",
       "stream": "stdout",
       "text": [
        "5 es normal\n",
        "El signo es, \u03c3=0\n",
        "Los 11 bits del exponente son:01111111110, donde en base 10 e=-1.0\n",
        "La mantisa es:0000000000000000000000000000000000000000000000000000 que en base 10 es: (1.0)\n",
        "La funci\u00f3n corri\u00f3 sin problemas.\n"
       ]
      }
     ],
     "prompt_number": 38
    },
    {
     "cell_type": "code",
     "collapsed": false,
     "input": [
      "flota(0,\"0000000000000000000000000000000000000000000000000001\",\"01111111110\")"
     ],
     "language": "python",
     "metadata": {},
     "outputs": [
      {
       "output_type": "stream",
       "stream": "stdout",
       "text": [
        "El n\u00famero es normal\n"
       ]
      },
      {
       "metadata": {},
       "output_type": "pyout",
       "prompt_number": 39,
       "text": [
        "0.5000000000000001"
       ]
      }
     ],
     "prompt_number": 39
    },
    {
     "cell_type": "code",
     "collapsed": false,
     "input": [
      "1+0.5000000000000001"
     ],
     "language": "python",
     "metadata": {},
     "outputs": [
      {
       "metadata": {},
       "output_type": "pyout",
       "prompt_number": 40,
       "text": [
        "1.5"
       ]
      }
     ],
     "prompt_number": 40
    },
    {
     "cell_type": "code",
     "collapsed": false,
     "input": [
      "d2bf(0.125/2)"
     ],
     "language": "python",
     "metadata": {},
     "outputs": [
      {
       "metadata": {},
       "output_type": "pyout",
       "prompt_number": 41,
       "text": [
        "\"0.0001\""
       ]
      }
     ],
     "prompt_number": 41
    },
    {
     "cell_type": "code",
     "collapsed": false,
     "input": [
      "0.125/2"
     ],
     "language": "python",
     "metadata": {},
     "outputs": [
      {
       "metadata": {},
       "output_type": "pyout",
       "prompt_number": 42,
       "text": [
        "0.0625"
       ]
      }
     ],
     "prompt_number": 42
    },
    {
     "cell_type": "code",
     "collapsed": false,
     "input": [
      "b2df(\"0.11111\")"
     ],
     "language": "python",
     "metadata": {},
     "outputs": [
      {
       "metadata": {},
       "output_type": "pyout",
       "prompt_number": 46,
       "text": [
        "0.96875"
       ]
      }
     ],
     "prompt_number": 46
    },
    {
     "cell_type": "code",
     "collapsed": false,
     "input": [
      "d2bf(0.35)"
     ],
     "language": "python",
     "metadata": {},
     "outputs": [
      {
       "metadata": {},
       "output_type": "pyout",
       "prompt_number": 48,
       "text": [
        "\"0.01011001100110011001100110011001100110011001100110011\""
       ]
      }
     ],
     "prompt_number": 48
    },
    {
     "cell_type": "code",
     "collapsed": false,
     "input": [],
     "language": "python",
     "metadata": {},
     "outputs": []
    }
   ],
   "metadata": {}
  }
 ]
}
{
 "metadata": {
  "language": "Julia",
  "name": "",
  "signature": "sha256:d73a2a112dbe050e0028ee970ee5953abb3beb48dde566ce5aa3c39975a654c4"
 },
 "nbformat": 3,
 "nbformat_minor": 0,
 "worksheets": [
  {
   "cells": [
    {
     "cell_type": "heading",
     "level": 3,
     "metadata": {},
     "source": [
      "Notebook 11. Intervalos multidimensionales"
     ]
    },
    {
     "cell_type": "markdown",
     "metadata": {},
     "source": [
      "[1] \u00bfCu\u00e1l ser\u00eda una definici\u00f3n matem\u00e1tica razonable de un intervalo multi-dimensional?"
     ]
    },
    {
     "cell_type": "markdown",
     "metadata": {},
     "source": [
      "Como un vector pero donde cada entrada tiene un intervalo en vez de un n\u00famero. $$ (x_1, x_2, x_3, \\dots x_n),$$ donde,  $$x_i=[a_i, b_i].$$"
     ]
    },
    {
     "cell_type": "code",
     "collapsed": false,
     "input": [
      "using Intervalos"
     ],
     "language": "python",
     "metadata": {},
     "outputs": [],
     "prompt_number": 1
    },
    {
     "cell_type": "markdown",
     "metadata": {},
     "source": [
      "--------------\n",
      "[2] \u00bfC\u00f3mo podr\u00edamos expresar esto en Julia? Da dos posibilidades.\n",
      "\n",
      "[Pista: Checa `typealias`]"
     ]
    },
    {
     "cell_type": "markdown",
     "metadata": {},
     "source": [
      "Antes que nada es importante mencionar que para Julia es lo mismo un arreglo de una dimensi\u00f3n que un vector. Con esto me refiero a que `Vector` es un `typealias` de un arreglo `Array{1}`. An\u00e1logamente `Matrix` es un `typealias` de `Array{2}`.\n",
      "\n",
      "**Nota:** Aqu\u00ed con dimensi\u00f3n me refiero al orden del arreglo no a la dimensionalidad  del $\\mathbb{R}^n$ en el que vive el arreglo. Esto es, en lenguaje Julia, un vector es un arreglo de una dimensi\u00f3n y una matriz es de dos dimensiones, independientemente del n\u00famero de elementos que pueda tener cada uno de ellos.\n",
      "\n",
      "A continuaci\u00f3n se demuestra eso."
     ]
    },
    {
     "cell_type": "code",
     "collapsed": false,
     "input": [
      "Array{Int64, 1} == Vector{Int64}"
     ],
     "language": "python",
     "metadata": {},
     "outputs": [
      {
       "metadata": {},
       "output_type": "pyout",
       "prompt_number": 2,
       "text": [
        "true"
       ]
      }
     ],
     "prompt_number": 2
    },
    {
     "cell_type": "code",
     "collapsed": false,
     "input": [
      "Array{Int64, 2} == Matrix{Int64}"
     ],
     "language": "python",
     "metadata": {},
     "outputs": [
      {
       "metadata": {},
       "output_type": "pyout",
       "prompt_number": 3,
       "text": [
        "true"
       ]
      }
     ],
     "prompt_number": 3
    },
    {
     "cell_type": "markdown",
     "metadata": {},
     "source": [
      "Con esto se puede ver que podr\u00e1 haber diferentes maneras de escribir el mismo objeto, en este caso, el intervalo multidimensional.\n",
      "\n",
      "Una forma es la siguiente:"
     ]
    },
    {
     "cell_type": "code",
     "collapsed": false,
     "input": [
      "In=Intervalo[]"
     ],
     "language": "python",
     "metadata": {},
     "outputs": [
      {
       "metadata": {},
       "output_type": "pyout",
       "prompt_number": 4,
       "text": [
        "0-element Array{Intervalo,1}"
       ]
      }
     ],
     "prompt_number": 4
    },
    {
     "cell_type": "markdown",
     "metadata": {},
     "source": [
      "O lo que es lo mismo:"
     ]
    },
    {
     "cell_type": "code",
     "collapsed": false,
     "input": [
      "vI=[Intervalo(1,2), Intervalo(3,2)]"
     ],
     "language": "python",
     "metadata": {},
     "outputs": [
      {
       "metadata": {},
       "output_type": "pyout",
       "prompt_number": 5,
       "text": [
        "2-element Array{Intervalo,1}:\n",
        " (1e+00, 2e+00)\n",
        " (3e+00, 2e+00)"
       ]
      }
     ],
     "prompt_number": 5
    },
    {
     "cell_type": "markdown",
     "metadata": {},
     "source": [
      "Una manera r\u00e1pida es utilizar `typealias`, tomar los arreglos de una dimensi\u00f3n cuyas entradas son intervalos y renombrarlos como intervalos vectoriales. Esto es:"
     ]
    },
    {
     "cell_type": "code",
     "collapsed": false,
     "input": [
      "typealias IntervaloVector{} Array{Intervalo,1}"
     ],
     "language": "python",
     "metadata": {},
     "outputs": [
      {
       "metadata": {},
       "output_type": "pyout",
       "prompt_number": 6,
       "text": [
        "Array{Intervalo,1}"
       ]
      }
     ],
     "prompt_number": 6
    },
    {
     "cell_type": "markdown",
     "metadata": {},
     "source": [
      "Y se verifica que ya es lo mismo."
     ]
    },
    {
     "cell_type": "code",
     "collapsed": false,
     "input": [
      "Array{Intervalo,1}==IntervaloVector{}"
     ],
     "language": "python",
     "metadata": {},
     "outputs": [
      {
       "metadata": {},
       "output_type": "pyout",
       "prompt_number": 7,
       "text": [
        "true"
       ]
      }
     ],
     "prompt_number": 7
    },
    {
     "cell_type": "code",
     "collapsed": false,
     "input": [
      "Vector{Intervalo}==IntervaloVector{}"
     ],
     "language": "python",
     "metadata": {},
     "outputs": [
      {
       "metadata": {},
       "output_type": "pyout",
       "prompt_number": 8,
       "text": [
        "true"
       ]
      }
     ],
     "prompt_number": 8
    },
    {
     "cell_type": "code",
     "collapsed": false,
     "input": [
      "[1,2,3,4]"
     ],
     "language": "python",
     "metadata": {},
     "outputs": [
      {
       "metadata": {},
       "output_type": "pyout",
       "prompt_number": 9,
       "text": [
        "4-element Array{Int64,1}:\n",
        " 1\n",
        " 2\n",
        " 3\n",
        " 4"
       ]
      }
     ],
     "prompt_number": 9
    },
    {
     "cell_type": "markdown",
     "metadata": {},
     "source": [
      "An\u00e1logamente, para matrices se hace:"
     ]
    },
    {
     "cell_type": "code",
     "collapsed": false,
     "input": [
      "typealias IntervaloMatrix{} Array{Intervalo,2}"
     ],
     "language": "python",
     "metadata": {},
     "outputs": [
      {
       "metadata": {},
       "output_type": "pyout",
       "prompt_number": 10,
       "text": [
        "Array{Intervalo,2}"
       ]
      }
     ],
     "prompt_number": 10
    },
    {
     "cell_type": "markdown",
     "metadata": {},
     "source": [
      "O en general se puede definir un intervalo de la dimensi\u00f3n que sea:"
     ]
    },
    {
     "cell_type": "code",
     "collapsed": false,
     "input": [
      "typealias IntervaloArray{N} Array{Intervalo,N}"
     ],
     "language": "python",
     "metadata": {},
     "outputs": [
      {
       "metadata": {},
       "output_type": "pyout",
       "prompt_number": 11,
       "text": [
        "Array{Intervalo,N}"
       ]
      }
     ],
     "prompt_number": 11
    },
    {
     "cell_type": "markdown",
     "metadata": {},
     "source": [
      "-------------\n",
      "[3] \u00bfCu\u00e1les operaciones matem\u00e1ticas necesitaremos definir sobre los intervalos multi-dimensionales? Implem\u00e9ntalos en un m\u00f3dulo. \u00bfCu\u00e1l de las dos definiciones resulta m\u00e1s \u00fatil en ese respecto?"
     ]
    },
    {
     "cell_type": "markdown",
     "metadata": {},
     "source": [
      "Toda la aritm\u00e9tica entre intervalos vectoriales ya esta definida porque se hereda de la que Julia ya incluye para vectores. Estas operaciones son:\n",
      "\n",
      "- Suma (`+`)\n",
      "- Resta (`-`)\n",
      "- Producto interior (`dot()`)\n",
      "- Muchas m\u00e1s que ni se si vayan a servir de algo en intervalos multidimensionales. \n",
      "\n",
      "Las operaciones que hay que checar son aquellas que implican operaciones entre intervalos vectoriales y escalares.\n",
      "\n",
      "Como el producto punto, que a continuaci\u00f3n se checa:"
     ]
    },
    {
     "cell_type": "code",
     "collapsed": false,
     "input": [
      "x=[Intervalo(1,2),Intervalo(2,3)]\n",
      "y=[Intervalo(1,3),Intervalo(-3-2)]\n",
      "M=cat(2,x,y)"
     ],
     "language": "python",
     "metadata": {},
     "outputs": [
      {
       "metadata": {},
       "output_type": "pyout",
       "prompt_number": 12,
       "text": [
        "2x2 Array{Intervalo,2}:\n",
        " (1e+00, 2e+00)  (1e+00, 3e+00)  \n",
        " (2e+00, 3e+00)  (-5e+00, -5e+00)"
       ]
      }
     ],
     "prompt_number": 12
    },
    {
     "cell_type": "code",
     "collapsed": false,
     "input": [
      "function *(x::IntervaloVector,c::Number)\n",
      "    p=Intervalo[]\n",
      "    for i=1:length(x)\n",
      "        y=c*x[i]\n",
      "        p=push!(p,y)\n",
      "    end\n",
      "    p\n",
      "end\n",
      "    \n",
      "function *(c::Number, x::IntervaloVector)\n",
      "    p=Intervalo[]\n",
      "    for i=1:length(x)\n",
      "        y=c*x[i]\n",
      "        p=push!(p,y)\n",
      "    end\n",
      "    p\n",
      "end\n",
      "\n",
      "function /(x::IntervaloVector,c::Number)\n",
      "    p=Intervalo[]\n",
      "    for i=1:length(x)\n",
      "        y=x[i]/c\n",
      "        p=push!(p,y)\n",
      "    end\n",
      "    p\n",
      "end\n",
      "    "
     ],
     "language": "python",
     "metadata": {},
     "outputs": [
      {
       "metadata": {},
       "output_type": "pyout",
       "prompt_number": 13,
       "text": [
        "/ (generic function with 49 methods)"
       ]
      }
     ],
     "prompt_number": 13
    },
    {
     "cell_type": "code",
     "collapsed": false,
     "input": [
      "-3*x"
     ],
     "language": "python",
     "metadata": {},
     "outputs": [
      {
       "metadata": {},
       "output_type": "pyout",
       "prompt_number": 14,
       "text": [
        "2-element Array{Intervalo,1}:\n",
        " (-6e+00, -3e+00)\n",
        " (-9e+00, -6e+00)"
       ]
      }
     ],
     "prompt_number": 14
    },
    {
     "cell_type": "code",
     "collapsed": false,
     "input": [
      "x*(-3)"
     ],
     "language": "python",
     "metadata": {},
     "outputs": [
      {
       "metadata": {},
       "output_type": "pyout",
       "prompt_number": 15,
       "text": [
        "2-element Array{Intervalo,1}:\n",
        " (-6e+00, -3e+00)\n",
        " (-9e+00, -6e+00)"
       ]
      }
     ],
     "prompt_number": 15
    },
    {
     "cell_type": "code",
     "collapsed": false,
     "input": [
      "(9*x)/(-3)"
     ],
     "language": "python",
     "metadata": {},
     "outputs": [
      {
       "metadata": {},
       "output_type": "pyout",
       "prompt_number": 16,
       "text": [
        "2-element Array{Intervalo,1}:\n",
        " (-6e+00, -3e+00)\n",
        " (-9e+00, -6e+00)"
       ]
      }
     ],
     "prompt_number": 16
    },
    {
     "cell_type": "markdown",
     "metadata": {},
     "source": [
      "Adicionalmente defino el vector unitario y el vector cero. Esto lo hago a\u00f1adiendo un nuevo m\u00e9todo a las funciones `ones(T,n)`y `zeros(T,n)`.\n",
      "\n",
      "Estas funciones generan un vector con puros ceros o unos, con longitud `n` y donde el tipo de los elementos del vector corresponde a `T`."
     ]
    },
    {
     "cell_type": "code",
     "collapsed": false,
     "input": [
      "import Base.ones\n",
      "import Base.zeros\n",
      "function ones(::Type{Intervalo}, n::Integer)\n",
      "    one=Intervalo[]\n",
      "    for i=1:n\n",
      "        one=push!(one,Intervalo(1))\n",
      "    end\n",
      "    one\n",
      "end\n",
      "\n",
      "function zeros(::Type{Intervalo}, n::Integer)\n",
      "    zero=Intervalo[]\n",
      "    for i=1:n\n",
      "        zero=push!(zero,Intervalo(0))\n",
      "    end\n",
      "    zero\n",
      "end\n"
     ],
     "language": "python",
     "metadata": {},
     "outputs": [
      {
       "metadata": {},
       "output_type": "pyout",
       "prompt_number": 31,
       "text": [
        "zeros (generic function with 4 methods)"
       ]
      }
     ],
     "prompt_number": 31
    },
    {
     "cell_type": "markdown",
     "metadata": {},
     "source": [
      "Ejemplos de como se usan estas funciones se muestran a continuaci\u00f3n:"
     ]
    },
    {
     "cell_type": "code",
     "collapsed": false,
     "input": [
      "ones(Intervalo,3)"
     ],
     "language": "python",
     "metadata": {},
     "outputs": [
      {
       "metadata": {},
       "output_type": "pyout",
       "prompt_number": 32,
       "text": [
        "3-element Array{Intervalo,1}:\n",
        " (1e+00, 1e+00)\n",
        " (1e+00, 1e+00)\n",
        " (1e+00, 1e+00)"
       ]
      }
     ],
     "prompt_number": 32
    },
    {
     "cell_type": "code",
     "collapsed": false,
     "input": [
      "zeros(Intervalo,3)"
     ],
     "language": "python",
     "metadata": {},
     "outputs": [
      {
       "metadata": {},
       "output_type": "pyout",
       "prompt_number": 33,
       "text": [
        "3-element Array{Intervalo,1}:\n",
        " (0e+00, 0e+00)\n",
        " (0e+00, 0e+00)\n",
        " (0e+00, 0e+00)"
       ]
      }
     ],
     "prompt_number": 33
    },
    {
     "cell_type": "markdown",
     "metadata": {},
     "source": [
      "------------\n",
      "[4] Considera la funci\u00f3n $f: \\mathbb{R}^2 \\to \\mathbb{R}^2$, dada por $f(x,y) = \\mathsf{M} \\cdot \\mathbf{x}$, con $\\mathsf{M} = \\begin{pmatrix} 2 & 1 \\\\ 1 & 1 \\end{pmatrix}$.\n",
      "\n",
      "(i) Encuentra a mano la imagen del cuadrado unitario. Encuentra el intervalo multi-dimensional m\u00e1s peque\u00f1o que contiene este conjunto.\n"
     ]
    },
    {
     "cell_type": "markdown",
     "metadata": {},
     "source": [
      "El cuadrado unitario es $\\mathbf{x}=([0,1],[0,1])$, que al multiplicarlo por $\\mathsf{M}$ da: $$\\mathsf{M} \\cdot \\mathbf{x}=\\begin{pmatrix} 2 & 1 \\\\ 1 & 1 \\end{pmatrix} \\cdot \\begin{pmatrix} [0,1] \\\\ [0,1] \\end{pmatrix}= \\begin{pmatrix} 2*[0,1] + [0,1] \\\\ [0,1]+[0,1] \\end{pmatrix}= \\begin{pmatrix} [0,3] \\\\ [0,2] \\end{pmatrix}$$"
     ]
    },
    {
     "cell_type": "markdown",
     "metadata": {},
     "source": [
      "El cuadrado unitario se va al rect\u00e1ngulo que esta en el eje x en el intervalo $[0,3]$ y en el eje y en el intervalo $[0,2]$."
     ]
    },
    {
     "cell_type": "markdown",
     "metadata": {},
     "source": [
      "(ii) Verifica el resultado con tu c\u00f3digo."
     ]
    },
    {
     "cell_type": "code",
     "collapsed": false,
     "input": [
      "M=[2 1;1 1]\n",
      "x=[Intervalo(0,1),Intervalo(0,1)]"
     ],
     "language": "python",
     "metadata": {},
     "outputs": [
      {
       "metadata": {},
       "output_type": "pyout",
       "prompt_number": 34,
       "text": [
        "2-element Array{Intervalo,1}:\n",
        " (0e+00, 1e+00)\n",
        " (0e+00, 1e+00)"
       ]
      }
     ],
     "prompt_number": 34
    },
    {
     "cell_type": "code",
     "collapsed": false,
     "input": [
      "M*x"
     ],
     "language": "python",
     "metadata": {},
     "outputs": [
      {
       "ename": "LoadError",
       "evalue": "`zero` has no method matching zero(::Type{Any})\nwhile loading In[35], in expression starting on line 1",
       "output_type": "pyerr",
       "traceback": [
        "`zero` has no method matching zero(::Type{Any})\nwhile loading In[35], in expression starting on line 1",
        "",
        " in generic_matvecmul! at linalg/matmul.jl:317",
        " in * at linalg/matmul.jl:72"
       ]
      }
     ],
     "prompt_number": 35
    },
    {
     "cell_type": "markdown",
     "metadata": {},
     "source": [
      "Y... no sale."
     ]
    },
    {
     "cell_type": "markdown",
     "metadata": {},
     "source": [
      "(iii) \u00bfCu\u00e1l es el problema que ocurre? \u00bfC\u00f3mo lo podr\u00edamos resolver? Implem\u00e9ntalo."
     ]
    },
    {
     "cell_type": "markdown",
     "metadata": {},
     "source": [
      "El mensaje de error desplegado parece indicar que existe una funci\u00f3n llamada `zero` que se utiliza con la funci\u00f3n `*` entre un arreglo matricial y uno vectorial.\n",
      "\n",
      "Primero hay que investigar m\u00e1s acerca de dicha funci\u00f3n `zero`."
     ]
    },
    {
     "cell_type": "code",
     "collapsed": false,
     "input": [
      "?(zero)"
     ],
     "language": "python",
     "metadata": {},
     "outputs": [
      {
       "output_type": "stream",
       "stream": "stderr",
       "text": [
        "INFO: Loading help data...\n"
       ]
      },
      {
       "output_type": "stream",
       "stream": "stdout",
       "text": [
        "Base.zero(x)\n",
        "\n",
        "   Get the additive identity element for the type of x (x can also\n",
        "   specify the type itself).\n"
       ]
      }
     ],
     "prompt_number": 36
    },
    {
     "cell_type": "markdown",
     "metadata": {},
     "source": [
      "Esto dice que la funci\u00f3n `zero(x)` es el neutro aditivo del tipo de `x`. En este caso no interesar\u00eda tener un neutro aditivo para el tipo `Any` (que es el que marca el error) y de una vez el del tipo `Intervalo`, para completar su m\u00f3dulo de operaciones."
     ]
    },
    {
     "cell_type": "code",
     "collapsed": false,
     "input": [
      "Base.zero(::Type{Intervalo}) = Intervalo(0)\n",
      "Base.zero(::Type{Any}) = 0"
     ],
     "language": "python",
     "metadata": {},
     "outputs": [
      {
       "metadata": {},
       "output_type": "pyout",
       "prompt_number": 37,
       "text": [
        "zero (generic function with 14 methods)"
       ]
      }
     ],
     "prompt_number": 37
    },
    {
     "cell_type": "markdown",
     "metadata": {},
     "source": [
      "Regresando a la operaci\u00f3n que se quer\u00eda calcular:"
     ]
    },
    {
     "cell_type": "code",
     "collapsed": false,
     "input": [
      "M*x"
     ],
     "language": "python",
     "metadata": {},
     "outputs": [
      {
       "metadata": {},
       "output_type": "pyout",
       "prompt_number": 38,
       "text": [
        "2-element Array{Any,1}:\n",
        " (0e+00, 3e+00)\n",
        " (0e+00, 2e+00)"
       ]
      }
     ],
     "prompt_number": 38
    },
    {
     "cell_type": "markdown",
     "metadata": {},
     "source": [
      "Que coincide con el resultado que se obtuvo a mano en (i)."
     ]
    },
    {
     "cell_type": "markdown",
     "metadata": {},
     "source": [
      "-------------------\n",
      "\n",
      "[5] Haz lo mismo para la imagen del cuadrado unitario bajo la funci\u00f3n \n",
      "\n",
      "$$ \\begin{pmatrix} x \\\\ y \\end{pmatrix} \\mapsto \n",
      "\\begin{pmatrix} 1 - ax^2 + y \\\\ b x \\end{pmatrix},$$\n",
      "\n",
      "con $a = 1.4$ y $b=0.3$ (el famoso \"mapeo de H\u00e9non\")."
     ]
    },
    {
     "cell_type": "code",
     "collapsed": false,
     "input": [
      "function henon(x::IntervaloVector{})\n",
      "    a=1.4\n",
      "    b=0.3\n",
      "    [1-a*x[1]^2+x[2], b*x[1]]\n",
      "end"
     ],
     "language": "python",
     "metadata": {},
     "outputs": [
      {
       "metadata": {},
       "output_type": "pyout",
       "prompt_number": 39,
       "text": [
        "henon (generic function with 1 method)"
       ]
      }
     ],
     "prompt_number": 39
    },
    {
     "cell_type": "code",
     "collapsed": false,
     "input": [
      "x=[Intervalo(0,1),Intervalo(0,1)]\n",
      "henon(x)"
     ],
     "language": "python",
     "metadata": {},
     "outputs": [
      {
       "metadata": {},
       "output_type": "pyout",
       "prompt_number": 40,
       "text": [
        "2-element Array{Intervalo,1}:\n",
        " (-4.000000000000000000000000000000000000000000000000000000000000000000000000000354e-01, 2e+00)\n",
        " (0e+00, 3.000000000000000000000000000000000000000000000000000000000000000000000000000017e-01) "
       ]
      }
     ],
     "prompt_number": 40
    },
    {
     "cell_type": "markdown",
     "metadata": {},
     "source": [
      "Y listo, ya esta el mapeo de Hen\u00f3n que manda al cuadrado unitario a un rect\u00e1ngulo que va de -0.4 a 2 en el eje x y de 0 a 0.3 en el eje y.\n",
      "\n",
      "Habr\u00e1 que graficar para ver que carateristicas interesantes tiene este mapeo."
     ]
    }
   ],
   "metadata": {}
  }
 ]
}